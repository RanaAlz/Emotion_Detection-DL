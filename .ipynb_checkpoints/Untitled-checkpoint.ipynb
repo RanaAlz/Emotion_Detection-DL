{
 "cells": [
  {
   "cell_type": "code",
   "execution_count": null,
   "id": "67e7cd42",
   "metadata": {},
   "outputs": [],
   "source": []
  },
  {
   "cell_type": "markdown",
   "id": "6fc28e40",
   "metadata": {},
   "source": [
    "1. Imports\n",
    "2. BaseLine\n",

    "3. HyperParameters(GridSearch)\n",
    "4. Data Loading and Preprocessing\n",
    "5. DenseNet169 Model\n",
    '6. DenseNet169 Model'
    "6. Training and Fine Tuning\n",
    "7. Visualizing Results\n",
    "8. build app\n",
    "\n",
    "we waint use mean absolute error , mse,mae"
   ]
  },
  {
   "cell_type": "markdown",
   "id": "ae14d216",
   "metadata": {},
   "source": [
    "# 1.Imports"
   ]
  },
  {
   "cell_type": "code",
   "execution_count": 1,
   "id": "c3b513e6",
   "metadata": {},
   "outputs": [],
   "source": [
    "#pip install plotly"
   ]
  },
  
  {
   "cell_type": "markdown",
   "id": "7a686758",
   "metadata": {},
   "source": [
    "# 2.HyperParameters(GridSearch)"
   ]
  },
  {
   "cell_type": "code",
   "execution_count": null,
   "id": "d22f8646",
   "metadata": {},
   "outputs": [],
   "source": []
  },
  {
   "cell_type": "markdown",
   "id": "2f09b4f2",
   "metadata": {},
   "source": [
    "# 3.Data Loading and Preprocessing"
   ]
  },
  {
   "cell_type": "markdown",
   "id": "9e066783",
   "metadata": {},
   "source": [
    "# 4. DenseNet169 Model"
   ]
  },
  {
   "cell_type": "markdown",
   "id": "86e3e36d",
   "metadata": {},
   "source": [
    "# 5. Training and Fine Tuning"
   ]
  },
  {
   "cell_type": "markdown",
   "id": "b5291606",
   "metadata": {},
   "source": [
    "# 6. Visualizing Results"
   ]
  }
 ],
 "metadata": {
  "kernelspec": {
   "display_name": "Python 3",
   "language": "python",
   "name": "python3"
  },
  "language_info": {
   "codemirror_mode": {
    "name": "ipython",
    "version": 3
   },
   "file_extension": ".py",
   "mimetype": "text/x-python",
   "name": "python",
   "nbconvert_exporter": "python",
   "pygments_lexer": "ipython3",
   "version": "3.8.8"
  }
 },
 "nbformat": 4,
 "nbformat_minor": 5
}

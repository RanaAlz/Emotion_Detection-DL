{
 "cells": [
  {
   "cell_type": "markdown",
   "id": "ea89cde4",
   "metadata": {},
   "source": [
    "# Facial Emotion Recognition"
   ]
  },
  {
   "cell_type": "markdown",
   "id": "0d637f92",
   "metadata": {},
   "source": [
    "#### Table of Contents:"
   ]
  },
  {
   "cell_type": "markdown",
   "id": "54b138b9",
   "metadata": {},
   "source": [
    "1. [Library Imports](#Library-Imports)\n",
    "2. [Data Reading & Splitting](#Data-Reading-and-Splitting)\n",
    "3. [Data Visualization](#Data-Visualization)\n",
    "4. [Exploratory Data Analysis](#EDA)\n",
    "5. [Data Augmentation](#Data-Augmentation)\n",
    "6. [Model Metrics](#Model-Metrics)\n",
    "7. [Model Training](#Model-Training)\n",
    " - [Logistic Regression Baseline](#Logistic-Regression-Baseline)\n",
    " - [Simple Neural Network Baseline](#Simple-Neural-Network-Baseline)\n",
    " - [Simple Convolutional Neural Network Baseline](#Simple-Convolutional-Neural-Network-Baseline)\n",
    " - [Convolutional Neural Network](#Convolutional-Neural-Network-Model)\n",
    " - [Transfer Learning](#Transfer-Learning)"
   ]
  },
  {
   "cell_type": "markdown",
   "id": "688f667a",
   "metadata": {},
   "source": [
    "### Library Imports"
   ]
  },
  {
   "cell_type": "code",
   "execution_count": 1,
   "id": "968961aa",
   "metadata": {},
   "outputs": [],
   "source": [
    "import os\n",
    "#import cv2\n",
    "import random\n",
    "import numpy as np\n",
    "import pandas as pd\n",
    "import seaborn as sns\n",
    "import tensorflow as tf\n",
    "from tensorflow import keras\n",
    "import matplotlib.pyplot as plt\n",
    "import matplotlib.image as mpimg\n",
    "from keras.models import Sequential\n",
    "from tensorflow.keras import regularizers as reg\n",
    "from tensorflow.keras.optimizers import SGD, Adam\n",
    "from tensorflow.keras.utils import to_categorical\n",
    "from tensorflow.keras.applications.densenet import DenseNet169\n",
    "from tensorflow.keras.applications.vgg16 import VGG16\n",
    "from tensorflow.keras.applications.vgg19 import VGG19\n",
    "from tensorflow.keras.applications.resnet50 import ResNet50\n",
    "from tensorflow.keras.applications.inception_v3 import InceptionV3\n",
    "from tensorflow.keras.callbacks import EarlyStopping, ReduceLROnPlateau\n",
    "from sklearn.metrics import accuracy_score, confusion_matrix, classification_report\n",
    "from keras import regularizers\n",
    "from keras.layers import Dense, Conv2D, MaxPooling2D, ZeroPadding2D, Flatten, GlobalAveragePooling2D, InputLayer, Dropout, SpatialDropout2D, BatchNormalization, Resizing, Rescaling, RandomFlip, RandomRotation"
   ]
  },
  {
   "cell_type": "code",
   "execution_count": 2,
   "id": "da4c92bf",
   "metadata": {},
   "outputs": [
    {
     "name": "stdout",
     "output_type": "stream",
     "text": [
      "Num GPUs Available:  0\n"
     ]
    }
   ],
   "source": [
    "print(\"Num GPUs Available: \", len(tf.config.list_physical_devices('GPU')))"
   ]
  },
  {
   "cell_type": "markdown",
   "id": "ec748acd",
   "metadata": {},
   "source": [
    "### Data Reading and Splitting"
   ]
  },
  {
   "cell_type": "code",
   "execution_count": 5,
   "id": "509eefef",
   "metadata": {},
   "outputs": [],
   "source": [
    "import numpy as np\n",
    "import pandas as pd\n",
    "import os\n",
    "import warnings\n",
    "warnings.filterwarnings('ignore')\n",
    "\n",
    "# defining dir variables \n",
    "root_dir = 'Data/'\n",
    "train_dir = root_dir + 'train/'\n",
    "valid_dir = root_dir + 'valid/'\n",
    "test_dir = root_dir + 'test/'"
   ]
  },
  {
   "cell_type": "code",
   "execution_count": 6,
   "id": "8d8f4b4d",
   "metadata": {},
   "outputs": [
    {
     "ename": "FileNotFoundError",
     "evalue": "[Errno 2] No such file or directory: 'Data/train/'",
     "output_type": "error",
     "traceback": [
      "\u001b[0;31m---------------------------------------------------------------------------\u001b[0m",
      "\u001b[0;31mFileNotFoundError\u001b[0m                         Traceback (most recent call last)",
      "\u001b[0;32m<ipython-input-6-15c692331f87>\u001b[0m in \u001b[0;36m<module>\u001b[0;34m\u001b[0m\n\u001b[1;32m      3\u001b[0m \u001b[0mimg_width\u001b[0m \u001b[0;34m=\u001b[0m \u001b[0;36m180\u001b[0m\u001b[0;34m\u001b[0m\u001b[0;34m\u001b[0m\u001b[0m\n\u001b[1;32m      4\u001b[0m \u001b[0;34m\u001b[0m\u001b[0m\n\u001b[0;32m----> 5\u001b[0;31m train_data = tf.keras.utils.image_dataset_from_directory(\n\u001b[0m\u001b[1;32m      6\u001b[0m     \u001b[0mtrain_dir\u001b[0m\u001b[0;34m,\u001b[0m\u001b[0;34m\u001b[0m\u001b[0;34m\u001b[0m\u001b[0m\n\u001b[1;32m      7\u001b[0m     \u001b[0mimage_size\u001b[0m\u001b[0;34m=\u001b[0m\u001b[0;34m(\u001b[0m\u001b[0mimg_height\u001b[0m\u001b[0;34m,\u001b[0m \u001b[0mimg_width\u001b[0m\u001b[0;34m)\u001b[0m\u001b[0;34m,\u001b[0m\u001b[0;34m\u001b[0m\u001b[0;34m\u001b[0m\u001b[0m\n",
      "\u001b[0;32m~/opt/anaconda3/lib/python3.8/site-packages/keras/preprocessing/image_dataset.py\u001b[0m in \u001b[0;36mimage_dataset_from_directory\u001b[0;34m(directory, labels, label_mode, class_names, color_mode, batch_size, image_size, shuffle, seed, validation_split, subset, interpolation, follow_links, crop_to_aspect_ratio, **kwargs)\u001b[0m\n\u001b[1;32m    188\u001b[0m   \u001b[0;32mif\u001b[0m \u001b[0mseed\u001b[0m \u001b[0;32mis\u001b[0m \u001b[0;32mNone\u001b[0m\u001b[0;34m:\u001b[0m\u001b[0;34m\u001b[0m\u001b[0;34m\u001b[0m\u001b[0m\n\u001b[1;32m    189\u001b[0m     \u001b[0mseed\u001b[0m \u001b[0;34m=\u001b[0m \u001b[0mnp\u001b[0m\u001b[0;34m.\u001b[0m\u001b[0mrandom\u001b[0m\u001b[0;34m.\u001b[0m\u001b[0mrandint\u001b[0m\u001b[0;34m(\u001b[0m\u001b[0;36m1e6\u001b[0m\u001b[0;34m)\u001b[0m\u001b[0;34m\u001b[0m\u001b[0;34m\u001b[0m\u001b[0m\n\u001b[0;32m--> 190\u001b[0;31m   image_paths, labels, class_names = dataset_utils.index_directory(\n\u001b[0m\u001b[1;32m    191\u001b[0m       \u001b[0mdirectory\u001b[0m\u001b[0;34m,\u001b[0m\u001b[0;34m\u001b[0m\u001b[0;34m\u001b[0m\u001b[0m\n\u001b[1;32m    192\u001b[0m       \u001b[0mlabels\u001b[0m\u001b[0;34m,\u001b[0m\u001b[0;34m\u001b[0m\u001b[0;34m\u001b[0m\u001b[0m\n",
      "\u001b[0;32m~/opt/anaconda3/lib/python3.8/site-packages/keras/preprocessing/dataset_utils.py\u001b[0m in \u001b[0;36mindex_directory\u001b[0;34m(directory, labels, formats, class_names, shuffle, seed, follow_links)\u001b[0m\n\u001b[1;32m     64\u001b[0m   \u001b[0;32melse\u001b[0m\u001b[0;34m:\u001b[0m\u001b[0;34m\u001b[0m\u001b[0;34m\u001b[0m\u001b[0m\n\u001b[1;32m     65\u001b[0m     \u001b[0msubdirs\u001b[0m \u001b[0;34m=\u001b[0m \u001b[0;34m[\u001b[0m\u001b[0;34m]\u001b[0m\u001b[0;34m\u001b[0m\u001b[0;34m\u001b[0m\u001b[0m\n\u001b[0;32m---> 66\u001b[0;31m     \u001b[0;32mfor\u001b[0m \u001b[0msubdir\u001b[0m \u001b[0;32min\u001b[0m \u001b[0msorted\u001b[0m\u001b[0;34m(\u001b[0m\u001b[0mos\u001b[0m\u001b[0;34m.\u001b[0m\u001b[0mlistdir\u001b[0m\u001b[0;34m(\u001b[0m\u001b[0mdirectory\u001b[0m\u001b[0;34m)\u001b[0m\u001b[0;34m)\u001b[0m\u001b[0;34m:\u001b[0m\u001b[0;34m\u001b[0m\u001b[0;34m\u001b[0m\u001b[0m\n\u001b[0m\u001b[1;32m     67\u001b[0m       \u001b[0;32mif\u001b[0m \u001b[0mos\u001b[0m\u001b[0;34m.\u001b[0m\u001b[0mpath\u001b[0m\u001b[0;34m.\u001b[0m\u001b[0misdir\u001b[0m\u001b[0;34m(\u001b[0m\u001b[0mos\u001b[0m\u001b[0;34m.\u001b[0m\u001b[0mpath\u001b[0m\u001b[0;34m.\u001b[0m\u001b[0mjoin\u001b[0m\u001b[0;34m(\u001b[0m\u001b[0mdirectory\u001b[0m\u001b[0;34m,\u001b[0m \u001b[0msubdir\u001b[0m\u001b[0;34m)\u001b[0m\u001b[0;34m)\u001b[0m\u001b[0;34m:\u001b[0m\u001b[0;34m\u001b[0m\u001b[0;34m\u001b[0m\u001b[0m\n\u001b[1;32m     68\u001b[0m         \u001b[0msubdirs\u001b[0m\u001b[0;34m.\u001b[0m\u001b[0mappend\u001b[0m\u001b[0;34m(\u001b[0m\u001b[0msubdir\u001b[0m\u001b[0;34m)\u001b[0m\u001b[0;34m\u001b[0m\u001b[0;34m\u001b[0m\u001b[0m\n",
      "\u001b[0;31mFileNotFoundError\u001b[0m: [Errno 2] No such file or directory: 'Data/train/'"
     ]
    }
   ],
   "source": [
    "batch_size = 32\n",
    "img_height = 180\n",
    "img_width = 180\n",
    "\n",
    "train_data = tf.keras.utils.image_dataset_from_directory(\n",
    "    train_dir,\n",
    "    image_size=(img_height, img_width),\n",
    "    batch_size=batch_size)\n",
    "\n",
    "test_data = tf.keras.utils.image_dataset_from_directory(\n",
    "    test_dir,\n",
    "    image_size=(img_height, img_width),\n",
    "    batch_size=batch_size)\n",
    "\n",
    "valid_data = tf.keras.utils.image_dataset_from_directory(\n",
    "    valid_dir,\n",
    "    image_size=(img_height, img_width),\n",
    "    batch_size=batch_size)"
   ]
  },
  {
   "cell_type": "markdown",
   "id": "cfbdaff9",
   "metadata": {},
   "source": [
    "### Data Visualization"
   ]
  },
  {
   "cell_type": "code",
   "execution_count": null,
   "id": "12a2ee01",
   "metadata": {},
   "outputs": [],
   "source": [
    "class_names = train_data.class_names\n",
    "num_classes = len(class_names)\n",
    "print(class_names)"
   ]
  },
  {
   "cell_type": "code",
   "execution_count": null,
   "id": "258eca78",
   "metadata": {},
   "outputs": [],
   "source": [
    "target_var = os.listdir(valid_dir)\n",
    "target_var"
   ]
  },
  {
   "cell_type": "code",
   "execution_count": null,
   "id": "b9822dd9",
   "metadata": {},
   "outputs": [],
   "source": [
    "plt.figure(figsize=(10, 10))\n",
    "for images, labels in train_data.take(1):\n",
    "    for i in range(9):\n",
    "        ax = plt.subplot(3, 3, i + 1)\n",
    "        plt.imshow(images[i].numpy().astype(\"uint8\"))\n",
    "        plt.title(class_names[labels[i]])\n",
    "        plt.axis(\"off\")"
   ]
  },
  {
   "cell_type": "markdown",
   "id": "36494b02",
   "metadata": {},
   "source": [
    "### EDA"
   ]
  },
  {
   "cell_type": "code",
   "execution_count": null,
   "id": "b6759fab",
   "metadata": {
    "scrolled": false
   },
   "outputs": [],
   "source": []
  },
  {
   "cell_type": "code",
   "execution_count": null,
   "id": "9aac6e6b",
   "metadata": {},
   "outputs": [],
   "source": []
  },
  {
   "cell_type": "code",
   "execution_count": null,
   "id": "ff35d9cc",
   "metadata": {},
   "outputs": [],
   "source": []
  },
  {
   "cell_type": "markdown",
   "id": "de84576d",
   "metadata": {},
   "source": [
    "### Data Augmentation"
   ]
  },
  {
   "cell_type": "markdown",
   "id": "718997ad",
   "metadata": {},
   "source": [
    "- Resize the images (180x180)\n",
    "- Scaling/Normalization (1 to 255)\n",
    "- Randomly flip images (Horizontally)\n",
    "- Randomly rotate images (up to 20°)"
   ]
  },
  {
   "cell_type": "code",
   "execution_count": null,
   "id": "622f1027",
   "metadata": {},
   "outputs": [],
   "source": [
    "data_augmentation = Sequential([\n",
    "    Resizing(48, 48),\n",
    "    Rescaling(1./255),\n",
    "    RandomFlip(\"horizontal\"),\n",
    "    RandomRotation(0.2)\n",
    "])"
   ]
  },
  {
   "cell_type": "markdown",
   "id": "b582815b",
   "metadata": {},
   "source": [
    "### Model Metrics"
   ]
  },
  {
   "cell_type": "code",
   "execution_count": null,
   "id": "4d897af6",
   "metadata": {},
   "outputs": [],
   "source": [
    "def plot_model_performance(hist, model_name=None, save=False):\n",
    "    model_hist = pd.DataFrame(hist.history)\n",
    "    plt.figure(figsize=(8, 5))\n",
    "    sns.lineplot(data=model_hist[['accuracy', 'val_accuracy']])\n",
    "    plt.ylabel('Accuracy')\n",
    "    plt.xlabel('Epoch')\n",
    "    plt.legend(['Training', 'Validation'])\n",
    "    \n",
    "    if save and model_name:\n",
    "        plt.title(f'{model_name} Accuracy Graph')\n",
    "        plt.savefig(f'Images/{model_name} accuracy graph.png', transparent=True, bbox_inches='tight')"
   ]
  },
  {
   "cell_type": "markdown",
   "id": "2895490a",
   "metadata": {},
   "source": [
    "### Model Training"
   ]
  },
  {
   "cell_type": "code",
   "execution_count": null,
   "id": "f3883688",
   "metadata": {},
   "outputs": [],
   "source": [
    "AUTOTUNE = tf.data.AUTOTUNE\n",
    "\n",
    "train_data = train_data.cache().prefetch(buffer_size=AUTOTUNE)\n",
    "test_data = test_data.cache().prefetch(buffer_size=AUTOTUNE)\n",
    "valid_data = valid_data.cache().prefetch(buffer_size=AUTOTUNE)"
   ]
  },
  {
   "cell_type": "markdown",
   "id": "07cfc310",
   "metadata": {},
   "source": [
    "##### Simple Neural Network Baseline"
   ]
  },
  {
   "cell_type": "code",
   "execution_count": null,
   "id": "644eabf7",
   "metadata": {},
   "outputs": [],
   "source": [
    "sbase_NN = Sequential()\n",
    "sbase_NN.add(data_augmentation)\n",
    "sbase_NN.add(Dense(8, activation='relu'))\n",
    "sbase_NN.add(Flatten())\n",
    "sbase_NN.add(Dense(7, activation='softmax'))\n",
    "sbase_NN.compile(loss='sparse_categorical_crossentropy', optimizer='adam', metrics=['accuracy'])"
   ]
  },
  {
   "cell_type": "code",
   "execution_count": null,
   "id": "a770bb7b",
   "metadata": {},
   "outputs": [],
   "source": [
    "sbase_NN_hist = sbase_NN.fit(train_data, epochs=4, validation_data=valid_data, verbose=1)"
   ]
  },
  {
   "cell_type": "code",
   "execution_count": null,
   "id": "733be699",
   "metadata": {},
   "outputs": [],
   "source": [
    "plot_model_performance(sbase_NN_hist,'Simple Baseline NN', save=True)"
   ]
  },
  {
   "cell_type": "code",
   "execution_count": null,
   "id": "86f0eb17",
   "metadata": {},
   "outputs": [],
   "source": [
    "train_loss, train_acc = sbase_NN.evaluate(train_data, verbose=1)\n",
    "valid_loss, valid_acc = sbase_NN.evaluate(valid_data, verbose=1)\n",
    "\n",
    "print(f'\\n\\nTraining Accuracy:\\t{train_acc * 100}\\nTraining Loss:\\t\\t{train_loss}\\n')\n",
    "print(f'Validation Accuracy:\\t{valid_acc * 100}\\nValidation Loss:\\t{valid_loss}\\n')\n",
    "print('Train/Validation Diff:\\t', (train_acc - valid_acc) * 100)"
   ]
  },
  {
   "cell_type": "markdown",
   "id": "d0052a8b",
   "metadata": {},
   "source": [
    "##### Neural Network Baseline"
   ]
  },
  {
   "cell_type": "code",
   "execution_count": 7,
   "id": "ee7c9e25",
   "metadata": {},
   "outputs": [
    {
     "ename": "NameError",
     "evalue": "name 'data_augmentation' is not defined",
     "output_type": "error",
     "traceback": [
      "\u001b[0;31m---------------------------------------------------------------------------\u001b[0m",
      "\u001b[0;31mNameError\u001b[0m                                 Traceback (most recent call last)",
      "\u001b[0;32m<ipython-input-7-9071d633149f>\u001b[0m in \u001b[0;36m<module>\u001b[0;34m\u001b[0m\n\u001b[1;32m      1\u001b[0m \u001b[0mbase_NN\u001b[0m \u001b[0;34m=\u001b[0m \u001b[0mSequential\u001b[0m\u001b[0;34m(\u001b[0m\u001b[0;34m)\u001b[0m\u001b[0;34m\u001b[0m\u001b[0;34m\u001b[0m\u001b[0m\n\u001b[0;32m----> 2\u001b[0;31m \u001b[0mbase_NN\u001b[0m\u001b[0;34m.\u001b[0m\u001b[0madd\u001b[0m\u001b[0;34m(\u001b[0m\u001b[0mdata_augmentation\u001b[0m\u001b[0;34m)\u001b[0m\u001b[0;34m\u001b[0m\u001b[0;34m\u001b[0m\u001b[0m\n\u001b[0m\u001b[1;32m      3\u001b[0m \u001b[0mbase_NN\u001b[0m\u001b[0;34m.\u001b[0m\u001b[0madd\u001b[0m\u001b[0;34m(\u001b[0m\u001b[0mDense\u001b[0m\u001b[0;34m(\u001b[0m\u001b[0;36m4\u001b[0m\u001b[0;34m,\u001b[0m \u001b[0mactivation\u001b[0m\u001b[0;34m=\u001b[0m\u001b[0;34m'relu'\u001b[0m\u001b[0;34m)\u001b[0m\u001b[0;34m)\u001b[0m\u001b[0;34m\u001b[0m\u001b[0;34m\u001b[0m\u001b[0m\n\u001b[1;32m      4\u001b[0m \u001b[0mbase_NN\u001b[0m\u001b[0;34m.\u001b[0m\u001b[0madd\u001b[0m\u001b[0;34m(\u001b[0m\u001b[0mDense\u001b[0m\u001b[0;34m(\u001b[0m\u001b[0;36m8\u001b[0m\u001b[0;34m,\u001b[0m \u001b[0mactivation\u001b[0m\u001b[0;34m=\u001b[0m\u001b[0;34m'relu'\u001b[0m\u001b[0;34m)\u001b[0m\u001b[0;34m)\u001b[0m\u001b[0;34m\u001b[0m\u001b[0;34m\u001b[0m\u001b[0m\n\u001b[1;32m      5\u001b[0m \u001b[0mbase_NN\u001b[0m\u001b[0;34m.\u001b[0m\u001b[0madd\u001b[0m\u001b[0;34m(\u001b[0m\u001b[0mDense\u001b[0m\u001b[0;34m(\u001b[0m\u001b[0;36m16\u001b[0m\u001b[0;34m,\u001b[0m\u001b[0mactivation\u001b[0m\u001b[0;34m=\u001b[0m\u001b[0;34m'relu'\u001b[0m\u001b[0;34m)\u001b[0m\u001b[0;34m)\u001b[0m\u001b[0;34m\u001b[0m\u001b[0;34m\u001b[0m\u001b[0m\n",
      "\u001b[0;31mNameError\u001b[0m: name 'data_augmentation' is not defined"
     ]
    }
   ],
   "source": [
    "base_NN = Sequential()\n",
    "base_NN.add(data_augmentation)\n",
    "base_NN.add(Dense(4, activation='relu'))\n",
    "base_NN.add(Dense(8, activation='relu'))\n",
    "base_NN.add(Dense(16,activation='relu'))\n",
    "base_NN.add(Dense(32,activation='relu'))\n",
    "base_NN.add(Dense(16,activation='relu'))\n",
    "base_NN.add(Dense(8, activation='relu'))\n",
    "base_NN.add(Flatten())\n",
    "base_NN.add(Dense(7, activation='softmax'))\n",
    "\n",
    "base_NN.compile(loss='sparse_categorical_crossentropy', optimizer='adam', metrics=['accuracy'])"
   ]
  },
  {
   "cell_type": "code",
   "execution_count": 8,
   "id": "0a2d2f99",
   "metadata": {
    "scrolled": true
   },
   "outputs": [
    {
     "ename": "NameError",
     "evalue": "name 'train_data' is not defined",
     "output_type": "error",
     "traceback": [
      "\u001b[0;31m---------------------------------------------------------------------------\u001b[0m",
      "\u001b[0;31mNameError\u001b[0m                                 Traceback (most recent call last)",
      "\u001b[0;32m<ipython-input-8-21cdb2150a37>\u001b[0m in \u001b[0;36m<module>\u001b[0;34m\u001b[0m\n\u001b[0;32m----> 1\u001b[0;31m \u001b[0mbase_NN_hist\u001b[0m \u001b[0;34m=\u001b[0m \u001b[0mbase_NN\u001b[0m\u001b[0;34m.\u001b[0m\u001b[0mfit\u001b[0m\u001b[0;34m(\u001b[0m\u001b[0mtrain_data\u001b[0m\u001b[0;34m,\u001b[0m \u001b[0mepochs\u001b[0m\u001b[0;34m=\u001b[0m\u001b[0;36m6\u001b[0m\u001b[0;34m,\u001b[0m \u001b[0mvalidation_data\u001b[0m\u001b[0;34m=\u001b[0m\u001b[0mvalid_data\u001b[0m\u001b[0;34m,\u001b[0m \u001b[0mverbose\u001b[0m\u001b[0;34m=\u001b[0m\u001b[0;36m1\u001b[0m\u001b[0;34m)\u001b[0m\u001b[0;34m\u001b[0m\u001b[0;34m\u001b[0m\u001b[0m\n\u001b[0m",
      "\u001b[0;31mNameError\u001b[0m: name 'train_data' is not defined"
     ]
    }
   ],
   "source": [
    "base_NN_hist = base_NN.fit(train_data, epochs=6, validation_data=valid_data, verbose=1)"
   ]
  },
  {
   "cell_type": "code",
   "execution_count": 9,
   "id": "99852a57",
   "metadata": {},
   "outputs": [
    {
     "ename": "NameError",
     "evalue": "name 'plot_model_performance' is not defined",
     "output_type": "error",
     "traceback": [
      "\u001b[0;31m---------------------------------------------------------------------------\u001b[0m",
      "\u001b[0;31mNameError\u001b[0m                                 Traceback (most recent call last)",
      "\u001b[0;32m<ipython-input-9-6b137d5b6316>\u001b[0m in \u001b[0;36m<module>\u001b[0;34m\u001b[0m\n\u001b[0;32m----> 1\u001b[0;31m \u001b[0mplot_model_performance\u001b[0m\u001b[0;34m(\u001b[0m\u001b[0mbase_NN_hist\u001b[0m\u001b[0;34m,\u001b[0m \u001b[0;34m'Baseline NN'\u001b[0m\u001b[0;34m,\u001b[0m \u001b[0msave\u001b[0m\u001b[0;34m=\u001b[0m\u001b[0;32mTrue\u001b[0m\u001b[0;34m)\u001b[0m\u001b[0;34m\u001b[0m\u001b[0;34m\u001b[0m\u001b[0m\n\u001b[0m",
      "\u001b[0;31mNameError\u001b[0m: name 'plot_model_performance' is not defined"
     ]
    }
   ],
   "source": [
    "plot_model_performance(base_NN_hist, 'Baseline NN', save=True)"
   ]
  },
  {
   "cell_type": "code",
   "execution_count": 13,
   "id": "44b99a6a",
   "metadata": {},
   "outputs": [
    {
     "name": "stdout",
     "output_type": "stream",
     "text": [
      "718/718 [==============================] - 48s 67ms/step - loss: 1.7527 - accuracy: 0.2664\n",
      "180/180 [==============================] - 12s 64ms/step - loss: 1.7599 - accuracy: 0.2617\n",
      "\n",
      "\n",
      "Training Accuracy:\t26.6440212726593\n",
      "Training Loss:\t\t1.752709150314331\n",
      "\n",
      "Validation Accuracy:\t26.1701762676239\n",
      "Validation Loss:\t1.7598847150802612\n",
      "\n",
      "Train/Validation Diff:\t 0.4738450050354004\n"
     ]
    }
   ],
   "source": [
    "train_loss, train_acc = base_NN.evaluate(train_data, verbose=1)\n",
    "valid_loss, valid_acc = base_NN.evaluate(valid_data, verbose=1)\n",
    "\n",
    "print(f'\\n\\nTraining Accuracy:\\t{train_acc * 100}\\nTraining Loss:\\t\\t{train_loss}\\n')\n",
    "print(f'Validation Accuracy:\\t{valid_acc * 100}\\nValidation Loss:\\t{valid_loss}\\n')\n",
    "print('Train/Validation Diff:\\t', (train_acc - valid_acc) * 100)"
   ]
  },
  {
   "cell_type": "markdown",
   "id": "59108ac7",
   "metadata": {},
   "source": [
    "##### Simple Convolutional Neural Network Baseline"
   ]
  },
  {
   "cell_type": "code",
   "execution_count": 11,
   "id": "243fe972",
   "metadata": {},
   "outputs": [],
   "source": [
    "base_CNN = Sequential()\n",
    "base_CNN.add(data_augmentation)\n",
    "base_CNN.add(Conv2D(filters=10, kernel_size=3, activation='relu', padding='same'))\n",
    "base_CNN.add(MaxPooling2D())\n",
    "base_CNN.add(Conv2D(filters=5, kernel_size=3, activation='relu', padding='same'))\n",
    "base_CNN.add(MaxPooling2D())\n",
    "base_CNN.add(Flatten())\n",
    "base_CNN.add(Dense(7, activation='softmax'))\n",
    "base_CNN.compile(loss='sparse_categorical_crossentropy', optimizer='adam', metrics=['accuracy'])"
   ]
  },
  {
   "cell_type": "code",
   "execution_count": 12,
   "id": "b979dd7f",
   "metadata": {},
   "outputs": [
    {
     "name": "stdout",
     "output_type": "stream",
     "text": [
      "Epoch 1/5\n",
      "718/718 [==============================] - 46s 63ms/step - loss: 1.7983 - accuracy: 0.2564 - val_loss: 1.7633 - val_accuracy: 0.2666\n",
      "Epoch 2/5\n",
      "718/718 [==============================] - 81s 113ms/step - loss: 1.7615 - accuracy: 0.2700 - val_loss: 1.7424 - val_accuracy: 0.2748\n",
      "Epoch 3/5\n",
      "718/718 [==============================] - 81s 112ms/step - loss: 1.7377 - accuracy: 0.2878 - val_loss: 1.7267 - val_accuracy: 0.2995\n",
      "Epoch 4/5\n",
      "718/718 [==============================] - 66s 92ms/step - loss: 1.7230 - accuracy: 0.3045 - val_loss: 1.6987 - val_accuracy: 0.3106\n",
      "Epoch 5/5\n",
      "718/718 [==============================] - 73s 101ms/step - loss: 1.7082 - accuracy: 0.3133 - val_loss: 1.6876 - val_accuracy: 0.3188\n"
     ]
    }
   ],
   "source": [
    "base_CNN_hist = base_CNN.fit(train_data, epochs=5, validation_data=valid_data, verbose=1)"
   ]
  },
  {
   "cell_type": "code",
   "execution_count": 13,
   "id": "f4404785",
   "metadata": {},
   "outputs": [
    {
     "data": {
      "image/png": "[encoded data removed]",
      "text/plain": [
       "<Figure size 576x360 with 1 Axes>"
      ]
     },
     "metadata": {
      "needs_background": "light"
     },
     "output_type": "display_data"
    }
   ],
   "source": [
    "plot_model_performance(base_CNN_hist, 'Baseline CNN', save=True)"
   ]
  },
  {
   "cell_type": "code",
   "execution_count": 14,
   "id": "d9fb83eb",
   "metadata": {},
   "outputs": [
    {
     "name": "stdout",
     "output_type": "stream",
     "text": [
      "718/718 [==============================] - 62s 87ms/step - loss: 1.6738 - accuracy: 0.3318\n",
      "180/180 [==============================] - 13s 72ms/step - loss: 1.6876 - accuracy: 0.3188\n",
      "\n",
      "\n",
      "Training Accuracy:\t33.17655324935913\n",
      "Training Loss:\t\t1.6737563610076904\n",
      "\n",
      "Validation Accuracy:\t31.87749981880188\n",
      "Validation Loss:\t1.6876177787780762\n",
      "\n",
      "Train/Validation Diff:\t 1.299053430557251\n"
     ]
    }
   ],
   "source": [
    "train_loss, train_acc = base_CNN.evaluate(train_data, verbose=1)\n",
    "valid_loss, valid_acc = base_CNN.evaluate(valid_data, verbose=1)\n",
    "\n",
    "print(f'\\n\\nTraining Accuracy:\\t{train_acc * 100}\\nTraining Loss:\\t\\t{train_loss}\\n')\n",
    "print(f'Validation Accuracy:\\t{valid_acc * 100}\\nValidation Loss:\\t{valid_loss}\\n')\n",
    "print('Train/Validation Diff:\\t', (train_acc - valid_acc) * 100)"
   ]
  },
  {
   "cell_type": "markdown",
   "id": "dd118280",
   "metadata": {},
   "source": [
    "##### Convolutional Neural Network Model"
   ]
  },
  {
   "cell_type": "code",
   "execution_count": 14,
   "id": "1b556314",
   "metadata": {},
   "outputs": [],
   "source": [
    "sgd_opt = SGD(learning_rate=0.001) \n",
    "adam_opt = Adam(learning_rate=0.0001)"
   ]
  },
  {
   "cell_type": "code",
   "execution_count": null,
   "id": "04fe7252",
   "metadata": {},
   "outputs": [],
   "source": [
    "CNN = Sequential()\n",
    "\n",
    "CNN.add(data_augmentation)\n",
    "\n",
    "CNN.add(Conv2D(filters=32, strides=2, kernel_size=3, kernel_regularizer=reg.L2(), activation='relu', padding='same'))\n",
    "CNN.add(SpatialDropout2D(0.4))\n",
    "CNN.add(BatchNormalization())\n",
    "CNN.add(Conv2D(filters=32, strides=2, kernel_size=3, kernel_regularizer=reg.L2(), activation='relu', padding='same'))\n",
    "CNN.add(SpatialDropout2D(0.4))\n",
    "CNN.add(BatchNormalization())\n",
    "\n",
    "CNN.add(Conv2D(filters=64, strides=2, kernel_size=3, kernel_regularizer=reg.L2(), activation='relu', padding='same'))\n",
    "CNN.add(SpatialDropout2D(0.4))\n",
    "CNN.add(BatchNormalization())\n",
    "CNN.add(Conv2D(filters=64, strides=2, kernel_size=3, kernel_regularizer=reg.L2(), activation='relu', padding='same'))\n",
    "CNN.add(SpatialDropout2D(0.4))\n",
    "CNN.add(BatchNormalization())\n",
    "\n",
    "CNN.add(Conv2D(filters=128, strides=2, kernel_size=3, kernel_regularizer=reg.L2(), activation='relu', padding='same'))\n",
    "CNN.add(SpatialDropout2D(0.4))\n",
    "CNN.add(BatchNormalization())\n",
    "CNN.add(Conv2D(filters=128, strides=2, kernel_size=3, kernel_regularizer=reg.L2(), activation='relu', padding='same'))\n",
    "CNN.add(SpatialDropout2D(0.4))\n",
    "CNN.add(BatchNormalization())\n",
    "\n",
    "CNN.add(Conv2D(filters=256, strides=2, kernel_size=3, kernel_regularizer=reg.L2(), activation='relu', padding='same'))\n",
    "CNN.add(SpatialDropout2D(0.4))\n",
    "CNN.add(BatchNormalization())\n",
    "\n",
    "CNN.add(GlobalAveragePooling2D())\n",
    "\n",
    "CNN.add(Dense(7, activation='softmax'))\n",
    "\n",
    "CNN.compile(loss='sparse_categorical_crossentropy', optimizer=adam_opt, metrics=['accuracy'])"
   ]
  },
  {
   "cell_type": "code",
   "execution_count": null,
   "id": "ee9ab5af",
   "metadata": {},
   "outputs": [],
   "source": [
    "CNN_hist = CNN.fit(train_data, epochs=300, validation_data=valid_data, verbose=1, callbacks=[keras.callbacks.ReduceLROnPlateau(monitor='loss', factor=.25, patience=4, verbose=1)])"
   ]
  },
  {
   "cell_type": "code",
   "execution_count": null,
   "id": "f9233778",
   "metadata": {},
   "outputs": [],
   "source": [
    "plot_model_performance(CNN_hist, 'Convultional Neural Network', save=True)"
   ]
  },
  {
   "cell_type": "code",
   "execution_count": null,
   "id": "c7887b1f",
   "metadata": {},
   "outputs": [],
   "source": [
    "train_loss, train_acc = CNN.evaluate(train_data, verbose=1)\n",
    "valid_loss, valid_acc = CNN.evaluate(valid_data, verbose=1)\n",
    "\n",
    "print(f'\\n\\nTraining Accuracy:\\t{train_acc * 100}\\nTraining Loss:\\t\\t{train_loss}\\n')\n",
    "print(f'Validation Accuracy:\\t{valid_acc * 100}\\nValidation Loss:\\t{valid_loss}\\n')\n",
    "print('Train/Validation Diff:\\t', np.abs(train_acc - valid_acc) * 100)"
   ]
  },
  {
   "cell_type": "code",
   "execution_count": null,
   "id": "ed602415",
   "metadata": {},
   "outputs": [],
   "source": [
    "CNN.save('Deliverables/cnn_model.h5')"
   ]
  },
  {
   "cell_type": "markdown",
   "id": "e210f461",
   "metadata": {},
   "source": [
    "##### Transfer Learning"
   ]
  },
  {
   "cell_type": "markdown",
   "id": "f2681615",
   "metadata": {},
   "source": [
    "Using DenseNet"
   ]
  },
  {
   "cell_type": "code",
   "execution_count": 15,
   "id": "b87f93c7",
   "metadata": {},
   "outputs": [],
   "source": [
    "# Freeze layers\n",
    "dense_net = DenseNet169(weights='imagenet', include_top=False, input_shape=None)\n",
    "\n",
    "for layer in dense_net.layers:\n",
    "    layer.trainable = False"
   ]
  },
  {
   "cell_type": "code",
   "execution_count": 16,
   "id": "8870ba8a",
   "metadata": {},
   "outputs": [
    {
     "name": "stdout",
     "output_type": "stream",
     "text": [
      "Model: \"sequential_2\"\n",
      "_________________________________________________________________\n",
      " Layer (type)                Output Shape              Param #   \n",
      "=================================================================\n",
      " densenet169 (Functional)    (None, None, None, 1664)  12642880  \n",
      "                                                                 \n",
      " global_average_pooling2d_1   (None, 1664)             0         \n",
      " (GlobalAveragePooling2D)                                        \n",
      "                                                                 \n",
      " dense_3 (Dense)             (None, 256)               426240    \n",
      "                                                                 \n",
      " batch_normalization_2 (Batc  (None, 256)              1024      \n",
      " hNormalization)                                                 \n",
      "                                                                 \n",
      " dense_4 (Dense)             (None, 128)               32896     \n",
      "                                                                 \n",
      " batch_normalization_3 (Batc  (None, 128)              512       \n",
      " hNormalization)                                                 \n",
      "                                                                 \n",
      " dense_5 (Dense)             (None, 7)                 903       \n",
      "                                                                 \n",
      "=================================================================\n",
      "Total params: 13,104,455\n",
      "Trainable params: 460,807\n",
      "Non-trainable params: 12,643,648\n",
      "_________________________________________________________________\n"
     ]
    }
   ],
   "source": [
    "CNN_dense_transfer = Sequential()\n",
    "CNN_dense_transfer.add(dense_net)\n",
    "CNN_dense_transfer.add(GlobalAveragePooling2D())\n",
    "\n",
    "CNN_dense_transfer.add(Dense(256 , activation ='relu'))\n",
    "CNN_dense_transfer.add(BatchNormalization())\n",
    "CNN_dense_transfer.add(Dense(128 , activation ='relu'))\n",
    "CNN_dense_transfer.add(BatchNormalization())\n",
    "\n",
    "CNN_dense_transfer.add(Dense(7, activation='softmax'))\n",
    "\n",
    "CNN_dense_transfer.compile(loss='sparse_categorical_crossentropy', optimizer=sgd_opt, metrics = ['accuracy'])\n",
    "CNN_dense_transfer.summary()"
   ]
  },
  {
   "cell_type": "code",
   "execution_count": null,
   "id": "e577e254",
   "metadata": {},
   "outputs": [
    {
     "name": "stdout",
     "output_type": "stream",
     "text": [
      "Epoch 1/10\n",
      "718/718 [==============================] - ETA: 0s - loss: 2.0322 - accuracy: 0.2231"
     ]
    }
   ],
   "source": [
    "CNN_dense_transfer_hist = CNN_dense_transfer.fit(train_data, epochs=10, validation_data=valid_data, verbose=1)"
   ]
  },
  {
   "cell_type": "code",
   "execution_count": null,
   "id": "cbbbca03",
   "metadata": {},
   "outputs": [],
   "source": [
    "plot_model_performance(CNN_dense_transfer_hist, 'Convultional Neural Network with DenseNet Transfer Learning', save=True)"
   ]
  },
  {
   "cell_type": "code",
   "execution_count": null,
   "id": "46a29e28",
   "metadata": {},
   "outputs": [],
   "source": [
    "train_loss, train_acc = CNN_dense_transfer.evaluate(train_data, verbose=1)\n",
    "valid_loss, valid_acc = CNN_dense_transfer.evaluate(valid_data, verbose=1)\n",
    "\n",
    "print(f'\\n\\nTraining Accuracy:\\t{train_acc * 100}\\nTraining Loss:\\t\\t{train_loss}\\n')\n",
    "print(f'Validation Accuracy:\\t{valid_acc * 100}\\nValidation Loss:\\t{valid_loss}\\n')\n",
    "print('Train/Validation Diff:\\t', np.abs(train_acc - valid_acc) * 100)"
   ]
  },
  {
   "cell_type": "code",
   "execution_count": null,
   "id": "901cda66",
   "metadata": {},
   "outputs": [],
   "source": [
    "pickle.dump(CNN_dense_transfer, open('model.pkl', 'wb'))"
   ]
  },
  {
   "cell_type": "markdown",
   "id": "4589cdc5",
   "metadata": {},
   "source": [
    "Using VGG16"
   ]
  },
  {
   "cell_type": "code",
   "execution_count": null,
   "id": "155d570e",
   "metadata": {},
   "outputs": [],
   "source": [
    "vgg = VGG16(weights='imagenet', include_top=False, input_shape=None)\n",
    "\n",
    "for layer in vgg.layers:\n",
    "    layer.trainable = False"
   ]
  },
  {
   "cell_type": "code",
   "execution_count": null,
   "id": "d787c34a",
   "metadata": {},
   "outputs": [],
   "source": [
    "vgg_16_transfer = Sequential()\n",
    "\n",
    "vgg_16_transfer.add(data_augmentation)\n",
    "\n",
    "vgg_16_transfer.add(vgg)\n",
    "\n",
    "vgg_16_transfer.add(GlobalAveragePooling2D()) # try it using max Pooling2\n",
    "\n",
    "vgg_16_transfer.add(Dense(200 , activation ='relu'))\n",
    "vgg_16_transfer.add(BatchNormalization())\n",
    "vgg_16_transfer.add(Dense(200 , activation ='relu'))\n",
    "vgg_16_transfer.add(BatchNormalization())\n",
    "vgg_16_transfer.add(Dense(200 , activation ='relu'))\n",
    "\n",
    "vgg_16_transfer.add(GlobalMaxPooling2D())\n",
    "vgg_16_transfer.add(Dense(7, activation='softmax'))\n",
    "\n",
    "vgg_16_transfer.compile(loss='sparse_categorical_crossentropy', optimizer='adam', metrics = ['accuracy'])"
   ]
  },
  {
   "cell_type": "code",
   "execution_count": null,
   "id": "6d18ec85",
   "metadata": {},
   "outputs": [],
   "source": [
    "vgg_16_transfer = vgg_16_transfer.fit(train_data, epochs=15, validation_data=valid_data, verbose=1)"
   ]
  },
  {
   "cell_type": "code",
   "execution_count": null,
   "id": "f8bb525c",
   "metadata": {},
   "outputs": [],
   "source": [
    "plot_model_performance(vgg_16_transfer, 'Convultional Neural Network with VGG16 Transfer Learning', save=True)"
   ]
  },
  {
   "cell_type": "code",
   "execution_count": null,
   "id": "2eafcf62",
   "metadata": {},
   "outputs": [],
   "source": [
    "train_loss, train_acc = vgg_16_transfer.evaluate(train_data, verbose=1)\n",
    "valid_loss, valid_acc = vgg_16_transfer.evaluate(valid_data, verbose=1)\n",
    "\n",
    "print(f'\\n\\nTraining Accuracy:\\t{train_acc * 100}\\nTraining Loss:\\t\\t{train_loss}\\n')\n",
    "print(f'Validation Accuracy:\\t{valid_acc * 100}\\nValidation Loss:\\t{valid_loss}\\n')\n",
    "print('Train/Validation Diff:\\t', np.abs(train_acc - valid_acc) * 100)"
   ]
  },
  {
   "cell_type": "code",
   "execution_count": null,
   "id": "4c69b617",
   "metadata": {},
   "outputs": [],
   "source": [
    "pickle.dump(vgg_16_transfer, open('vgg_16_transfer.pkl', 'wb'))"
   ]
  },
  {
   "cell_type": "markdown",
   "id": "32e7aeab",
   "metadata": {},
   "source": [
    "Using VGG19"
   ]
  },
  {
   "cell_type": "code",
   "execution_count": 12,
   "id": "12eaa473",
   "metadata": {},
   "outputs": [
    {
     "name": "stdout",
     "output_type": "stream",
     "text": [
      "Downloading data from https://storage.googleapis.com/tensorflow/keras-applications/vgg19/vgg19_weights_tf_dim_ordering_tf_kernels_notop.h5\n",
      "73703424/80134624 [==========================>...] - ETA: 2s"
     ]
    },
    {
     "ename": "OSError",
     "evalue": "[Errno 28] No space left on device",
     "output_type": "error",
     "traceback": [
      "\u001b[0;31m---------------------------------------------------------------------------\u001b[0m",
      "\u001b[0;31mOSError\u001b[0m                                   Traceback (most recent call last)",
      "\u001b[0;32m<ipython-input-12-2e8f548bedc0>\u001b[0m in \u001b[0;36m<module>\u001b[0;34m\u001b[0m\n\u001b[0;32m----> 1\u001b[0;31m \u001b[0mvgg_19\u001b[0m \u001b[0;34m=\u001b[0m \u001b[0mVGG19\u001b[0m\u001b[0;34m(\u001b[0m\u001b[0mweights\u001b[0m\u001b[0;34m=\u001b[0m\u001b[0;34m'imagenet'\u001b[0m\u001b[0;34m,\u001b[0m \u001b[0minclude_top\u001b[0m\u001b[0;34m=\u001b[0m\u001b[0;32mFalse\u001b[0m\u001b[0;34m,\u001b[0m \u001b[0minput_shape\u001b[0m\u001b[0;34m=\u001b[0m\u001b[0;32mNone\u001b[0m\u001b[0;34m)\u001b[0m\u001b[0;34m\u001b[0m\u001b[0;34m\u001b[0m\u001b[0m\n\u001b[0m\u001b[1;32m      2\u001b[0m \u001b[0;34m\u001b[0m\u001b[0m\n\u001b[1;32m      3\u001b[0m \u001b[0;32mfor\u001b[0m \u001b[0mlayer\u001b[0m \u001b[0;32min\u001b[0m \u001b[0mvgg_19\u001b[0m\u001b[0;34m.\u001b[0m\u001b[0mlayers\u001b[0m\u001b[0;34m[\u001b[0m\u001b[0;34m:\u001b[0m\u001b[0;34m-\u001b[0m\u001b[0;36m2\u001b[0m\u001b[0;34m]\u001b[0m\u001b[0;34m:\u001b[0m\u001b[0;34m\u001b[0m\u001b[0;34m\u001b[0m\u001b[0m\n\u001b[1;32m      4\u001b[0m     \u001b[0mlayer\u001b[0m\u001b[0;34m.\u001b[0m\u001b[0mtrainable\u001b[0m \u001b[0;34m=\u001b[0m \u001b[0;32mFalse\u001b[0m\u001b[0;34m\u001b[0m\u001b[0;34m\u001b[0m\u001b[0m\n",
      "\u001b[0;32m~/opt/anaconda3/lib/python3.8/site-packages/keras/applications/vgg19.py\u001b[0m in \u001b[0;36mVGG19\u001b[0;34m(include_top, weights, input_tensor, input_shape, pooling, classes, classifier_activation)\u001b[0m\n\u001b[1;32m    220\u001b[0m           file_hash='cbe5617147190e668d6c5d5026f83318')\n\u001b[1;32m    221\u001b[0m     \u001b[0;32melse\u001b[0m\u001b[0;34m:\u001b[0m\u001b[0;34m\u001b[0m\u001b[0;34m\u001b[0m\u001b[0m\n\u001b[0;32m--> 222\u001b[0;31m       weights_path = data_utils.get_file(\n\u001b[0m\u001b[1;32m    223\u001b[0m           \u001b[0;34m'vgg19_weights_tf_dim_ordering_tf_kernels_notop.h5'\u001b[0m\u001b[0;34m,\u001b[0m\u001b[0;34m\u001b[0m\u001b[0;34m\u001b[0m\u001b[0m\n\u001b[1;32m    224\u001b[0m           \u001b[0mWEIGHTS_PATH_NO_TOP\u001b[0m\u001b[0;34m,\u001b[0m\u001b[0;34m\u001b[0m\u001b[0;34m\u001b[0m\u001b[0m\n",
      "\u001b[0;32m~/opt/anaconda3/lib/python3.8/site-packages/keras/utils/data_utils.py\u001b[0m in \u001b[0;36mget_file\u001b[0;34m(fname, origin, untar, md5_hash, file_hash, cache_subdir, hash_algorithm, extract, archive_format, cache_dir)\u001b[0m\n\u001b[1;32m    274\u001b[0m     \u001b[0;32mtry\u001b[0m\u001b[0;34m:\u001b[0m\u001b[0;34m\u001b[0m\u001b[0;34m\u001b[0m\u001b[0m\n\u001b[1;32m    275\u001b[0m       \u001b[0;32mtry\u001b[0m\u001b[0;34m:\u001b[0m\u001b[0;34m\u001b[0m\u001b[0;34m\u001b[0m\u001b[0m\n\u001b[0;32m--> 276\u001b[0;31m         \u001b[0murlretrieve\u001b[0m\u001b[0;34m(\u001b[0m\u001b[0morigin\u001b[0m\u001b[0;34m,\u001b[0m \u001b[0mfpath\u001b[0m\u001b[0;34m,\u001b[0m \u001b[0mdl_progress\u001b[0m\u001b[0;34m)\u001b[0m\u001b[0;34m\u001b[0m\u001b[0;34m\u001b[0m\u001b[0m\n\u001b[0m\u001b[1;32m    277\u001b[0m       \u001b[0;32mexcept\u001b[0m \u001b[0murllib\u001b[0m\u001b[0;34m.\u001b[0m\u001b[0merror\u001b[0m\u001b[0;34m.\u001b[0m\u001b[0mHTTPError\u001b[0m \u001b[0;32mas\u001b[0m \u001b[0me\u001b[0m\u001b[0;34m:\u001b[0m\u001b[0;34m\u001b[0m\u001b[0;34m\u001b[0m\u001b[0m\n\u001b[1;32m    278\u001b[0m         \u001b[0;32mraise\u001b[0m \u001b[0mException\u001b[0m\u001b[0;34m(\u001b[0m\u001b[0merror_msg\u001b[0m\u001b[0;34m.\u001b[0m\u001b[0mformat\u001b[0m\u001b[0;34m(\u001b[0m\u001b[0morigin\u001b[0m\u001b[0;34m,\u001b[0m \u001b[0me\u001b[0m\u001b[0;34m.\u001b[0m\u001b[0mcode\u001b[0m\u001b[0;34m,\u001b[0m \u001b[0me\u001b[0m\u001b[0;34m.\u001b[0m\u001b[0mmsg\u001b[0m\u001b[0;34m)\u001b[0m\u001b[0;34m)\u001b[0m\u001b[0;34m\u001b[0m\u001b[0;34m\u001b[0m\u001b[0m\n",
      "\u001b[0;32m~/opt/anaconda3/lib/python3.8/site-packages/keras/utils/data_utils.py\u001b[0m in \u001b[0;36murlretrieve\u001b[0;34m(url, filename, reporthook, data)\u001b[0m\n\u001b[1;32m     83\u001b[0m     \u001b[0;32mwith\u001b[0m \u001b[0mopen\u001b[0m\u001b[0;34m(\u001b[0m\u001b[0mfilename\u001b[0m\u001b[0;34m,\u001b[0m \u001b[0;34m'wb'\u001b[0m\u001b[0;34m)\u001b[0m \u001b[0;32mas\u001b[0m \u001b[0mfd\u001b[0m\u001b[0;34m:\u001b[0m\u001b[0;34m\u001b[0m\u001b[0;34m\u001b[0m\u001b[0m\n\u001b[1;32m     84\u001b[0m       \u001b[0;32mfor\u001b[0m \u001b[0mchunk\u001b[0m \u001b[0;32min\u001b[0m \u001b[0mchunk_read\u001b[0m\u001b[0;34m(\u001b[0m\u001b[0mresponse\u001b[0m\u001b[0;34m,\u001b[0m \u001b[0mreporthook\u001b[0m\u001b[0;34m=\u001b[0m\u001b[0mreporthook\u001b[0m\u001b[0;34m)\u001b[0m\u001b[0;34m:\u001b[0m\u001b[0;34m\u001b[0m\u001b[0;34m\u001b[0m\u001b[0m\n\u001b[0;32m---> 85\u001b[0;31m         \u001b[0mfd\u001b[0m\u001b[0;34m.\u001b[0m\u001b[0mwrite\u001b[0m\u001b[0;34m(\u001b[0m\u001b[0mchunk\u001b[0m\u001b[0;34m)\u001b[0m\u001b[0;34m\u001b[0m\u001b[0;34m\u001b[0m\u001b[0m\n\u001b[0m\u001b[1;32m     86\u001b[0m \u001b[0;32melse\u001b[0m\u001b[0;34m:\u001b[0m\u001b[0;34m\u001b[0m\u001b[0;34m\u001b[0m\u001b[0m\n\u001b[1;32m     87\u001b[0m   \u001b[0;32mfrom\u001b[0m \u001b[0murllib\u001b[0m\u001b[0;34m.\u001b[0m\u001b[0mrequest\u001b[0m \u001b[0;32mimport\u001b[0m \u001b[0murlretrieve\u001b[0m  \u001b[0;31m# pylint: disable=g-importing-member\u001b[0m\u001b[0;34m\u001b[0m\u001b[0;34m\u001b[0m\u001b[0m\n",
      "\u001b[0;31mOSError\u001b[0m: [Errno 28] No space left on device"
     ]
    }
   ],
   "source": [
    "vgg_19 = VGG19(weights='imagenet', include_top=False, input_shape=None)\n",
    "\n",
    "for layer in vgg_19.layers[:-2]:\n",
    "    layer.trainable = False"
   ]
  },
  {
   "cell_type": "code",
   "execution_count": 2,
   "id": "46aafa0e",
   "metadata": {},
   "outputs": [
    {
     "ename": "NameError",
     "evalue": "name 'Sequential' is not defined",
     "output_type": "error",
     "traceback": [
      "\u001b[0;31m---------------------------------------------------------------------------\u001b[0m",
      "\u001b[0;31mNameError\u001b[0m                                 Traceback (most recent call last)",
      "\u001b[0;32m<ipython-input-2-5d6d1bfeb0ad>\u001b[0m in \u001b[0;36m<module>\u001b[0;34m\u001b[0m\n\u001b[0;32m----> 1\u001b[0;31m \u001b[0mvgg_19_transfer\u001b[0m \u001b[0;34m=\u001b[0m \u001b[0mSequential\u001b[0m\u001b[0;34m(\u001b[0m\u001b[0;34m)\u001b[0m\u001b[0;34m\u001b[0m\u001b[0;34m\u001b[0m\u001b[0m\n\u001b[0m\u001b[1;32m      2\u001b[0m \u001b[0mvgg_19_transfer\u001b[0m\u001b[0;34m.\u001b[0m\u001b[0madd\u001b[0m\u001b[0;34m(\u001b[0m\u001b[0mDropout\u001b[0m\u001b[0;34m(\u001b[0m\u001b[0;36m0.2\u001b[0m\u001b[0;34m)\u001b[0m\u001b[0;34m)\u001b[0m \u001b[0;31m# dropout\u001b[0m\u001b[0;34m\u001b[0m\u001b[0;34m\u001b[0m\u001b[0m\n\u001b[1;32m      3\u001b[0m \u001b[0mvgg_19_transfer\u001b[0m\u001b[0;34m.\u001b[0m\u001b[0madd\u001b[0m\u001b[0;34m(\u001b[0m\u001b[0mdata_augmentation\u001b[0m\u001b[0;34m)\u001b[0m\u001b[0;34m\u001b[0m\u001b[0;34m\u001b[0m\u001b[0m\n\u001b[1;32m      4\u001b[0m \u001b[0;34m\u001b[0m\u001b[0m\n\u001b[1;32m      5\u001b[0m \u001b[0mvgg_19_transfer\u001b[0m\u001b[0;34m.\u001b[0m\u001b[0madd\u001b[0m\u001b[0;34m(\u001b[0m\u001b[0mvgg_19\u001b[0m\u001b[0;34m)\u001b[0m\u001b[0;34m\u001b[0m\u001b[0;34m\u001b[0m\u001b[0m\n",
      "\u001b[0;31mNameError\u001b[0m: name 'Sequential' is not defined"
     ]
    }
   ],
   "source": [
    "vgg_19_transfer = Sequential()\n",
    "vgg_19_transfer.add(Dropout(0.2)) # dropout\n",
    "vgg_19_transfer.add(data_augmentation)\n",
    "\n",
    "vgg_19_transfer.add(vgg_19)\n",
    "\n",
    "vgg_19_transfer.add(GlobalAveragePooling2D())\n",
    "\n",
    "vgg_19_transfer.add(Dense(200 , activation ='relu', kernel_regularizer=regularizers.l2(0.01))) # , kernel_regularizer=regularizers.l2(0.01)\n",
    "vgg_19_transfer.add(BatchNormalization()) \n",
    "vgg_19_transfer.add(Dense(100 , activation ='relu'))\n",
    "\n",
    "vgg_19_transfer.add(BatchNormalization())\n",
    "vgg_19_transfer.add(Dense(50 , activation ='relu'))\n",
    "vgg_19_transfer.add(BatchNormalization())\n",
    "vgg_19_transfer.add(Dense(7, activation='softmax'))\n",
    "\n",
    "vgg_19_transfer.compile(loss='sparse_categorical_crossentropy', optimizer='adam', metrics = ['accuracy'])"
   ]
  },
  {
   "cell_type": "code",
   "execution_count": null,
   "id": "b3553290",
   "metadata": {},
   "outputs": [],
   "source": [
    "vgg_19_transfer_hist = vgg_19_transfer.fit(train_data, epochs=10, validation_data=valid_data, verbose=1,callbacks=[\n",
    "        keras.callbacks.EarlyStopping(patience=8, verbose=1, restore_best_weights=True),\n",
    "        keras.callbacks.ReduceLROnPlateau(factor=.5, patience=3, verbose=1),\n",
    "    ])\n",
    "\n",
    "'''\n",
    ",callbacks=[\n",
    "        keras.callbacks.EarlyStopping(patience=8, verbose=1, restore_best_weights=True),\n",
    "        keras.callbacks.ReduceLROnPlateau(factor=.5, patience=3, verbose=1),\n",
    "    ]\n",
    "'''"
   ]
  },
  {
   "cell_type": "code",
   "execution_count": null,
   "id": "c360b867",
   "metadata": {},
   "outputs": [],
   "source": [
    "plot_model_performance(vgg_19_transfer_hist, 'Convultional Neural Network with VGG19 Transfer Learning', save=True)"
   ]
  },
  {
   "cell_type": "code",
   "execution_count": null,
   "id": "5250dea9",
   "metadata": {},
   "outputs": [],
   "source": [
    "train_loss, train_acc = vgg_19_transfer.evaluate(train_data, verbose=1)\n",
    "valid_loss, valid_acc = vgg_19_transfer.evaluate(valid_data, verbose=1)\n",
    "\n",
    "print(f'\\n\\nTraining Accuracy:\\t{train_acc * 100}\\nTraining Loss:\\t\\t{train_loss}\\n')\n",
    "print(f'Validation Accuracy:\\t{valid_acc * 100}\\nValidation Loss:\\t{valid_loss}\\n')\n",
    "print('Train/Validation Diff:\\t', np.abs(train_acc - valid_acc) * 100)"
   ]
  },
  {
   "cell_type": "code",
   "execution_count": null,
   "id": "2bea5746",
   "metadata": {},
   "outputs": [],
   "source": [
    "pickle.dump(vgg_19_transfer, open('vgg_19_transfer.pkl', 'wb'))"
   ]
  },
  {
   "cell_type": "markdown",
   "id": "4132ea07",
   "metadata": {},
   "source": [
    "Using InceptionV3"
   ]
  },
  {
   "cell_type": "code",
   "execution_count": null,
   "id": "c00370da",
   "metadata": {},
   "outputs": [],
   "source": [
    "inception_v3 = InceptionV3(weights='imagenet', include_top=False, input_shape=None)\n",
    "\n",
    "for layer in inception_v3.layers[:-1]:\n",
    "    layer.trainable = False"
   ]
  },
  {
   "cell_type": "code",
   "execution_count": null,
   "id": "094c3795",
   "metadata": {},
   "outputs": [],
   "source": [
    "inception_transfer = Sequential()\n",
    "\n",
    "vgg_19_transfer.add(Dropout(0.2)) # dropout\n",
    "\n",
    "inception_transfer.add(data_augmentation)\n",
    "inception_transfer.add(inception_v3)\n",
    "inception_transfer.add(GlobalAveragePooling2D())\n",
    "\n",
    "inception_transfer.add(Dense(200 , activation ='relu'))\n",
    "inception_transfer.add(BatchNormalization())\n",
    "inception_transfer.add(Dense(100 , activation ='relu'))\n",
    "inception_transfer.add(BatchNormalization())\n",
    "inception_transfer.add(Dense(50 , activation ='relu'))\n",
    "inception_transfer.add(BatchNormalization())\n",
    "\n",
    "inception_transfer.add(Dense(7 , activation='softmax'))\n",
    "\n",
    "inception_transfer.compile(loss='sparse_categorical_crossentropy', optimizer=Adam(learning_rate=0.01), metrics = ['accuracy'])"
   ]
  },
  {
   "cell_type": "code",
   "execution_count": null,
   "id": "6e7bf9a2",
   "metadata": {},
   "outputs": [],
   "source": [
    "inception_transfer_hist = inception_transfer.fit(train_data, epochs=15, validation_data=valid_data, verbose=1)"
   ]
  },
  {
   "cell_type": "code",
   "execution_count": null,
   "id": "c439e117",
   "metadata": {},
   "outputs": [],
   "source": [
    "plot_model_performance(inception_transfer_hist, 'Convultional Neural Network with InceptionV3 Transfer Learning', save=True)"
   ]
  },
  {
   "cell_type": "code",
   "execution_count": null,
   "id": "3219a04d",
   "metadata": {},
   "outputs": [],
   "source": [
    "train_loss, train_acc = inception_transfer.evaluate(train_data, verbose=1)\n",
    "valid_loss, valid_acc = inception_transfer.evaluate(valid_data, verbose=1)\n",
    "\n",
    "print(f'\\n\\nTraining Accuracy:\\t{train_acc * 100}\\nTraining Loss:\\t\\t{train_loss}\\n')\n",
    "print(f'Validation Accuracy:\\t{valid_acc * 100}\\nValidation Loss:\\t{valid_loss}\\n')\n",
    "print('Train/Validation Diff:\\t', np.abs(train_acc - valid_acc) * 100)"
   ]
  },
  {
   "cell_type": "code",
   "execution_count": null,
   "id": "f5bc1a79",
   "metadata": {},
   "outputs": [],
   "source": [
    "pickle.dump(inception_transfer, open('inception_transfer.pkl', 'wb'))"
   ]
  },
  {
   "cell_type": "markdown",
   "id": "42532a39",
   "metadata": {},
   "source": [
    "Using ResNet50"
   ]
  },
  {
   "cell_type": "code",
   "execution_count": null,
   "id": "1cdc3620",
   "metadata": {},
   "outputs": [],
   "source": [
    "resnet_50 = ResNet50(weights='imagenet', include_top=False, input_shape=None)\n",
    "\n",
    "for layer in resnet_50.layers[:-1]:\n",
    "    layer.trainable = False"
   ]
  },
  {
   "cell_type": "code",
   "execution_count": null,
   "id": "3c0fd4e4",
   "metadata": {},
   "outputs": [],
   "source": [
    "resnet_transfer = Sequential()\n",
    "\n",
    "resnet_transfer.add(data_augmentation)\n",
    "\n",
    "resnet_transfer.add(resnet_50)\n",
    "\n",
    "resnet_transfer.add(GlobalAveragePooling2D())\n",
    "\n",
    "resnet_transfer.add(Dense(200 , activation ='relu'))\n",
    "resnet_transfer.add(BatchNormalization())\n",
    "resnet_transfer.add(Dense(100 , activation ='relu'))\n",
    "resnet_transfer.add(BatchNormalization())\n",
    "resnet_transfer.add(Dense(100 , activation ='relu'))\n",
    "resnet_transfer.add(BatchNormalization())\n",
    "\n",
    "resnet_transfer.add(Dense(7 , activation='softmax'))\n",
    "\n",
    "resnet_transfer.compile(loss='sparse_categorical_crossentropy', optimizer='adam', metrics = ['accuracy'])"
   ]
  },
  {
   "cell_type": "code",
   "execution_count": null,
   "id": "3592ebea",
   "metadata": {},
   "outputs": [],
   "source": [
    "resnet_transfer_hist = resnet_transfer.fit(train_data, epochs=15, validation_data=valid_data, verbose=1)"
   ]
  },
  {
   "cell_type": "code",
   "execution_count": null,
   "id": "26a3fb81",
   "metadata": {},
   "outputs": [],
   "source": [
    "plot_model_performance(resnet_transfer_hist, 'Convultional Neural Network with ResNet50 Transfer Learning', save=True)"
   ]
  },
  {
   "cell_type": "code",
   "execution_count": null,
   "id": "88121cc0",
   "metadata": {},
   "outputs": [],
   "source": [
    "train_loss, train_acc = resnet_transfer.evaluate(train_data, verbose=1)\n",
    "valid_loss, valid_acc = resnet_transfer.evaluate(valid_data, verbose=1)\n",
    "\n",
    "print(f'\\n\\nTraining Accuracy:\\t{train_acc * 100}\\nTraining Loss:\\t\\t{train_loss}\\n')\n",
    "print(f'Validation Accuracy:\\t{valid_acc * 100}\\nValidation Loss:\\t{valid_loss}\\n')\n",
    "print('Train/Validation Diff:\\t', np.abs(train_acc - valid_acc) * 100)"
   ]
  },
  {
   "cell_type": "code",
   "execution_count": null,
   "id": "19f536e5",
   "metadata": {},
   "outputs": [],
   "source": [
    "pickle.dump(resnet_transfer, open('resnet_transfer.pkl', 'wb'))"
   ]
  },
  {
   "cell_type": "markdown",
   "id": "8ee45ae5",
   "metadata": {},
   "source": [
    "##### Chosen Model"
   ]
  },
  {
   "cell_type": "markdown",
   "id": "0d63b37f",
   "metadata": {},
   "source": [
    "From all the models that were testted above, the best model in terms of highest accuracy and least loss and overfit, is the `VGG19` transfer learning model"
   ]
  }
 ],
 "metadata": {
  "kernelspec": {
   "display_name": "Python 3",
   "language": "python",
   "name": "python3"
  },
  "language_info": {
   "codemirror_mode": {
    "name": "ipython",
    "version": 3
   },
   "file_extension": ".py",
   "mimetype": "text/x-python",
   "name": "python",
   "nbconvert_exporter": "python",
   "pygments_lexer": "ipython3",
   "version": "3.8.8"
  }
 },
 "nbformat": 4,
 "nbformat_minor": 5
}

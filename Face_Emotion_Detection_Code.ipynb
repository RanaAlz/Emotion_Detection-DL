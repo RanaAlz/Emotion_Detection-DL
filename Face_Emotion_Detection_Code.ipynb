{
  "cells": [
    {
      "cell_type": "markdown",
      "id": "ea89cde4",
      "metadata": {
        "id": "ea89cde4"
      },
      "source": [
        "# Face Emotion Detection\n"
      ]
    },
    {
      "cell_type": "markdown",
      "id": "688f667a",
      "metadata": {
        "id": "688f667a"
      },
      "source": [
        "## Library Imports"
      ]
    },
    {
      "cell_type": "code",
      "execution_count": 2,
      "id": "968961aa",
      "metadata": {
        "id": "968961aa"
      },
      "outputs": [],
      "source": [
        "import os\n",
        "import cv2\n",
        "import random\n",
        "import numpy as np\n",
        "import pandas as pd\n",
        "import seaborn as sns\n",
        "import tensorflow as tf\n",
        "from tensorflow import keras\n",
        "import matplotlib.pyplot as plt\n",
        "import matplotlib.image as mpimg\n",
        "from keras.models import Sequential\n",
        "from tensorflow.keras import regularizers as reg\n",
        "from tensorflow.keras.optimizers import SGD, Adam\n",
        "from tensorflow.keras.utils import to_categorical\n",
        "from tensorflow.keras.applications.densenet import DenseNet169\n",
        "from tensorflow.keras.applications.vgg16 import VGG16\n",
        "from tensorflow.keras.applications.vgg19 import VGG19\n",
        "from tensorflow.keras.applications.resnet50 import ResNet50\n",
        "from tensorflow.keras.applications.inception_v3 import InceptionV3\n",
        "from tensorflow.keras.callbacks import EarlyStopping, ReduceLROnPlateau\n",
        "from sklearn.metrics import accuracy_score, confusion_matrix, classification_report\n",
        "from keras import regularizers\n",
        "from keras.layers import Dense, Conv2D, MaxPooling2D, ZeroPadding2D, Flatten, GlobalAveragePooling2D, InputLayer, Dropout, SpatialDropout2D, BatchNormalization, Resizing, Rescaling, RandomFlip, RandomRotation"
      ]
    },
    {
      "cell_type": "code",
      "execution_count": 3,
      "id": "da4c92bf",
      "metadata": {
        "colab": {
          "base_uri": "https://localhost:8080/"
        },
        "id": "da4c92bf",
        "outputId": "b6bb4837-a2b1-4305-d2aa-35511a52003c"
      },
      "outputs": [
        {
          "output_type": "stream",
          "name": "stdout",
          "text": [
            "Num GPUs Available:  1\n"
          ]
        }
      ],
      "source": [
        "print(\"Num GPUs Available: \", len(tf.config.list_physical_devices('GPU')))"
      ]
    },
    {
      "cell_type": "markdown",
      "id": "ec748acd",
      "metadata": {
        "id": "ec748acd"
      },
      "source": [
        "## Data Reading and Splitting"
      ]
    },
    {
      "cell_type": "code",
      "execution_count": 4,
      "id": "hakP5QuVzOJA",
      "metadata": {
        "colab": {
          "base_uri": "https://localhost:8080/"
        },
        "id": "hakP5QuVzOJA",
        "outputId": "06683afc-4bdc-445c-f38e-9d2359b82c88"
      },
      "outputs": [
        {
          "output_type": "stream",
          "name": "stdout",
          "text": [
            "Mounted at /content/drive\n"
          ]
        }
      ],
      "source": [
        "\n",
        "from google.colab import drive\n",
        "drive.mount('/content/drive')\n"
      ]
    },
    {
      "cell_type": "code",
      "execution_count": 5,
      "id": "509eefef",
      "metadata": {
        "id": "509eefef"
      },
      "outputs": [],
      "source": [
        "import numpy as np\n",
        "import pandas as pd\n",
        "import os\n",
        "import warnings\n",
        "warnings.filterwarnings('ignore')\n",
        "\n",
        "# defining dir variables \n",
        "root_dir = '/content/drive/MyDrive/Data/'\n",
        "train_dir = root_dir + 'train/'\n",
        "valid_dir = root_dir + 'valid/'\n",
        "test_dir = root_dir + 'test/'"
      ]
    },
    {
      "cell_type": "code",
      "execution_count": 6,
      "id": "8d8f4b4d",
      "metadata": {
        "colab": {
          "base_uri": "https://localhost:8080/"
        },
        "id": "8d8f4b4d",
        "outputId": "c5eb06be-cd50-47fb-ddc6-5b7f9657bf53"
      },
      "outputs": [
        {
          "output_type": "stream",
          "name": "stdout",
          "text": [
            "Found 22992 files belonging to 7 classes.\n",
            "Found 7178 files belonging to 7 classes.\n",
            "Found 5767 files belonging to 7 classes.\n"
          ]
        }
      ],
      "source": [
        "batch_size = 32\n",
        "img_height = 180 \n",
        "img_width = 180\n",
        "\n",
        "train_data = tf.keras.utils.image_dataset_from_directory(\n",
        "    train_dir,\n",
        "    image_size=(img_height, img_width),\n",
        "    batch_size=batch_size)\n",
        "\n",
        "test_data = tf.keras.utils.image_dataset_from_directory(\n",
        "    test_dir,\n",
        "    image_size=(img_height, img_width),\n",
        "    batch_size=batch_size)\n",
        "\n",
        "valid_data = tf.keras.utils.image_dataset_from_directory(\n",
        "    valid_dir,\n",
        "    image_size=(img_height, img_width),\n",
        "    batch_size=batch_size)"
      ]
    },
    {
      "cell_type": "markdown",
      "id": "cfbdaff9",
      "metadata": {
        "id": "cfbdaff9"
      },
      "source": [
        "## Data Visualization"
      ]
    },
    {
      "cell_type": "code",
      "execution_count": 7,
      "id": "12a2ee01",
      "metadata": {
        "colab": {
          "base_uri": "https://localhost:8080/"
        },
        "id": "12a2ee01",
        "outputId": "cbb99cc8-1689-4022-b282-b5e4dfe3f486"
      },
      "outputs": [
        {
          "output_type": "stream",
          "name": "stdout",
          "text": [
            "['angry', 'disgusted', 'fearful', 'happy', 'neutral', 'sad', 'surprised']\n"
          ]
        }
      ],
      "source": [
        "class_names = train_data.class_names\n",
        "num_classes = len(class_names)\n",
        "print(class_names)"
      ]
    },
    {
      "cell_type": "code",
      "execution_count": null,
      "id": "b9822dd9",
      "metadata": {
        "colab": {
          "base_uri": "https://localhost:8080/",
          "height": 591
        },
        "id": "b9822dd9",
        "outputId": "f777d07b-338e-4915-a686-154b377881aa"
      },
      "outputs": [
        {
          "data": {
            "image/png": "[encoded data removed]",
            "text/plain": [
              "<Figure size 720x720 with 9 Axes>"
            ]
          },
          "metadata": {
            "needs_background": "light"
          },
          "output_type": "display_data"
        }
      ],
      "source": [
        "plt.figure(figsize=(10, 10))\n",
        "for images, labels in train_data.take(1):\n",
        "    for i in range(9):\n",
        "        ax = plt.subplot(3, 3, i + 1)\n",
        "        plt.imshow(images[i].numpy().astype(\"uint8\"))\n",
        "        plt.title(class_names[labels[i]])\n",
        "        plt.axis(\"off\")"
      ]
    },
    {
      "cell_type": "code",
      "execution_count": null,
      "id": "dedbb495",
      "metadata": {
        "id": "dedbb495",
        "outputId": "991abc73-f8ba-4577-fe15-012a36933b43"
      },
      "outputs": [
        {
          "data": {
            "text/plain": [
              "['happy', 'sad', 'fearful', 'neutral', 'angry', 'disgusted', 'surprised']"
            ]
          },
          "execution_count": 6,
          "metadata": {},
          "output_type": "execute_result"
        }
      ],
      "source": [
        "target_var = os.listdir(test_dir)\n",
        "target_var"
      ]
    },
    {
      "cell_type": "code",
      "execution_count": null,
      "id": "d7923b8f",
      "metadata": {
        "id": "d7923b8f",
        "outputId": "45b70334-b805-487d-df9a-8d561b079843"
      },
      "outputs": [
        {
          "data": {
            "image/png": "[encoded data removed]",
            "text/plain": [
              "<Figure size 576x288 with 2 Axes>"
            ]
          },
          "metadata": {},
          "output_type": "display_data"
        },
        {
          "name": "stdout",
          "output_type": "stream",
          "text": [
            "Emotion : happy\n",
            "\tTraining : 5772\n",
            "\t Testing : 1774\n",
            "\t Validation : 1445\n",
            "Emotion : sad\n",
            "\tTraining : 3864\n",
            "\t Testing : 1247\n",
            "\t Validation : 967\n",
            "Emotion : fearful\n",
            "\tTraining : 3279\n",
            "\t Testing : 1024\n",
            "\t Validation : 819\n",
            "Emotion : neutral\n",
            "\tTraining : 3972\n",
            "\t Testing : 1233\n",
            "\t Validation : 995\n",
            "Emotion : angry\n",
            "\tTraining : 3196\n",
            "\t Testing : 958\n",
            "\t Validation : 800\n",
            "Emotion : disgusted\n",
            "\tTraining : 349\n",
            "\t Testing : 111\n",
            "\t Validation : 88\n",
            "Emotion : surprised\n",
            "\tTraining : 2537\n",
            "\t Testing : 831\n",
            "\t Validation : 635\n"
          ]
        }
      ],
      "source": [
        "x_train = np.array([ len(os.listdir(train_dir+i+'/')) for i in target_var ])\n",
        "#x_valid = np.array([ len(os.listdir(valid_dir+i+'/')) for i in target_var ])\n",
        "x_test = np.array([ len(os.listdir(test_dir+i+'/')) for i in target_var ])\n",
        "\n",
        "label = target_var\n",
        "  \n",
        "fig, axes = plt.subplots(1, 2, figsize=(8,4))\n",
        "axes[0].pie(x_train, labels=label, autopct='%1.1f%%',shadow=True, startangle=90)\n",
        "axes[1].pie(x_test, labels=label, autopct='%1.1f%%',shadow=True, startangle=90)\n",
        "#axes[2].pie(x_valid, labels=label, autopct='%1.1f%%',shadow=True, startangle=90)\n",
        "axes[0].set_title('Train')\n",
        "axes[1].set_title('Test')\n",
        "#axes[2].set_title('Validation')\n",
        "plt.show()\n",
        "\n",
        "for i in target_var:\n",
        "    print('Emotion : ' + i )\n",
        "    print('\\tTraining : ' + str(len(os.listdir(train_dir+i+'/'))) +'\\n\\t Testing : ' + str(len(os.listdir(test_dir+i+'/')))+'\\n\\t Validation : ' + str(len(os.listdir(valid_dir+i+'/'))))"
      ]
    },
    {
      "cell_type": "markdown",
      "id": "de84576d",
      "metadata": {
        "id": "de84576d"
      },
      "source": [
        "## Data Augmentation"
      ]
    },
    {
      "cell_type": "markdown",
      "id": "718997ad",
      "metadata": {
        "id": "718997ad"
      },
      "source": [
        "- zoom range (0.2)\n",
        "- Resize the images (224x224)\n",
        "- Scaling/Normalization (1 to 255)\n",
        "- Randomly flip images (Horizontally)\n",
        "- Randomly rotate images (up to 20°)"
      ]
    },
    {
      "cell_type": "code",
      "execution_count": 8,
      "id": "622f1027",
      "metadata": {
        "id": "622f1027"
      },
      "outputs": [],
      "source": [
        "data_augmentation = Sequential([\n",
        "   #zoom_range = 0.2,\n",
        "    Resizing(224, 224), \n",
        "    Rescaling(1./255),\n",
        "    #RandomFlip(\"horizontal\"),\n",
        "    #RandomRotation(0.2)\n",
        "])"
      ]
    },
    {
      "cell_type": "markdown",
      "id": "b582815b",
      "metadata": {
        "id": "b582815b"
      },
      "source": [
        "## Model Metrics"
      ]
    },
    {
      "cell_type": "code",
      "execution_count": 9,
      "id": "4d897af6",
      "metadata": {
        "id": "4d897af6"
      },
      "outputs": [],
      "source": [
        "def plot_model_performance(hist, model_name=None, save=False):\n",
        "    model_hist = pd.DataFrame(hist.history)\n",
        "    plt.figure(figsize=(8, 5))\n",
        "    sns.lineplot(data=model_hist[['accuracy', 'val_accuracy']])\n",
        "    plt.ylabel('Accuracy')\n",
        "    plt.xlabel('Epoch')\n",
        "    plt.legend(['Training', 'Validation'])\n",
        "    \n",
        "    if save and model_name:\n",
        "        plt.title(f'{model_name} Accuracy Graph')\n",
        "        plt.savefig(f'Images/{model_name} accuracy graph.png', transparent=True, bbox_inches='tight')"
      ]
    },
    {
      "cell_type": "markdown",
      "id": "2895490a",
      "metadata": {
        "id": "2895490a"
      },
      "source": [
        "## Model Training"
      ]
    },
    {
      "cell_type": "code",
      "execution_count": 10,
      "id": "f3883688",
      "metadata": {
        "id": "f3883688"
      },
      "outputs": [],
      "source": [
        "AUTOTUNE = tf.data.AUTOTUNE\n",
        "\n",
        "train_data = train_data.cache().prefetch(buffer_size=AUTOTUNE)\n",
        "test_data = test_data.cache().prefetch(buffer_size=AUTOTUNE)\n",
        "valid_data = valid_data.cache().prefetch(buffer_size=AUTOTUNE)"
      ]
    },
    {
      "cell_type": "markdown",
      "id": "07cfc310",
      "metadata": {
        "id": "07cfc310"
      },
      "source": [
        "## Simple Neural Network Baseline"
      ]
    },
    {
      "cell_type": "code",
      "execution_count": null,
      "id": "644eabf7",
      "metadata": {
        "id": "644eabf7"
      },
      "outputs": [],
      "source": [
        "sbase_NN = Sequential()\n",
        "sbase_NN.add(data_augmentation)\n",
        "sbase_NN.add(Dense(8, activation='relu'))\n",
        "sbase_NN.add(Flatten())\n",
        "sbase_NN.add(Dense(7, activation='softmax'))\n",
        "sbase_NN.compile(loss='sparse_categorical_crossentropy', optimizer='adam', metrics=['accuracy'])"
      ]
    },
    {
      "cell_type": "code",
      "execution_count": null,
      "id": "a770bb7b",
      "metadata": {
        "id": "a770bb7b",
        "outputId": "f0d4e5e0-2dbd-43f0-8856-f65e291937ef"
      },
      "outputs": [
        {
          "name": "stdout",
          "output_type": "stream",
          "text": [
            "Epoch 1/4\n",
            "718/718 [==============================] - 32s 43ms/step - loss: 1.8186 - accuracy: 0.2458 - val_loss: 1.8159 - val_accuracy: 0.1829\n",
            "Epoch 2/4\n",
            " 41/718 [>.............................] - ETA: 1:08 - loss: 1.8015 - accuracy: 0.2241"
          ]
        }
      ],
      "source": [
        "sbase_NN_hist = sbase_NN.fit(train_data, epochs=4, validation_data=valid_data, verbose=1)"
      ]
    },
    {
      "cell_type": "code",
      "execution_count": null,
      "id": "733be699",
      "metadata": {
        "id": "733be699"
      },
      "outputs": [],
      "source": [
        "plot_model_performance(sbase_NN_hist,'Simple Baseline NN', save=True)"
      ]
    },
    {
      "cell_type": "code",
      "execution_count": null,
      "id": "86f0eb17",
      "metadata": {
        "id": "86f0eb17"
      },
      "outputs": [],
      "source": [
        "train_loss, train_acc = sbase_NN.evaluate(train_data, verbose=1)\n",
        "valid_loss, valid_acc = sbase_NN.evaluate(valid_data, verbose=1)\n",
        "\n",
        "print(f'\\n\\nTraining Accuracy:\\t{train_acc * 100}\\nTraining Loss:\\t\\t{train_loss}\\n')\n",
        "print(f'Validation Accuracy:\\t{valid_acc * 100}\\nValidation Loss:\\t{valid_loss}\\n')\n",
        "print('Train/Validation Diff:\\t', (train_acc - valid_acc) * 100)"
      ]
    },
    {
      "cell_type": "markdown",
      "id": "d0052a8b",
      "metadata": {
        "id": "d0052a8b"
      },
      "source": [
        "## Neural Network Baseline (NN)"
      ]
    },
    {
      "cell_type": "code",
      "execution_count": null,
      "id": "ee7c9e25",
      "metadata": {
        "id": "ee7c9e25"
      },
      "outputs": [],
      "source": [
        "base_NN = Sequential()\n",
        "base_NN.add(data_augmentation)\n",
        "base_NN.add(Dense(4, activation='relu')) \n",
        "base_NN.add(Dense(8, activation='relu')) \n",
        "base_NN.add(Dense(16,activation='relu')) \n",
        "base_NN.add(Dense(32,activation='relu'))\n",
        "base_NN.add(Dense(16,activation='relu'))\n",
        "base_NN.add(Dense(8, activation='relu'))\n",
        "base_NN.add(Flatten())\n",
        "base_NN.add(Dense(7, activation='softmax'))\n",
        "\n",
        "base_NN.compile(loss='sparse_categorical_crossentropy', optimizer='adam', metrics=['accuracy'])"
      ]
    },
    {
      "cell_type": "code",
      "execution_count": null,
      "id": "0a2d2f99",
      "metadata": {
        "id": "0a2d2f99",
        "outputId": "7cb05050-6f40-483a-a3f1-cd604263abec",
        "scrolled": true
      },
      "outputs": [
        {
          "name": "stdout",
          "output_type": "stream",
          "text": [
            "Epoch 1/6\n",
            "718/718 [==============================] - 52s 71ms/step - loss: 1.7920 - accuracy: 0.2479 - val_loss: 1.7898 - val_accuracy: 0.2495\n",
            "Epoch 2/6\n",
            "718/718 [==============================] - 71s 100ms/step - loss: 1.7751 - accuracy: 0.2623 - val_loss: 1.7770 - val_accuracy: 0.2533\n",
            "Epoch 3/6\n",
            "718/718 [==============================] - 66s 91ms/step - loss: 1.7673 - accuracy: 0.2699 - val_loss: 1.7708 - val_accuracy: 0.2584\n",
            "Epoch 4/6\n",
            "718/718 [==============================] - 68s 95ms/step - loss: 1.7623 - accuracy: 0.2692 - val_loss: 1.7681 - val_accuracy: 0.2572\n",
            "Epoch 5/6\n",
            "718/718 [==============================] - 71s 98ms/step - loss: 1.7622 - accuracy: 0.2711 - val_loss: 1.7596 - val_accuracy: 0.2619\n",
            "Epoch 6/6\n",
            "718/718 [==============================] - 64s 90ms/step - loss: 1.7588 - accuracy: 0.2711 - val_loss: 1.7599 - val_accuracy: 0.2617\n"
          ]
        }
      ],
      "source": [
        "base_NN_hist = base_NN.fit(train_data, epochs=6, validation_data=valid_data, verbose=1)"
      ]
    },
    {
      "cell_type": "code",
      "execution_count": null,
      "id": "99852a57",
      "metadata": {
        "id": "99852a57",
        "outputId": "b64c219d-4baf-4ccd-eacb-bfbf7c68604b"
      },
      "outputs": [
        {
          "data": {
            "image/png": "[encoded data removed]",
            "text/plain": [
              "<Figure size 576x360 with 1 Axes>"
            ]
          },
          "metadata": {
            "needs_background": "light"
          },
          "output_type": "display_data"
        }
      ],
      "source": [
        "plot_model_performance(base_NN_hist, 'Baseline NN', save=True)"
      ]
    },
    {
      "cell_type": "code",
      "execution_count": null,
      "id": "44b99a6a",
      "metadata": {
        "id": "44b99a6a",
        "outputId": "029a35e4-b94c-4998-f325-40465bea1971"
      },
      "outputs": [
        {
          "name": "stdout",
          "output_type": "stream",
          "text": [
            "718/718 [==============================] - 48s 67ms/step - loss: 1.7527 - accuracy: 0.2664\n",
            "180/180 [==============================] - 12s 64ms/step - loss: 1.7599 - accuracy: 0.2617\n",
            "\n",
            "\n",
            "Training Accuracy:\t26.6440212726593\n",
            "Training Loss:\t\t1.752709150314331\n",
            "\n",
            "Validation Accuracy:\t26.1701762676239\n",
            "Validation Loss:\t1.7598847150802612\n",
            "\n",
            "Train/Validation Diff:\t 0.4738450050354004\n"
          ]
        }
      ],
      "source": [
        "train_loss, train_acc = base_NN.evaluate(train_data, verbose=1)\n",
        "valid_loss, valid_acc = base_NN.evaluate(valid_data, verbose=1)\n",
        "\n",
        "print(f'\\n\\nTraining Accuracy:\\t{train_acc * 100}\\nTraining Loss:\\t\\t{train_loss}\\n')\n",
        "print(f'Validation Accuracy:\\t{valid_acc * 100}\\nValidation Loss:\\t{valid_loss}\\n')\n",
        "print('Train/Validation Diff:\\t', (train_acc - valid_acc) * 100)"
      ]
    },
    {
      "cell_type": "markdown",
      "id": "59108ac7",
      "metadata": {
        "id": "59108ac7"
      },
      "source": [
        "## Convolutional Neural Network Baseline (CNN)"
      ]
    },
    {
      "cell_type": "code",
      "execution_count": null,
      "id": "243fe972",
      "metadata": {
        "id": "243fe972"
      },
      "outputs": [],
      "source": [
        "base_CNN = Sequential()\n",
        "base_CNN.add(data_augmentation)\n",
        "base_CNN.add(Conv2D(filters=10, kernel_size=3, activation='relu', padding='same'))\n",
        "base_CNN.add(MaxPooling2D())\n",
        "base_CNN.add(Conv2D(filters=5, kernel_size=3, activation='relu', padding='same'))\n",
        "base_CNN.add(MaxPooling2D())\n",
        "base_CNN.add(Flatten())\n",
        "base_CNN.add(Dense(7, activation='softmax'))\n",
        "base_CNN.compile(loss='sparse_categorical_crossentropy', optimizer='adam', metrics=['accuracy'])"
      ]
    },
    {
      "cell_type": "code",
      "execution_count": null,
      "id": "b979dd7f",
      "metadata": {
        "id": "b979dd7f"
      },
      "outputs": [],
      "source": [
        "base_CNN_hist = base_CNN.fit(train_data, epochs=5, validation_data=valid_data, verbose=1)"
      ]
    },
    {
      "cell_type": "code",
      "execution_count": null,
      "id": "f4404785",
      "metadata": {
        "id": "f4404785",
        "outputId": "6a3c2477-08be-4966-9129-00a304901e8f"
      },
      "outputs": [
        {
          "data": {
            "image/png": "[encoded data removed]",
            "text/plain": [
              "<Figure size 576x360 with 1 Axes>"
            ]
          },
          "metadata": {
            "needs_background": "light"
          },
          "output_type": "display_data"
        }
      ],
      "source": [
        "plot_model_performance(base_CNN_hist, 'Baseline CNN', save=True)"
      ]
    },
    {
      "cell_type": "code",
      "execution_count": null,
      "id": "d9fb83eb",
      "metadata": {
        "id": "d9fb83eb",
        "outputId": "4d4f7130-84ad-414c-cfca-f656f0a44db2"
      },
      "outputs": [
        {
          "name": "stdout",
          "output_type": "stream",
          "text": [
            "718/718 [==============================] - 62s 87ms/step - loss: 1.6738 - accuracy: 0.3318\n",
            "180/180 [==============================] - 13s 72ms/step - loss: 1.6876 - accuracy: 0.3188\n",
            "\n",
            "\n",
            "Training Accuracy:\t33.17655324935913\n",
            "Training Loss:\t\t1.6737563610076904\n",
            "\n",
            "Validation Accuracy:\t31.87749981880188\n",
            "Validation Loss:\t1.6876177787780762\n",
            "\n",
            "Train/Validation Diff:\t 1.299053430557251\n"
          ]
        }
      ],
      "source": [
        "train_loss, train_acc = base_CNN.evaluate(train_data, verbose=1)\n",
        "valid_loss, valid_acc = base_CNN.evaluate(valid_data, verbose=1)\n",
        "\n",
        "print(f'\\n\\nTraining Accuracy:\\t{train_acc * 100}\\nTraining Loss:\\t\\t{train_loss}\\n')\n",
        "print(f'Validation Accuracy:\\t{valid_acc * 100}\\nValidation Loss:\\t{valid_loss}\\n')\n",
        "print('Train/Validation Diff:\\t', (train_acc - valid_acc) * 100)"
      ]
    },
    {
      "cell_type": "markdown",
      "id": "dd118280",
      "metadata": {
        "id": "dd118280"
      },
      "source": [
        "##  Models"
      ]
    },
    {
      "cell_type": "code",
      "execution_count": 11,
      "id": "rHzqhafsXFte",
      "metadata": {
        "id": "rHzqhafsXFte"
      },
      "outputs": [],
      "source": [
        "import pandas as pd\n",
        "import numpy as np\n",
        "import matplotlib.pyplot as plt\n",
        "import seaborn as sns\n",
        "import plotly.express as px\n",
        "\n",
        "\n",
        "import tensorflow as tf\n",
        "from tensorflow.keras.preprocessing.image import ImageDataGenerator\n",
        "from tensorflow.keras.utils import to_categorical\n",
        "\n",
        "from sklearn.metrics import confusion_matrix , classification_report , roc_auc_score\n",
        "\n",
        "from IPython.display import clear_output\n",
        "import warnings\n",
        "warnings.filterwarnings('ignore')\n",
        "\n",
        "import tensorflow as tf\n",
        "from tensorflow.keras.layers import Activation, Conv2D, MaxPooling2D, Dense, Flatten, Dropout, BatchNormalization"
      ]
    },
    {
      "cell_type": "code",
      "execution_count": 12,
      "id": "1b556314",
      "metadata": {
        "id": "1b556314"
      },
      "outputs": [],
      "source": [
        "sgd_opt = SGD(learning_rate=0.001) \n",
        "adam_opt = Adam(learning_rate=0.001)"
      ]
    },
    {
      "cell_type": "markdown",
      "id": "33ec7071",
      "metadata": {
        "id": "33ec7071"
      },
      "source": [
        "## CNN-v1"
      ]
    },
    {
      "cell_type": "code",
      "execution_count": null,
      "id": "4xLoAtx2Uwn_",
      "metadata": {
        "id": "4xLoAtx2Uwn_"
      },
      "outputs": [],
      "source": [
        "CNN = Sequential()\n",
        "CNN.add(data_augmentation)\n",
        "CNN.add(Conv2D(filters=256, kernel_size=3, activation='relu', padding='same'))\n",
        "CNN.add(MaxPooling2D())\n",
        "CNN.add(Dropout(0.4))\n",
        "\n",
        "\n",
        "CNN.add(Conv2D(filters=128, kernel_size=3, activation='relu', padding='same'))\n",
        "CNN.add(MaxPooling2D())\n",
        "CNN.add(Dropout(0.3))\n",
        "\n",
        "CNN.add(Conv2D(filters=64, kernel_size=3, activation='relu', padding='same'))\n",
        "CNN.add(MaxPooling2D())\n",
        "CNN.add(Dropout(0.3))\n",
        "\n",
        "CNN.add(Conv2D(filters=32, kernel_size=3, activation='relu', padding='same'))\n",
        "CNN.add(MaxPooling2D())\n",
        "CNN.add(Dropout(0.3))\n",
        "\n",
        "CNN.add(Conv2D(filters=16, kernel_size=3, activation='relu', padding='same'))\n",
        "CNN.add(MaxPooling2D())\n",
        "CNN.add(Dropout(0.2))\n",
        "\n",
        "\n",
        "CNN.add(Flatten())\n",
        "CNN.add(Dense(7, activation='softmax'))\n",
        "\n",
        "CNN.compile(loss='sparse_categorical_crossentropy', optimizer='adam', metrics=['accuracy'])"
      ]
    },
    {
      "cell_type": "code",
      "execution_count": null,
      "id": "04fe7252",
      "metadata": {
        "colab": {
          "base_uri": "https://localhost:8080/",
          "height": 166
        },
        "id": "04fe7252",
        "outputId": "317076f1-904d-4b8a-a065-c4f93c54e5bf"
      },
      "outputs": [
        {
          "name": "stdout",
          "output_type": "stream",
          "text": [
            "Epoch 1/5\n",
            "718/718 [==============================] - 447s 621ms/step - loss: 1.8332 - accuracy: 0.2354 - val_loss: 1.8111 - val_accuracy: 0.2504\n",
            "Epoch 2/5\n",
            "718/718 [==============================] - 432s 602ms/step - loss: 1.8115 - accuracy: 0.2521 - val_loss: 1.8022 - val_accuracy: 0.2594\n",
            "Epoch 3/5\n",
            "718/718 [==============================] - 440s 612ms/step - loss: 1.8015 - accuracy: 0.2519 - val_loss: 1.7965 - val_accuracy: 0.2610\n",
            "Epoch 4/5\n",
            "718/718 [==============================] - 426s 594ms/step - loss: 1.7961 - accuracy: 0.2537 - val_loss: 1.7890 - val_accuracy: 0.2601\n",
            "Epoch 5/5\n",
            "718/718 [==============================] - 419s 584ms/step - loss: 1.7924 - accuracy: 0.2549 - val_loss: 1.7887 - val_accuracy: 0.2622\n"
          ]
        }
      ],
      "source": [
        "CNN_hist = CNN.fit(train_data, epochs=5, validation_data=valid_data, verbose=1)"
      ]
    },
    {
      "cell_type": "code",
      "execution_count": null,
      "id": "ee9ab5af",
      "metadata": {
        "id": "ee9ab5af"
      },
      "outputs": [],
      "source": [
        ""
      ]
    },
    {
      "cell_type": "code",
      "execution_count": null,
      "id": "f9233778",
      "metadata": {
        "id": "f9233778",
        "outputId": "6b888ba7-ca1b-4619-ec62-66eac19256c2"
      },
      "outputs": [
        {
          "data": {
            "image/png": "[encoded data removed]",
            "text/plain": [
              "<Figure size 576x360 with 1 Axes>"
            ]
          },
          "metadata": {
            "needs_background": "light"
          },
          "output_type": "display_data"
        }
      ],
      "source": [
        "plot_model_performance(CNN_hist, 'Convultional Neural Network', save=True)"
      ]
    },
    {
      "cell_type": "code",
      "execution_count": null,
      "id": "c7887b1f",
      "metadata": {
        "id": "c7887b1f",
        "outputId": "2685f76f-76d8-4bf0-9839-d0b0f4010184"
      },
      "outputs": [
        {
          "name": "stdout",
          "output_type": "stream",
          "text": [
            "718/718 [==============================] - 128s 178ms/step - loss: 1.7868 - accuracy: 0.2610\n",
            "180/180 [==============================] - 33s 185ms/step - loss: 1.7887 - accuracy: 0.2622\n",
            "\n",
            "\n",
            "Training Accuracy:\t26.103997230529785\n",
            "Training Loss:\t\t1.7867728471755981\n",
            "\n",
            "Validation Accuracy:\t26.22237801551819\n",
            "Validation Loss:\t1.7886983156204224\n",
            "\n",
            "Train/Validation Diff:\t 0.11838078498840332\n"
          ]
        }
      ],
      "source": [
        "train_loss, train_acc = CNN.evaluate(train_data, verbose=1)\n",
        "valid_loss, valid_acc = CNN.evaluate(valid_data, verbose=1)\n",
        "\n",
        "print(f'\\n\\nTraining Accuracy:\\t{train_acc * 100}\\nTraining Loss:\\t\\t{train_loss}\\n')\n",
        "print(f'Validation Accuracy:\\t{valid_acc * 100}\\nValidation Loss:\\t{valid_loss}\\n')\n",
        "print('Train/Validation Diff:\\t', np.abs(train_acc - valid_acc) * 100)"
      ]
    },
    {
      "cell_type": "code",
      "execution_count": null,
      "id": "ed602415",
      "metadata": {
        "id": "ed602415"
      },
      "outputs": [],
      "source": [
        "#CNN.save('Deliverables/cnn1_model.h5')"
      ]
    },
    {
      "cell_type": "markdown",
      "id": "8eb70f85",
      "metadata": {
        "id": "8eb70f85"
      },
      "source": [
        "## CNN-v2"
      ]
    },
    {
      "cell_type": "code",
      "execution_count": null,
      "id": "74597b6f",
      "metadata": {
        "id": "74597b6f"
      },
      "outputs": [],
      "source": [
        "CNN2 = Sequential()\n",
        "CNN2.add(data_augmentation)\n",
        "CNN2.add(Conv2D(filters=32, kernel_size=3, activation='relu', padding='same'))\n",
        "CNN2.add(BatchNormalization())\n",
        "CNN2.add(Dropout(0.1)) \n",
        "\n",
        "CNN2.add(Conv2D(filters=32, kernel_size=3, activation='relu', padding='same'))\n",
        "CNN2.add(BatchNormalization())\n",
        "CNN2.add(Dropout(0.3))\n",
        "CNN2.add(MaxPooling2D())\n",
        "\n",
        "\n",
        "CNN2.add(Conv2D(filters=64, kernel_size=3, activation='relu', padding='same'))\n",
        "CNN2.add(BatchNormalization())\n",
        "CNN2.add(Dropout(0.3))\n",
        "\n",
        "CNN2.add(Conv2D(filters=64, kernel_size=3, activation='relu', padding='same'))\n",
        "CNN2.add(BatchNormalization())\n",
        "CNN2.add(MaxPooling2D())\n",
        "CNN2.add(Dropout(0.3))\n",
        "\n",
        "CNN2.add(Conv2D(filters=128, kernel_size=3, activation='relu', padding='same'))\n",
        "CNN2.add(BatchNormalization())\n",
        "#CNN2.add(Dropout(0.2))\n",
        "CNN2.add(Conv2D(filters=128, kernel_size=3, activation='relu', padding='same'))\n",
        "CNN2.add(BatchNormalization())\n",
        "CNN2.add(MaxPooling2D())\n",
        "#CNN2.add(Dropout(0.2))\n",
        "        \n",
        "        \n",
        "CNN2.add(Conv2D(filters=256, kernel_size=3, activation='relu', padding='same'))\n",
        "CNN2.add(BatchNormalization())\n",
        "#CNN2.add(Dropout(0.2))\n",
        "CNN2.add(Conv2D(filters=256, kernel_size=3, activation='relu', padding='same'))\n",
        "CNN2.add(BatchNormalization())\n",
        "CNN2.add(MaxPooling2D())\n",
        "#CNN2.add(Dropout(0.2))\n",
        "\n",
        "        \n",
        "CNN2.add(Flatten()) # after flatten we can add dence lyer\n",
        "CNN2.add(Dense(1000,kernel_initializer='he_normal'))\n",
        "CNN2.add(Activation('relu'))\n",
        "CNN2.add(BatchNormalization())\n",
        "#CNN2.add(Dropout(0.5))\n",
        "\n",
        "\n",
        "CNN2.add(Dense(512,kernel_initializer='he_normal'))\n",
        "CNN2.add(Activation('relu'))\n",
        "CNN2.add(BatchNormalization())\n",
        "#CNN2.add(Dropout(0.5))\n",
        "\n",
        "CNN2.add(Dense(256,kernel_initializer='he_normal'))\n",
        "CNN2.add(Activation('relu'))\n",
        "CNN2.add(BatchNormalization())\n",
        "#CNN2.add(Dropout(0.5))\n",
        "\n",
        "CNN2.add(Dense(128,kernel_initializer='he_normal'))\n",
        "CNN2.add(Activation('relu'))\n",
        "CNN2.add(BatchNormalization())\n",
        "\n",
        "CNN2.add(Dense(64,kernel_initializer='he_normal'))\n",
        "CNN2.add(Activation('relu'))\n",
        "CNN2.add(BatchNormalization())\n",
        "\n",
        "CNN2.add(Dense(32,kernel_initializer='he_normal'))\n",
        "CNN2.add(Activation('relu'))\n",
        "CNN2.add(BatchNormalization())\n",
        "\n",
        "CNN2.add(Dense(7, activation='softmax'))\n",
        "\n",
        "CNN2.compile(loss='sparse_categorical_crossentropy', optimizer=adam_opt, metrics=['accuracy'])"
      ]
    },
    {
      "cell_type": "code",
      "execution_count": null,
      "id": "f02ee863",
      "metadata": {
        "id": "f02ee863",
        "outputId": "6916e074-3200-44aa-f051-9353b4204136"
      },
      "outputs": [
        {
          "name": "stdout",
          "output_type": "stream",
          "text": [
            "Epoch 1/50\n",
            "718/718 [==============================] - 364s 504ms/step - loss: 2.8364 - accuracy: 0.1543 - val_loss: 2.0946 - val_accuracy: 0.2434\n",
            "Epoch 2/50\n",
            "718/718 [==============================] - 375s 522ms/step - loss: 2.4710 - accuracy: 0.1759 - val_loss: 2.0530 - val_accuracy: 0.2462\n",
            "Epoch 3/50\n",
            "718/718 [==============================] - 961s 1s/step - loss: 2.2916 - accuracy: 0.1892 - val_loss: 1.9803 - val_accuracy: 0.2266\n",
            "Epoch 4/50\n",
            "718/718 [==============================] - 346s 482ms/step - loss: 2.1745 - accuracy: 0.1914 - val_loss: 1.9377 - val_accuracy: 0.2544\n",
            "Epoch 5/50\n",
            "718/718 [==============================] - 2174s 3s/step - loss: 2.0843 - accuracy: 0.2041 - val_loss: 1.8928 - val_accuracy: 0.2509\n",
            "Epoch 6/50\n",
            "718/718 [==============================] - 441s 614ms/step - loss: 2.0242 - accuracy: 0.2058 - val_loss: 1.8758 - val_accuracy: 0.2525\n",
            "Epoch 7/50\n",
            "718/718 [==============================] - 752s 1s/step - loss: 1.9679 - accuracy: 0.2154 - val_loss: 1.8849 - val_accuracy: 0.2584\n",
            "Epoch 8/50\n",
            "718/718 [==============================] - 653s 909ms/step - loss: 1.9296 - accuracy: 0.2162 - val_loss: 1.9203 - val_accuracy: 0.2502\n",
            "Epoch 9/50\n",
            "718/718 [==============================] - 742s 1s/step - loss: 1.8968 - accuracy: 0.2260 - val_loss: 1.8748 - val_accuracy: 0.2560\n",
            "Epoch 10/50\n",
            "718/718 [==============================] - 759s 1s/step - loss: 1.8766 - accuracy: 0.2270 - val_loss: 1.8422 - val_accuracy: 0.2610\n",
            "Epoch 11/50\n",
            "718/718 [==============================] - 745s 1s/step - loss: 1.8496 - accuracy: 0.2353 - val_loss: 1.8533 - val_accuracy: 0.2507\n",
            "Epoch 12/50\n",
            "718/718 [==============================] - 709s 987ms/step - loss: 1.8309 - accuracy: 0.2384 - val_loss: 1.9069 - val_accuracy: 0.2483\n",
            "Epoch 13/50\n",
            "718/718 [==============================] - 685s 954ms/step - loss: 1.8155 - accuracy: 0.2487 - val_loss: 1.8869 - val_accuracy: 0.2516\n",
            "Epoch 14/50\n",
            "718/718 [==============================] - 673s 937ms/step - loss: 1.7985 - accuracy: 0.2526 - val_loss: 1.9113 - val_accuracy: 0.2622\n",
            "Epoch 15/50\n",
            "718/718 [==============================] - 763s 1s/step - loss: 1.7832 - accuracy: 0.2604 - val_loss: 1.8015 - val_accuracy: 0.2678\n",
            "Epoch 16/50\n",
            "718/718 [==============================] - 631s 879ms/step - loss: 1.7671 - accuracy: 0.2759 - val_loss: 1.7487 - val_accuracy: 0.2774\n",
            "Epoch 17/50\n",
            "718/718 [==============================] - 618s 861ms/step - loss: 1.7525 - accuracy: 0.2820 - val_loss: 1.7793 - val_accuracy: 0.2807\n",
            "Epoch 18/50\n",
            "718/718 [==============================] - 624s 868ms/step - loss: 1.7320 - accuracy: 0.2968 - val_loss: 1.6865 - val_accuracy: 0.3254\n",
            "Epoch 19/50\n",
            "718/718 [==============================] - 1024s 1s/step - loss: 1.7149 - accuracy: 0.3061 - val_loss: 1.6443 - val_accuracy: 0.3379\n",
            "Epoch 20/50\n",
            "718/718 [==============================] - 553s 770ms/step - loss: 1.6958 - accuracy: 0.3203 - val_loss: 1.5834 - val_accuracy: 0.3762\n",
            "Epoch 21/50\n",
            "718/718 [==============================] - 662s 921ms/step - loss: 1.6774 - accuracy: 0.3300 - val_loss: 1.5489 - val_accuracy: 0.3804\n",
            "Epoch 22/50\n",
            "718/718 [==============================] - 595s 828ms/step - loss: 1.6525 - accuracy: 0.3463 - val_loss: 1.5415 - val_accuracy: 0.3892\n",
            "Epoch 23/50\n",
            "718/718 [==============================] - 606s 844ms/step - loss: 1.6203 - accuracy: 0.3594 - val_loss: 1.5051 - val_accuracy: 0.3981\n",
            "Epoch 24/50\n",
            "718/718 [==============================] - 630s 877ms/step - loss: 1.6032 - accuracy: 0.3724 - val_loss: 1.4863 - val_accuracy: 0.4181\n",
            "Epoch 25/50\n",
            "718/718 [==============================] - 689s 960ms/step - loss: 1.5761 - accuracy: 0.3849 - val_loss: 1.5475 - val_accuracy: 0.3868\n",
            "Epoch 26/50\n",
            "718/718 [==============================] - 673s 937ms/step - loss: 1.5471 - accuracy: 0.3977 - val_loss: 1.4672 - val_accuracy: 0.4183\n",
            "Epoch 27/50\n",
            "718/718 [==============================] - 661s 918ms/step - loss: 1.5269 - accuracy: 0.4086 - val_loss: 1.4020 - val_accuracy: 0.4510\n",
            "Epoch 28/50\n",
            "718/718 [==============================] - 656s 913ms/step - loss: 1.5045 - accuracy: 0.4155 - val_loss: 1.3952 - val_accuracy: 0.4571\n",
            "Epoch 29/50\n",
            "718/718 [==============================] - 666s 928ms/step - loss: 1.4849 - accuracy: 0.4279 - val_loss: 1.3887 - val_accuracy: 0.4583\n",
            "Epoch 30/50\n",
            "718/718 [==============================] - 688s 958ms/step - loss: 1.4722 - accuracy: 0.4332 - val_loss: 1.3970 - val_accuracy: 0.4541\n",
            "Epoch 31/50\n",
            "718/718 [==============================] - 701s 976ms/step - loss: 1.4577 - accuracy: 0.4430 - val_loss: 1.3479 - val_accuracy: 0.4757\n",
            "Epoch 32/50\n",
            "718/718 [==============================] - 690s 962ms/step - loss: 1.4398 - accuracy: 0.4514 - val_loss: 1.3381 - val_accuracy: 0.4773\n",
            "Epoch 33/50\n",
            "718/718 [==============================] - 646s 900ms/step - loss: 1.4265 - accuracy: 0.4570 - val_loss: 1.3054 - val_accuracy: 0.4886\n",
            "Epoch 34/50\n",
            "718/718 [==============================] - 356s 495ms/step - loss: 1.4084 - accuracy: 0.4591 - val_loss: 1.3025 - val_accuracy: 0.4914\n",
            "Epoch 35/50\n",
            "718/718 [==============================] - 355s 494ms/step - loss: 1.4032 - accuracy: 0.4660 - val_loss: 1.2998 - val_accuracy: 0.4909\n",
            "Epoch 36/50\n",
            "718/718 [==============================] - 344s 479ms/step - loss: 1.3938 - accuracy: 0.4674 - val_loss: 1.2747 - val_accuracy: 0.5037\n",
            "Epoch 37/50\n",
            "718/718 [==============================] - 340s 474ms/step - loss: 1.3801 - accuracy: 0.4711 - val_loss: 1.2542 - val_accuracy: 0.5123\n",
            "Epoch 38/50\n",
            "718/718 [==============================] - 340s 473ms/step - loss: 1.3750 - accuracy: 0.4762 - val_loss: 1.2590 - val_accuracy: 0.5095\n",
            "Epoch 39/50\n",
            "718/718 [==============================] - 350s 488ms/step - loss: 1.3590 - accuracy: 0.4836 - val_loss: 1.2757 - val_accuracy: 0.5046\n",
            "Epoch 40/50\n",
            "718/718 [==============================] - 4059s 6s/step - loss: 1.3541 - accuracy: 0.4865 - val_loss: 1.2418 - val_accuracy: 0.5157\n",
            "Epoch 41/50\n",
            "718/718 [==============================] - 473s 660ms/step - loss: 1.3399 - accuracy: 0.4922 - val_loss: 1.2438 - val_accuracy: 0.5164\n",
            "Epoch 42/50\n",
            "718/718 [==============================] - 729s 1s/step - loss: 1.3322 - accuracy: 0.4967 - val_loss: 1.2191 - val_accuracy: 0.5281\n",
            "Epoch 43/50\n",
            "718/718 [==============================] - 412s 573ms/step - loss: 1.3266 - accuracy: 0.4957 - val_loss: 1.2348 - val_accuracy: 0.5215\n",
            "Epoch 44/50\n",
            "718/718 [==============================] - 407s 567ms/step - loss: 1.3224 - accuracy: 0.4957 - val_loss: 1.2139 - val_accuracy: 0.5311\n",
            "Epoch 45/50\n",
            "718/718 [==============================] - 397s 553ms/step - loss: 1.3142 - accuracy: 0.5011 - val_loss: 1.1986 - val_accuracy: 0.5359\n",
            "Epoch 46/50\n",
            "718/718 [==============================] - 466s 650ms/step - loss: 1.3051 - accuracy: 0.5057 - val_loss: 1.1995 - val_accuracy: 0.5382\n",
            "Epoch 47/50\n",
            "718/718 [==============================] - 511s 712ms/step - loss: 1.3005 - accuracy: 0.5112 - val_loss: 1.2060 - val_accuracy: 0.5351\n",
            "Epoch 48/50\n",
            "718/718 [==============================] - 504s 702ms/step - loss: 1.3004 - accuracy: 0.5106 - val_loss: 1.1813 - val_accuracy: 0.5483\n",
            "Epoch 49/50\n",
            "718/718 [==============================] - 489s 681ms/step - loss: 1.2931 - accuracy: 0.5149 - val_loss: 1.1811 - val_accuracy: 0.5436\n",
            "Epoch 50/50\n",
            "718/718 [==============================] - 417s 581ms/step - loss: 1.2884 - accuracy: 0.5156 - val_loss: 1.1936 - val_accuracy: 0.5340\n"
          ]
        }
      ],
      "source": [
        "CNN2_hist = CNN2.fit(train_data, epochs=50, validation_data=valid_data, verbose=1)"
      ]
    },
    {
      "cell_type": "code",
      "execution_count": null,
      "id": "3f001e23",
      "metadata": {
        "id": "3f001e23",
        "outputId": "c15ac220-0c82-4f17-dadc-f38a55eecf98"
      },
      "outputs": [
        {
          "data": {
            "image/png": "[encoded data removed]",
            "text/plain": [
              "<Figure size 576x360 with 1 Axes>"
            ]
          },
          "metadata": {
            "needs_background": "light"
          },
          "output_type": "display_data"
        }
      ],
      "source": [
        "plot_model_performance(CNN2_hist, 'Convultional Neural Network', save=True)"
      ]
    },
    {
      "cell_type": "code",
      "execution_count": null,
      "id": "362645bc",
      "metadata": {
        "id": "362645bc",
        "outputId": "6d5d8e29-302c-485d-dc18-632b72afa9e3"
      },
      "outputs": [
        {
          "name": "stdout",
          "output_type": "stream",
          "text": [
            "718/718 [==============================] - 154s 215ms/step - loss: 1.1252 - accuracy: 0.5725\n",
            "180/180 [==============================] - 28s 155ms/step - loss: 1.1936 - accuracy: 0.5340\n",
            "\n",
            "\n",
            "Training Accuracy:\t57.251107692718506\n",
            "Training Loss:\t\t1.1251643896102905\n",
            "\n",
            "Validation Accuracy:\t53.401774168014526\n",
            "Validation Loss:\t1.1936078071594238\n",
            "\n",
            "Train/Validation Diff:\t 3.8493335247039795\n"
          ]
        }
      ],
      "source": [
        "train_loss, train_acc = CNN2.evaluate(train_data, verbose=1)\n",
        "valid_loss, valid_acc = CNN2.evaluate(valid_data, verbose=1)\n",
        "\n",
        "print(f'\\n\\nTraining Accuracy:\\t{train_acc * 100}\\nTraining Loss:\\t\\t{train_loss}\\n')\n",
        "print(f'Validation Accuracy:\\t{valid_acc * 100}\\nValidation Loss:\\t{valid_loss}\\n')\n",
        "print('Train/Validation Diff:\\t', np.abs(train_acc - valid_acc) * 100)"
      ]
    },
    {
      "cell_type": "code",
      "execution_count": null,
      "id": "e8047bea",
      "metadata": {
        "id": "e8047bea"
      },
      "outputs": [],
      "source": [
        "CNN2.save('Deliverables/cnn2_model.h5')"
      ]
    },
    {
      "cell_type": "markdown",
      "id": "76f86f01",
      "metadata": {
        "id": "76f86f01"
      },
      "source": [
        "## CNN-v3"
      ]
    },
    {
      "cell_type": "code",
      "execution_count": 13,
      "id": "ef7edb73",
      "metadata": {
        "id": "ef7edb73"
      },
      "outputs": [],
      "source": [
        "CNN3 = Sequential()\n",
        "CNN3.add(data_augmentation)\n",
        "CNN3.add(Conv2D(filters=32, kernel_size=3, activation='relu', padding='same'))\n",
        "CNN3.add(BatchNormalization())\n",
        "CNN3.add(Dropout(0.1))\n",
        "\n",
        "CNN3.add(Conv2D(filters=32, kernel_size=3, activation='relu', padding='same'))\n",
        "CNN3.add(BatchNormalization())\n",
        "CNN3.add(MaxPooling2D())\n",
        "CNN3.add(Dropout(0.3))\n",
        "\n",
        "CNN3.add(Conv2D(filters=64, kernel_size=3, activation='relu', padding='same'))\n",
        "CNN3.add(BatchNormalization())\n",
        "CNN3.add(Dropout(0.3))\n",
        "\n",
        "CNN3.add(Conv2D(filters=64, kernel_size=3, activation='relu', padding='same'))\n",
        "CNN3.add(BatchNormalization())\n",
        "CNN3.add(MaxPooling2D())\n",
        "CNN3.add(Dropout(0.3))\n",
        "\n",
        "CNN3.add(Conv2D(filters=128, kernel_size=3, activation='relu', padding='same'))\n",
        "CNN3.add(BatchNormalization())\n",
        "CNN3.add(Dropout(0.2))\n",
        "CNN3.add(Conv2D(filters=128, kernel_size=3, activation='relu', padding='same'))\n",
        "CNN3.add(BatchNormalization())\n",
        "CNN3.add(MaxPooling2D())\n",
        "CNN3.add(Dropout(0.2))\n",
        "        \n",
        "        \n",
        "CNN3.add(Conv2D(filters=256, kernel_size=3, activation='relu', padding='same'))\n",
        "CNN3.add(BatchNormalization())\n",
        "CNN3.add(Dropout(0.2))\n",
        "CNN3.add(Conv2D(filters=256, kernel_size=3, activation='relu', padding='same'))\n",
        "CNN3.add(BatchNormalization())\n",
        "CNN3.add(MaxPooling2D())\n",
        "CNN3.add(Dropout(0.2))\n",
        "\n",
        "        \n",
        "CNN3.add(Flatten()) # after flatten we can add dence lyer\n",
        "CNN3.add(Dense(64,kernel_initializer='he_normal'))\n",
        "CNN3.add(Activation('relu'))\n",
        "CNN3.add(BatchNormalization())\n",
        "CNN3.add(Dropout(0.5))\n",
        "\n",
        "\n",
        "CNN3.add(Dense(64,kernel_initializer='he_normal'))\n",
        "CNN3.add(Activation('relu'))\n",
        "CNN3.add(BatchNormalization())\n",
        "CNN3.add(Dropout(0.5))\n",
        "\n",
        "CNN3.add(Dense(7, activation='softmax'))\n",
        "\n",
        "CNN3.compile(loss='sparse_categorical_crossentropy', optimizer=adam_opt, metrics=['accuracy'])"
      ]
    },
    {
      "cell_type": "code",
      "source": [
        "## having early stopping and model check point \n",
        "\n",
        "from keras.callbacks import ModelCheckpoint, EarlyStopping\n",
        "\n",
        "# early stopping\n",
        "es = EarlyStopping(monitor='val_accuracy', min_delta= 0.01 , patience= 8, verbose= 1, mode='auto')\n",
        "\n",
        "# model check point\n",
        "mc = ModelCheckpoint(filepath=\"CNN3_best_model.h5\", monitor= 'val_accuracy', verbose= 1, save_best_only= True, mode = 'auto')\n",
        "\n",
        "# puting call back in a list \n",
        "call_back = [es, mc]"
      ],
      "metadata": {
        "id": "Z7yK4fvEbGjt"
      },
      "id": "Z7yK4fvEbGjt",
      "execution_count": 14,
      "outputs": []
    },
    {
      "cell_type": "code",
      "execution_count": 2,
      "id": "120834c3",
      "metadata": {
        "id": "120834c3"
      },
      "outputs": [],
      "source": [
        "CNN3_hist = CNN3.fit_generator(train_data, \n",
        "                           steps_per_epoch= 10, \n",
        "                           epochs= 100, \n",
        "                           validation_data= val_data, \n",
        "                           validation_steps= 8, \n",
        "                           callbacks=[es,mc])\n",
        "'''\n",
        "CNN3_hist = CNN3.fit(train_data, epochs=100, validation_data=valid_data, verbose=1, callbacks=[\n",
        "        keras.callbacks.EarlyStopping(patience=8, verbose=1, restore_best_weights=True)])\n",
        "        '''"
      ]
    },
    {
      "cell_type": "code",
      "execution_count": null,
      "id": "c39a62de",
      "metadata": {
        "id": "c39a62de",
        "outputId": "b8c24f42-ee63-456a-8f74-93c799ca0262"
      },
      "outputs": [
        {
          "data": {
            "image/png": "[encoded data removed]",
            "text/plain": [
              "<Figure size 576x360 with 1 Axes>"
            ]
          },
          "metadata": {
            "needs_background": "light"
          },
          "output_type": "display_data"
        }
      ],
      "source": [
        "plot_model_performance(CNN3_hist, 'Convultional Neural Network', save=True)"
      ]
    },
    {
      "cell_type": "code",
      "execution_count": null,
      "id": "d634aa2d",
      "metadata": {
        "id": "d634aa2d",
        "outputId": "b1cf0dca-3f9b-44f6-b829-ca94563aa88d"
      },
      "outputs": [
        {
          "name": "stdout",
          "output_type": "stream",
          "text": [
            "718/718 [==============================] - 89s 123ms/step - loss: 0.6896 - accuracy: 0.7585\n",
            "180/180 [==============================] - 21s 119ms/step - loss: 1.0909 - accuracy: 0.5994\n",
            "\n",
            "\n",
            "Training Accuracy:\t75.84705352783203\n",
            "Training Loss:\t\t0.6896095275878906\n",
            "\n",
            "Validation Accuracy:\t59.94431972503662\n",
            "Validation Loss:\t1.0908572673797607\n",
            "\n",
            "Train/Validation Diff:\t 15.90273380279541\n"
          ]
        }
      ],
      "source": [
        "train_loss, train_acc = CNN3.evaluate(train_data, verbose=1)\n",
        "valid_loss, valid_acc = CNN3.evaluate(valid_data, verbose=1)\n",
        "\n",
        "print(f'\\n\\nTraining Accuracy:\\t{train_acc * 100}\\nTraining Loss:\\t\\t{train_loss}\\n')\n",
        "print(f'Validation Accuracy:\\t{valid_acc * 100}\\nValidation Loss:\\t{valid_loss}\\n')\n",
        "print('Train/Validation Diff:\\t', np.abs(train_acc - valid_acc) * 100)"
      ]
    },
    {
      "cell_type": "code",
      "execution_count": null,
      "id": "4d37355e",
      "metadata": {
        "id": "4d37355e"
      },
      "outputs": [],
      "source": [
        "CNN3.save('Deliverables/cnn3_model.h5')"
      ]
    },
    {
      "cell_type": "markdown",
      "id": "a8b2b0b7",
      "metadata": {
        "id": "a8b2b0b7"
      },
      "source": [
        "## CNN-v4"
      ]
    },
    {
      "cell_type": "code",
      "execution_count": null,
      "id": "11c86e07",
      "metadata": {
        "id": "11c86e07"
      },
      "outputs": [],
      "source": [
        "CNN4 = Sequential()\n",
        "CNN4.add(data_augmentation)\n",
        "CNN4.add(Conv2D(filters=32, kernel_size=3, activation='relu', padding='same'))\n",
        "\n",
        "CNN4.add(Conv2D(filters=64, kernel_size=3, activation='relu', padding='same'))\n",
        "CNN4.add(MaxPooling2D())\n",
        "\n",
        "\n",
        "CNN4.add(Conv2D(filters=128, kernel_size=3, activation='relu', padding='same'))\n",
        "CNN4.add(MaxPooling2D())\n",
        "        \n",
        "        \n",
        "CNN4.add(Conv2D(filters=256, kernel_size=3, activation='relu', padding='same'))\n",
        "CNN4.add(BatchNormalization())\n",
        "\n",
        "CNN4.add(Conv2D(filters=256, kernel_size=3, activation='relu', padding='same'))\n",
        "CNN4.add(MaxPooling2D())\n",
        "\n",
        "        \n",
        "CNN4.add(Flatten()) # after flatten we can add dence lyer\n",
        "CNN4.add(Dense(1000,kernel_initializer='he_normal'))\n",
        "CNN4.add(Activation('relu'))\n",
        "\n",
        "\n",
        "CNN4.add(Dense(512,kernel_initializer='he_normal'))\n",
        "CNN4.add(Activation('relu'))\n",
        "\n",
        "CNN4.add(Dense(256,kernel_initializer='he_normal'))\n",
        "CNN4.add(Activation('relu'))\n",
        "\n",
        "CNN4.add(Dense(128,kernel_initializer='he_normal'))\n",
        "CNN4.add(Activation('relu'))\n",
        "\n",
        "\n",
        "CNN4.add(Dense(64,kernel_initializer='he_normal'))\n",
        "CNN4.add(Activation('relu'))\n",
        "\n",
        "CNN4.add(Dense(32,kernel_initializer='he_normal'))\n",
        "CNN4.add(Activation('relu'))\n",
        "\n",
        "CNN4.add(Dense(7, activation='softmax'))\n",
        "\n",
        "CNN4.compile(loss='sparse_categorical_crossentropy', optimizer=adam_opt, metrics=['accuracy'])"
      ]
    },
    {
      "cell_type": "code",
      "execution_count": null,
      "id": "e3ae7c52",
      "metadata": {
        "id": "e3ae7c52",
        "outputId": "3b106725-1655-43ab-ac19-62ea0a95edfe"
      },
      "outputs": [
        {
          "name": "stdout",
          "output_type": "stream",
          "text": [
            "Epoch 1/100\n",
            "718/718 [==============================] - 519s 721ms/step - loss: 1.6136 - accuracy: 0.3635 - val_loss: 1.5646 - val_accuracy: 0.3934\n",
            "Epoch 2/100\n",
            "718/718 [==============================] - 506s 704ms/step - loss: 1.3517 - accuracy: 0.4825 - val_loss: 1.4083 - val_accuracy: 0.4634\n",
            "Epoch 3/100\n",
            "718/718 [==============================] - 498s 694ms/step - loss: 1.1891 - accuracy: 0.5518 - val_loss: 1.4222 - val_accuracy: 0.4677\n",
            "Epoch 4/100\n",
            "718/718 [==============================] - 487s 678ms/step - loss: 1.0427 - accuracy: 0.6108 - val_loss: 1.3313 - val_accuracy: 0.5156\n",
            "Epoch 5/100\n",
            "718/718 [==============================] - 491s 683ms/step - loss: 0.8828 - accuracy: 0.6770 - val_loss: 1.4929 - val_accuracy: 0.5072\n",
            "Epoch 6/100\n",
            "718/718 [==============================] - 480s 668ms/step - loss: 0.7144 - accuracy: 0.7454 - val_loss: 2.2213 - val_accuracy: 0.4037\n",
            "Epoch 7/100\n",
            "718/718 [==============================] - 474s 660ms/step - loss: 0.5723 - accuracy: 0.7988 - val_loss: 2.6053 - val_accuracy: 0.3713\n",
            "Epoch 8/100\n",
            "718/718 [==============================] - 475s 661ms/step - loss: 0.4464 - accuracy: 0.8450 - val_loss: 1.8740 - val_accuracy: 0.4930\n",
            "Epoch 9/100\n",
            "718/718 [==============================] - 468s 652ms/step - loss: 0.3205 - accuracy: 0.8916 - val_loss: 2.0434 - val_accuracy: 0.5105\n",
            "Epoch 10/100\n",
            "718/718 [==============================] - 467s 650ms/step - loss: 0.2522 - accuracy: 0.9143 - val_loss: 1.8588 - val_accuracy: 0.5265\n",
            "Epoch 11/100\n",
            "718/718 [==============================] - 467s 650ms/step - loss: 0.1795 - accuracy: 0.9413 - val_loss: 2.2163 - val_accuracy: 0.5384\n",
            "Epoch 12/100\n",
            "718/718 [==============================] - ETA: 0s - loss: 0.1285 - accuracy: 0.9579Restoring model weights from the end of the best epoch: 4.\n",
            "718/718 [==============================] - 471s 655ms/step - loss: 0.1285 - accuracy: 0.9579 - val_loss: 2.2728 - val_accuracy: 0.5509\n",
            "Epoch 00012: early stopping\n"
          ]
        }
      ],
      "source": [
        "CNN4_hist = CNN4.fit(train_data, epochs=100, validation_data=valid_data, verbose=1, callbacks=[\n",
        "        keras.callbacks.EarlyStopping(patience=8, verbose=1, restore_best_weights=True)])"
      ]
    },
    {
      "cell_type": "code",
      "execution_count": null,
      "id": "5898bd49",
      "metadata": {
        "id": "5898bd49",
        "outputId": "8222cb19-73bd-459f-bbdf-28d4745888ff"
      },
      "outputs": [
        {
          "data": {
            "image/png": "[encoded data removed]",
            "text/plain": [
              "<Figure size 576x360 with 1 Axes>"
            ]
          },
          "metadata": {
            "needs_background": "light"
          },
          "output_type": "display_data"
        }
      ],
      "source": [
        "plot_model_performance(CNN4_hist, 'Convultional Neural Network', save=True)"
      ]
    },
    {
      "cell_type": "code",
      "execution_count": null,
      "id": "da9af5af",
      "metadata": {
        "id": "da9af5af"
      },
      "outputs": [],
      "source": [
        "train_loss, train_acc = CNN4.evaluate(train_data, verbose=1)\n",
        "valid_loss, valid_acc = CNN4.evaluate(valid_data, verbose=1)\n",
        "\n",
        "print(f'\\n\\nTraining Accuracy:\\t{train_acc * 100}\\nTraining Loss:\\t\\t{train_loss}\\n')\n",
        "print(f'Validation Accuracy:\\t{valid_acc * 100}\\nValidation Loss:\\t{valid_loss}\\n')\n",
        "print('Train/Validation Diff:\\t', np.abs(train_acc - valid_acc) * 100)"
      ]
    },
    {
      "cell_type": "code",
      "execution_count": null,
      "id": "260fbe21",
      "metadata": {
        "id": "260fbe21"
      },
      "outputs": [],
      "source": [
        "CNN4.save('Deliverables/cnn4_model.h5')"
      ]
    },
    {
      "cell_type": "markdown",
      "id": "040b6575",
      "metadata": {
        "id": "040b6575"
      },
      "source": [
        "## CNN-v5"
      ]
    },
    {
      "cell_type": "code",
      "execution_count": null,
      "id": "20c6bd3f",
      "metadata": {
        "id": "20c6bd3f"
      },
      "outputs": [],
      "source": [
        "CNN5 = Sequential()\n",
        "CNN5.add(data_augmentation)\n",
        "CNN5.add(Conv2D(filters=32, kernel_size=3, activation='relu', padding='same'))\n",
        "CNN5.add(Dropout(0.1))\n",
        "\n",
        "CNN5.add(Conv2D(filters=64, kernel_size=3, activation='relu', padding='same'))\n",
        "CNN5.add(Dropout(0.1))\n",
        "CNN5.add(MaxPooling2D())\n",
        "\n",
        "\n",
        "CNN5.add(Conv2D(filters=128, kernel_size=3, activation='relu', padding='same'))\n",
        "CNN5.add(MaxPooling2D())\n",
        "        \n",
        "        \n",
        "CNN5.add(Conv2D(filters=256, kernel_size=3, activation='relu', padding='same'))\n",
        "CNN5.add(BatchNormalization())\n",
        "\n",
        "CNN5.add(Conv2D(filters=256, kernel_size=3, activation='relu', padding='same'))\n",
        "CNN5.add(MaxPooling2D())\n",
        "\n",
        "        \n",
        "CNN5.add(Flatten()) # after flatten we can add dence lyer\n",
        "CNN5.add(Dense(1000,kernel_initializer='he_normal'))\n",
        "CNN5.add(Activation('relu'))\n",
        "\n",
        "\n",
        "CNN5.add(Dense(512,kernel_initializer='he_normal'))\n",
        "CNN5.add(Activation('relu'))\n",
        "\n",
        "CNN5.add(Dense(256,kernel_initializer='he_normal'))\n",
        "CNN5.add(Activation('relu'))\n",
        "\n",
        "CNN5.add(Dense(128,kernel_initializer='he_normal'))\n",
        "CNN5.add(Activation('relu'))\n",
        "\n",
        "\n",
        "CNN5.add(Dense(64,kernel_initializer='he_normal'))\n",
        "CNN5.add(Activation('relu'))\n",
        "\n",
        "CNN5.add(Dense(32,kernel_initializer='he_normal'))\n",
        "CNN5.add(Activation('relu'))\n",
        "\n",
        "CNN5.add(Dense(7, activation='softmax'))\n",
        "\n",
        "CNN5.compile(loss='sparse_categorical_crossentropy', optimizer=adam_opt, metrics=['accuracy']) #sparse_categorical_crossentropy'"
      ]
    },
    {
      "cell_type": "code",
      "execution_count": null,
      "id": "680d6ace",
      "metadata": {
        "id": "680d6ace",
        "outputId": "ecf67abb-7bdf-43e4-b9fa-3694e53ce746"
      },
      "outputs": [
        {
          "name": "stdout",
          "output_type": "stream",
          "text": [
            "Epoch 1/100\n",
            "718/718 [==============================] - 598s 831ms/step - loss: 1.6922 - accuracy: 0.3243 - val_loss: 1.6494 - val_accuracy: 0.3567\n",
            "Epoch 2/100\n",
            "718/718 [==============================] - 670s 933ms/step - loss: 1.4608 - accuracy: 0.4368 - val_loss: 1.4797 - val_accuracy: 0.4402\n",
            "Epoch 3/100\n",
            "718/718 [==============================] - 626s 871ms/step - loss: 1.2844 - accuracy: 0.5128 - val_loss: 1.3139 - val_accuracy: 0.4876\n",
            "Epoch 4/100\n",
            "718/718 [==============================] - 537s 748ms/step - loss: 1.1561 - accuracy: 0.5637 - val_loss: 1.2340 - val_accuracy: 0.5347\n",
            "Epoch 5/100\n",
            "718/718 [==============================] - 550s 766ms/step - loss: 1.0223 - accuracy: 0.6195 - val_loss: 1.3480 - val_accuracy: 0.5069\n",
            "Epoch 6/100\n",
            "718/718 [==============================] - 537s 748ms/step - loss: 0.8787 - accuracy: 0.6800 - val_loss: 1.5160 - val_accuracy: 0.5058\n",
            "Epoch 7/100\n",
            "718/718 [==============================] - 564s 786ms/step - loss: 0.7053 - accuracy: 0.7454 - val_loss: 1.4268 - val_accuracy: 0.5408\n",
            "Epoch 8/100\n",
            "718/718 [==============================] - 536s 747ms/step - loss: 0.5155 - accuracy: 0.8184 - val_loss: 1.7110 - val_accuracy: 0.5401\n",
            "Epoch 9/100\n",
            "718/718 [==============================] - 616s 858ms/step - loss: 0.3473 - accuracy: 0.8809 - val_loss: 1.6123 - val_accuracy: 0.5620\n",
            "Epoch 10/100\n",
            "718/718 [==============================] - 575s 800ms/step - loss: 0.2422 - accuracy: 0.9197 - val_loss: 1.9092 - val_accuracy: 0.5410\n",
            "Epoch 11/100\n",
            "718/718 [==============================] - 644s 897ms/step - loss: 0.1682 - accuracy: 0.9439 - val_loss: 2.1517 - val_accuracy: 0.5398\n",
            "Epoch 12/100\n",
            "718/718 [==============================] - ETA: 0s - loss: 0.1392 - accuracy: 0.9547Restoring model weights from the end of the best epoch: 4.\n",
            "718/718 [==============================] - 550s 766ms/step - loss: 0.1392 - accuracy: 0.9547 - val_loss: 2.2267 - val_accuracy: 0.5511\n",
            "Epoch 00012: early stopping\n"
          ]
        }
      ],
      "source": [
        "CNN5_hist = CNN5.fit(train_data, epochs=100, validation_data=valid_data, verbose=1, callbacks=[\n",
        "        keras.callbacks.EarlyStopping(patience=8, verbose=1, restore_best_weights=True)])"
      ]
    },
    {
      "cell_type": "code",
      "execution_count": null,
      "id": "aa981566",
      "metadata": {
        "id": "aa981566",
        "outputId": "040e6ad2-f8f7-4a2d-c9cf-f0400e1b6b82"
      },
      "outputs": [
        {
          "data": {
            "image/png": "[encoded data removed]",
            "text/plain": [
              "<Figure size 576x360 with 1 Axes>"
            ]
          },
          "metadata": {
            "needs_background": "light"
          },
          "output_type": "display_data"
        }
      ],
      "source": [
        "plot_model_performance(CNN5_hist, 'Convultional Neural Network', save=True)"
      ]
    },
    {
      "cell_type": "code",
      "execution_count": null,
      "id": "ef1eb33e",
      "metadata": {
        "id": "ef1eb33e",
        "outputId": "cdb95701-d416-48f7-e3da-f82de74e595f"
      },
      "outputs": [
        {
          "name": "stdout",
          "output_type": "stream",
          "text": [
            "718/718 [==============================] - 128s 178ms/step - loss: 1.0304 - accuracy: 0.6167\n",
            "180/180 [==============================] - 35s 196ms/step - loss: 1.2340 - accuracy: 0.5347\n",
            "\n",
            "\n",
            "Training Accuracy:\t61.667102575302124\n",
            "Training Loss:\t\t1.0303975343704224\n",
            "\n",
            "Validation Accuracy:\t53.47137451171875\n",
            "Validation Loss:\t1.2339832782745361\n",
            "\n",
            "Train/Validation Diff:\t 8.195728063583374\n"
          ]
        }
      ],
      "source": [
        "train_loss, train_acc = CNN5.evaluate(train_data, verbose=1)\n",
        "valid_loss, valid_acc = CNN5.evaluate(valid_data, verbose=1)\n",
        "\n",
        "print(f'\\n\\nTraining Accuracy:\\t{train_acc * 100}\\nTraining Loss:\\t\\t{train_loss}\\n')\n",
        "print(f'Validation Accuracy:\\t{valid_acc * 100}\\nValidation Loss:\\t{valid_loss}\\n')\n",
        "print('Train/Validation Diff:\\t', np.abs(train_acc - valid_acc) * 100)"
      ]
    },
    {
      "cell_type": "code",
      "execution_count": null,
      "id": "e7baa941",
      "metadata": {
        "id": "e7baa941"
      },
      "outputs": [],
      "source": [
        "CNN5.save('Deliverables/cnn5_model.h5')"
      ]
    },
    {
      "cell_type": "markdown",
      "source": [
        "## CNN-v6"
      ],
      "metadata": {
        "id": "XPPONkGhbMSC"
      },
      "id": "XPPONkGhbMSC"
    },
    {
      "cell_type": "code",
      "source": [
        "from tensorflow.keras.layers import Activation, Conv2D, MaxPooling2D, Dense, Flatten, Dropout, BatchNormalization\n",
        "\n",
        "CNN6 = Sequential()\n",
        "CNN6.add(data_augmentation)\n",
        "CNN6.add(Conv2D(filters=32, kernel_size=3, activation='relu', padding='same',kernel_regularizer='l1'))\n",
        "\n",
        "CNN6.add(Conv2D(filters=64, kernel_size=3, activation='relu', padding='same',kernel_regularizer='l1'))\n",
        "CNN6.add(MaxPooling2D())\n",
        "\n",
        "\n",
        "CNN6.add(Conv2D(filters=128, kernel_size=3, activation='relu', padding='same',kernel_regularizer='l1'))\n",
        "CNN6.add(MaxPooling2D())\n",
        "        \n",
        "        \n",
        "CNN6.add(Conv2D(filters=256, kernel_size=3, activation='relu', padding='same',kernel_regularizer='l1'))\n",
        "CNN6.add(BatchNormalization())\n",
        "CNN6.add(Dropout(0.3))\n",
        "\n",
        "CNN6.add(Conv2D(filters=256, kernel_size=3, activation='relu', padding='same',kernel_regularizer='l1'))\n",
        "CNN6.add(MaxPooling2D())\n",
        "CNN6.add(Dropout(0.3))\n",
        "        \n",
        "CNN6.add(Flatten()) # after flatten we can add dence lyer\n",
        "CNN6.add(Dense(1000,kernel_initializer='he_normal',kernel_regularizer='l1'))\n",
        "CNN6.add(Activation('relu'))\n",
        "\n",
        "\n",
        "CNN6.add(Dense(512,kernel_initializer='he_normal',kernel_regularizer='l1'))\n",
        "CNN6.add(Activation('relu'))\n",
        "\n",
        "CNN6.add(Dense(256,kernel_initializer='he_normal',kernel_regularizer='l1'))\n",
        "CNN6.add(Activation('relu'))\n",
        "\n",
        "CNN6.add(Dense(128,kernel_initializer='he_normal',kernel_regularizer='l1'))\n",
        "CNN6.add(Activation('relu'))\n",
        "\n",
        "\n",
        "CNN6.add(Dense(64,kernel_initializer='he_normal',kernel_regularizer='l1'))\n",
        "CNN6.add(Activation('relu'))\n",
        "\n",
        "CNN6.add(Dense(32,kernel_initializer='he_normal',kernel_regularizer='l1'))\n",
        "CNN6.add(Activation('relu'))\n",
        "\n",
        "CNN6.add(Dense(7, activation='softmax'))\n",
        "\n",
        "CNN6.compile(loss='sparse_categorical_crossentropy', optimizer=adam_opt, metrics=['accuracy'])"
      ],
      "metadata": {
        "id": "dqlWSDuRbZPa"
      },
      "id": "dqlWSDuRbZPa",
      "execution_count": null,
      "outputs": []
    },
    {
      "cell_type": "code",
      "source": [
        "CNN6_hist = CNN6.fit(train_data, epochs=100, validation_data=valid_data, verbose=1, callbacks=[\n",
        "        keras.callbacks.EarlyStopping(patience=8, verbose=1, restore_best_weights=True)])"
      ],
      "metadata": {
        "id": "ZuzggLsEbcaU"
      },
      "id": "ZuzggLsEbcaU",
      "execution_count": null,
      "outputs": []
    },
    {
      "cell_type": "markdown",
      "source": [
        "## CNN-v7"
      ],
      "metadata": {
        "id": "LhKwy3gIb11i"
      },
      "id": "LhKwy3gIb11i"
    },
    {
      "cell_type": "code",
      "source": [
        "from tensorflow.keras.layers import Activation, Conv2D, MaxPooling2D, Dense, Flatten, Dropout, BatchNormalization\n",
        "\n",
        "CNN7 = Sequential()\n",
        "CNN7.add(data_augmentation)\n",
        "CNN7.add(Conv2D(filters=32, kernel_size=3, activation='relu', padding='same',kernel_regularizer='l1'))\n",
        "\n",
        "CNN7.add(Conv2D(filters=64, kernel_size=3, activation='relu', padding='same',kernel_regularizer='l1'))\n",
        "CNN7.add(MaxPooling2D())\n",
        "\n",
        "\n",
        "CNN7.add(Conv2D(filters=128, kernel_size=3, activation='relu', padding='same',kernel_regularizer='l1'))\n",
        "CNN7.add(MaxPooling2D())\n",
        "        \n",
        "        \n",
        "CNN7.add(Conv2D(filters=256, kernel_size=3, activation='relu', padding='same',kernel_regularizer='l1'))\n",
        "CNN7.add(BatchNormalization())\n",
        "CNN7.add(Dropout(0.3))\n",
        "\n",
        "CNN7.add(Conv2D(filters=256, kernel_size=3, activation='relu', padding='same',kernel_regularizer='l1'))\n",
        "CNN7.add(MaxPooling2D())\n",
        "CNN7.add(Dropout(0.3))\n",
        "        \n",
        "CNN7.add(Flatten()) # after flatten we can add dence lyer\n",
        "CNN7.add(Dense(1000,kernel_initializer='he_normal'))\n",
        "CNN7.add(Activation('relu'))\n",
        "CNN7.add(Dropout(0.3))\n",
        "\n",
        "CNN7.add(Dense(512,kernel_initializer='he_normal'))\n",
        "CNN7.add(Activation('relu'))\n",
        "\n",
        "CNN7.add(Dense(256,kernel_initializer='he_normal'))\n",
        "CNN7.add(Activation('relu'))\n",
        "\n",
        "CNN7.add(Dense(128,kernel_initializer='he_normal'))\n",
        "CNN7.add(Activation('relu'))\n",
        "\n",
        "\n",
        "CNN7.add(Dense(64,kernel_initializer='he_normal'))\n",
        "CNN7.add(Activation('relu'))\n",
        "\n",
        "CNN7.add(Dense(32,kernel_initializer='he_normal'))\n",
        "CNN7.add(Activation('relu'))\n",
        "\n",
        "CNN7.add(Dense(7, activation='softmax'))\n",
        "\n",
        "CNN7.compile(loss='sparse_categorical_crossentropy', optimizer=adam_opt, metrics=['accuracy'])"
      ],
      "metadata": {
        "id": "afTeXjXfb1WW"
      },
      "id": "afTeXjXfb1WW",
      "execution_count": null,
      "outputs": []
    },
    {
      "cell_type": "code",
      "source": [
        "CNN7_hist = CNN7.fit(train_data, epochs=100, validation_data=valid_data, verbose=1, callbacks=[\n",
        "        keras.callbacks.EarlyStopping(patience=8, verbose=1, restore_best_weights=True)])"
      ],
      "metadata": {
        "id": "uTtEgbCob9tz"
      },
      "id": "uTtEgbCob9tz",
      "execution_count": null,
      "outputs": []
    },
    {
      "cell_type": "markdown",
      "source": [
        "## CNN-v8"
      ],
      "metadata": {
        "id": "rfZkERvucPqf"
      },
      "id": "rfZkERvucPqf"
    },
    {
      "cell_type": "code",
      "source": [
        "CNN8 = Sequential()\n",
        "CNN8.add(data_augmentation)\n",
        "CNN8.add(Conv2D(filters=32, kernel_size=3, activation='relu', padding='same'))\n",
        "\n",
        "CNN8.add(Conv2D(filters=64, kernel_size=3, activation='relu', padding='same'))\n",
        "CNN8.add(MaxPooling2D())\n",
        "\n",
        "\n",
        "CNN8.add(Conv2D(filters=128, kernel_size=3, activation='relu', padding='same'))\n",
        "CNN8.add(MaxPooling2D())\n",
        "      \n",
        "        \n",
        "CNN8.add(Conv2D(filters=256, kernel_size=3, activation='relu', padding='same'))\n",
        "CNN8.add(BatchNormalization())\n",
        "\n",
        "CNN8.add(Conv2D(filters=256, kernel_size=3, activation='relu', padding='same'))\n",
        "CNN8.add(MaxPooling2D())\n",
        "\n",
        "        \n",
        "CNN8.add(Flatten()) # after flatten we can add dence lyer\n",
        "CNN8.add(Dense(128,kernel_initializer='he_normal'))\n",
        "CNN8.add(Activation('relu'))\n",
        "CNN8.add(Dropout(0.3))\n",
        "\n",
        "\n",
        "CNN8.add(Dense(228,kernel_initializer='he_normal'))\n",
        "CNN8.add(Activation('relu'))\n",
        "\n",
        "CNN8.add(Dense(556,kernel_initializer='he_normal'))\n",
        "CNN8.add(Activation('relu'))\n",
        "\n",
        "\n",
        "CNN8.add(Dense(712,kernel_initializer='he_normal'))\n",
        "CNN8.add(Activation('relu'))\n",
        "CNN8.add(Dropout(0.3))\n",
        "\n",
        "CNN8.add(Dense(1000,kernel_initializer='he_normal'))\n",
        "CNN8.add(Activation('relu'))\n",
        "\n",
        "CNN8.add(Dense(7, activation='softmax'))\n",
        "\n",
        "CNN8.compile(loss='sparse_categorical_crossentropy', optimizer=adam_opt, metrics=['accuracy'])"
      ],
      "metadata": {
        "id": "HiWisjLXcTVA"
      },
      "id": "HiWisjLXcTVA",
      "execution_count": null,
      "outputs": []
    },
    {
      "cell_type": "code",
      "source": [
        "CNN8_hist = CNN8.fit(train_data, epochs=100, validation_data=valid_data, verbose=1, callbacks=[\n",
        "        keras.callbacks.EarlyStopping(patience=8, verbose=1, restore_best_weights=True)])"
      ],
      "metadata": {
        "id": "32qKGhW-cTcv"
      },
      "id": "32qKGhW-cTcv",
      "execution_count": null,
      "outputs": []
    },
    {
      "cell_type": "markdown",
      "source": [
        "## CNN-v9"
      ],
      "metadata": {
        "id": "8CFXokPRcplU"
      },
      "id": "8CFXokPRcplU"
    },
    {
      "cell_type": "code",
      "source": [
        "CNN9 = Sequential()\n",
        "CNN9.add(data_augmentation)\n",
        "CNN9.add(Conv2D(filters=32, kernel_size=3, activation='relu', padding='same'))\n",
        "\n",
        "CNN9.add(Conv2D(filters=64, kernel_size=3, activation='relu', padding='same'))\n",
        "CNN9.add(BatchNormalization())\n",
        "CNN9.add(MaxPooling2D())\n",
        "\n",
        "\n",
        "CNN9.add(Conv2D(filters=128, kernel_size=3, activation='relu', padding='same'))\n",
        "CNN9.add(MaxPooling2D())\n",
        "        \n",
        "        \n",
        "CNN9.add(Conv2D(filters=256, kernel_size=3, activation='relu', padding='same'))\n",
        "CNN9.add(BatchNormalization())\n",
        "\n",
        "CNN9.add(Conv2D(filters=256, kernel_size=3, activation='relu', padding='same'))\n",
        "CNN9.add(MaxPooling2D())\n",
        "\n",
        "        \n",
        "CNN9.add(Flatten()) # after flatten we can add dence lyer\n",
        "CNN9.add(Dense(400,kernel_initializer='he_normal'))\n",
        "CNN9.add(Activation('relu'))\n",
        "CNN9.add(BatchNormalization())\n",
        "\n",
        "\n",
        "CNN9.add(Dense(512,kernel_initializer='he_normal'))\n",
        "CNN9.add(Activation('relu'))\n",
        "\n",
        "CNN9.add(Dense(256,kernel_initializer='he_normal'))\n",
        "CNN9.add(Activation('relu'))\n",
        "CNN9.add(BatchNormalization())\n",
        "\n",
        "\n",
        "CNN9.add(Dense(600,kernel_initializer='he_normal'))\n",
        "CNN9.add(Activation('relu'))\n",
        "CNN9.add(Dropout(0.3))\n",
        "\n",
        "\n",
        "\n",
        "CNN9.add(Dense(800,kernel_initializer='he_normal'))\n",
        "CNN9.add(Activation('relu'))\n",
        "CNN9.add(BatchNormalization())\n",
        "CNN9.add(Dropout(0.5))\n",
        "\n",
        "\n",
        "CNN9.add(Dense(1000,kernel_initializer='he_normal'))\n",
        "CNN9.add(Activation('relu'))\n",
        "CNN9.add(Dropout(0.5))\n",
        "\n",
        "\n",
        "CNN9.add(Dense(7, activation='softmax'))\n",
        "\n",
        "CNN9.compile(loss='sparse_categorical_crossentropy', optimizer=adam_opt, metrics=['accuracy'])"
      ],
      "metadata": {
        "id": "qGtGash9cyrD"
      },
      "id": "qGtGash9cyrD",
      "execution_count": null,
      "outputs": []
    },
    {
      "cell_type": "code",
      "source": [
        "CNN9_hist = CNN9.fit(train_data, epochs=100, validation_data=valid_data, verbose=1, callbacks=[\n",
        "        keras.callbacks.EarlyStopping(patience=8, verbose=1, restore_best_weights=True)])"
      ],
      "metadata": {
        "id": "0k1_DQxPczFg"
      },
      "id": "0k1_DQxPczFg",
      "execution_count": null,
      "outputs": []
    },
    {
      "cell_type": "markdown",
      "id": "0eeb24ad",
      "metadata": {
        "id": "0eeb24ad"
      },
      "source": [
        "## CNN-v10"
      ]
    },
    {
      "cell_type": "code",
      "execution_count": null,
      "id": "f0d5fef6",
      "metadata": {
        "id": "f0d5fef6"
      },
      "outputs": [],
      "source": [
        "CNN10 = Sequential()\n",
        "\n",
        "CNN10.add(data_augmentation)\n",
        "CNN10.add(Conv2D(filters=32, kernel_size=3, activation='relu', padding='same',kernel_regularizer='l2'))\n",
        "CNN10.add(BatchNormalization())\n",
        "\n",
        "CNN10.add(Conv2D(filters=64, kernel_size=3, activation='relu', padding='same',kernel_regularizer='l2'))\n",
        "CNN10.add(MaxPooling2D())\n",
        "CNN10.add(BatchNormalization())\n",
        "\n",
        "\n",
        "CNN10.add(Conv2D(filters=128, kernel_size=3, activation='relu', padding='same',kernel_regularizer='l2'))\n",
        "CNN10.add(MaxPooling2D())\n",
        "CNN10.add(BatchNormalization())\n",
        "\n",
        "             \n",
        "CNN10.add(Conv2D(filters=256, kernel_size=3, activation='relu', padding='same',kernel_regularizer='l2'))\n",
        "CNN10.add(BatchNormalization())\n",
        "CNN10.add(BatchNormalization())\n",
        "\n",
        "\n",
        "CNN10.add(Conv2D(filters=256, kernel_size=3, activation='relu', padding='same',kernel_regularizer='l2'))\n",
        "CNN10.add(MaxPooling2D())\n",
        "CNN10.add(BatchNormalization())\n",
        "\n",
        "        \n",
        "CNN10.add(Flatten()) # after flatten we can add dence lyer\n",
        "CNN10.add(Dense(1000))\n",
        "CNN10.add(Activation('relu'))\n",
        "CNN10.add(BatchNormalization())\n",
        "\n",
        "\n",
        "\n",
        "CNN10.add(Dense(512)) # CNN9.add(Dense(512,kernel_initializer='he_normal'))\n",
        "CNN10.add(Activation('relu'))\n",
        "CNN10.add(BatchNormalization())\n",
        "\n",
        "\n",
        "CNN10.add(Dense(256))\n",
        "CNN10.add(Activation('relu'))\n",
        "CNN10.add(BatchNormalization())\n",
        "\n",
        "\n",
        "CNN10.add(Dense(128))\n",
        "CNN10.add(Activation('relu'))\n",
        "CNN10.add(BatchNormalization())\n",
        "\n",
        "CNN10.add(Dense(64))\n",
        "CNN10.add(Activation('relu'))\n",
        "CNN10.add(BatchNormalization())\n",
        "\n",
        "CNN10.add(Dense(32))\n",
        "CNN10.add(Activation('relu'))\n",
        "CNN10.add(BatchNormalization())\n",
        "\n",
        "CNN10.add(Dense(7, activation='softmax'))\n",
        "\n",
        "CNN10.compile(loss='sparse_categorical_crossentropy', optimizer=sgd_opt, metrics=['accuracy'])"
      ]
    },
    {
      "cell_type": "code",
      "execution_count": null,
      "id": "a0ca3799",
      "metadata": {
        "id": "a0ca3799",
        "outputId": "1aa374c0-24f9-4dcc-dfdd-ff9d55357b18"
      },
      "outputs": [
        {
          "name": "stdout",
          "output_type": "stream",
          "text": [
            "Epoch 1/100\n",
            "718/718 [==============================] - 587s 814ms/step - loss: 7.6680 - accuracy: 0.2073 - val_loss: 7.4531 - val_accuracy: 0.2459\n",
            "Epoch 2/100\n",
            "718/718 [==============================] - 424s 590ms/step - loss: 7.1980 - accuracy: 0.3032 - val_loss: 7.0991 - val_accuracy: 0.3195\n",
            "Epoch 3/100\n",
            "718/718 [==============================] - 447s 622ms/step - loss: 6.8264 - accuracy: 0.4028 - val_loss: 6.8874 - val_accuracy: 0.3564\n",
            "Epoch 4/100\n",
            "718/718 [==============================] - 430s 599ms/step - loss: 6.4620 - accuracy: 0.4996 - val_loss: 6.7253 - val_accuracy: 0.3706\n",
            "Epoch 5/100\n",
            "718/718 [==============================] - 433s 602ms/step - loss: 6.1081 - accuracy: 0.6019 - val_loss: 6.5715 - val_accuracy: 0.3845\n",
            "Epoch 6/100\n",
            "718/718 [==============================] - 439s 611ms/step - loss: 5.7709 - accuracy: 0.7003 - val_loss: 6.4568 - val_accuracy: 0.3856\n",
            "Epoch 7/100\n",
            "718/718 [==============================] - 443s 617ms/step - loss: 5.4540 - accuracy: 0.7880 - val_loss: 6.3489 - val_accuracy: 0.3830\n",
            "Epoch 8/100\n",
            "718/718 [==============================] - 428s 597ms/step - loss: 5.1630 - accuracy: 0.8604 - val_loss: 6.2456 - val_accuracy: 0.3927\n",
            "Epoch 9/100\n",
            "718/718 [==============================] - 437s 609ms/step - loss: 4.8930 - accuracy: 0.9163 - val_loss: 6.1653 - val_accuracy: 0.3919\n",
            "Epoch 10/100\n",
            "718/718 [==============================] - 498s 693ms/step - loss: 4.6553 - accuracy: 0.9555 - val_loss: 6.0792 - val_accuracy: 0.3889\n",
            "Epoch 11/100\n",
            "718/718 [==============================] - 434s 604ms/step - loss: 4.4429 - accuracy: 0.9789 - val_loss: 6.0115 - val_accuracy: 0.3932\n",
            "Epoch 12/100\n",
            "718/718 [==============================] - 410s 571ms/step - loss: 4.2586 - accuracy: 0.9896 - val_loss: 5.9346 - val_accuracy: 0.3926\n",
            "Epoch 13/100\n",
            "718/718 [==============================] - 417s 580ms/step - loss: 4.0947 - accuracy: 0.9954 - val_loss: 5.8583 - val_accuracy: 0.3913\n",
            "Epoch 14/100\n",
            "718/718 [==============================] - 421s 587ms/step - loss: 3.9491 - accuracy: 0.9980 - val_loss: 5.7897 - val_accuracy: 0.3908\n",
            "Epoch 15/100\n",
            "718/718 [==============================] - 408s 568ms/step - loss: 3.8174 - accuracy: 0.9990 - val_loss: 5.7232 - val_accuracy: 0.3950\n",
            "Epoch 16/100\n",
            "718/718 [==============================] - 406s 565ms/step - loss: 3.6957 - accuracy: 0.9994 - val_loss: 5.6518 - val_accuracy: 0.3932\n",
            "Epoch 17/100\n",
            "718/718 [==============================] - 405s 563ms/step - loss: 3.5814 - accuracy: 0.9997 - val_loss: 5.5785 - val_accuracy: 0.3946\n",
            "Epoch 18/100\n",
            "718/718 [==============================] - 403s 561ms/step - loss: 3.4731 - accuracy: 1.0000 - val_loss: 5.5080 - val_accuracy: 0.3974\n",
            "Epoch 19/100\n",
            "718/718 [==============================] - 403s 561ms/step - loss: 3.3697 - accuracy: 0.9999 - val_loss: 5.4374 - val_accuracy: 0.3966\n",
            "Epoch 20/100\n",
            "718/718 [==============================] - 402s 560ms/step - loss: 3.2703 - accuracy: 1.0000 - val_loss: 5.3724 - val_accuracy: 0.3938\n",
            "Epoch 21/100\n",
            "718/718 [==============================] - 402s 559ms/step - loss: 3.1745 - accuracy: 1.0000 - val_loss: 5.3070 - val_accuracy: 0.3932\n",
            "Epoch 22/100\n",
            "718/718 [==============================] - 404s 561ms/step - loss: 3.0821 - accuracy: 1.0000 - val_loss: 5.2456 - val_accuracy: 0.3917\n",
            "Epoch 23/100\n",
            "718/718 [==============================] - 407s 566ms/step - loss: 2.9928 - accuracy: 1.0000 - val_loss: 5.1757 - val_accuracy: 0.3903\n",
            "Epoch 24/100\n",
            "718/718 [==============================] - 409s 570ms/step - loss: 2.9064 - accuracy: 1.0000 - val_loss: 5.1145 - val_accuracy: 0.3891\n",
            "Epoch 25/100\n",
            "718/718 [==============================] - 406s 565ms/step - loss: 2.8228 - accuracy: 1.0000 - val_loss: 5.0529 - val_accuracy: 0.3875\n",
            "Epoch 26/100\n",
            "718/718 [==============================] - 407s 566ms/step - loss: 2.7417 - accuracy: 1.0000 - val_loss: 4.9914 - val_accuracy: 0.3891\n",
            "Epoch 27/100\n",
            "718/718 [==============================] - 406s 565ms/step - loss: 2.6631 - accuracy: 1.0000 - val_loss: 4.9327 - val_accuracy: 0.3912\n",
            "Epoch 28/100\n",
            "718/718 [==============================] - 409s 570ms/step - loss: 2.5869 - accuracy: 1.0000 - val_loss: 4.8750 - val_accuracy: 0.3892\n",
            "Epoch 29/100\n",
            "718/718 [==============================] - 415s 577ms/step - loss: 2.5130 - accuracy: 1.0000 - val_loss: 4.8191 - val_accuracy: 0.3889\n",
            "Epoch 30/100\n",
            "718/718 [==============================] - 404s 563ms/step - loss: 2.4412 - accuracy: 1.0000 - val_loss: 4.7634 - val_accuracy: 0.3879\n",
            "Epoch 31/100\n",
            "718/718 [==============================] - 406s 566ms/step - loss: 2.3716 - accuracy: 1.0000 - val_loss: 4.7097 - val_accuracy: 0.3868\n",
            "Epoch 32/100\n",
            "718/718 [==============================] - 407s 567ms/step - loss: 2.3040 - accuracy: 1.0000 - val_loss: 4.6602 - val_accuracy: 0.3858\n",
            "Epoch 33/100\n",
            "718/718 [==============================] - 404s 562ms/step - loss: 2.2384 - accuracy: 1.0000 - val_loss: 4.6069 - val_accuracy: 0.3873\n",
            "Epoch 34/100\n",
            "718/718 [==============================] - 405s 564ms/step - loss: 2.1747 - accuracy: 1.0000 - val_loss: 4.5595 - val_accuracy: 0.3872\n",
            "Epoch 35/100\n",
            "718/718 [==============================] - 409s 569ms/step - loss: 2.1128 - accuracy: 1.0000 - val_loss: 4.5117 - val_accuracy: 0.3877\n",
            "Epoch 36/100\n",
            "718/718 [==============================] - 404s 562ms/step - loss: 2.0527 - accuracy: 1.0000 - val_loss: 4.4638 - val_accuracy: 0.3868\n",
            "Epoch 37/100\n",
            "718/718 [==============================] - 405s 564ms/step - loss: 1.9944 - accuracy: 1.0000 - val_loss: 4.4202 - val_accuracy: 0.3877\n",
            "Epoch 38/100\n",
            "718/718 [==============================] - 405s 564ms/step - loss: 1.9378 - accuracy: 1.0000 - val_loss: 4.3744 - val_accuracy: 0.3865\n",
            "Epoch 39/100\n",
            "718/718 [==============================] - 403s 561ms/step - loss: 1.8827 - accuracy: 1.0000 - val_loss: 4.3313 - val_accuracy: 0.3863\n",
            "Epoch 40/100\n",
            "718/718 [==============================] - 410s 571ms/step - loss: 1.8293 - accuracy: 1.0000 - val_loss: 4.2904 - val_accuracy: 0.3858\n",
            "Epoch 41/100\n",
            "718/718 [==============================] - 404s 562ms/step - loss: 1.7774 - accuracy: 1.0000 - val_loss: 4.2495 - val_accuracy: 0.3852\n",
            "Epoch 42/100\n",
            "718/718 [==============================] - 403s 561ms/step - loss: 1.7269 - accuracy: 1.0000 - val_loss: 4.2085 - val_accuracy: 0.3844\n",
            "Epoch 43/100\n",
            "718/718 [==============================] - 400s 558ms/step - loss: 1.6779 - accuracy: 1.0000 - val_loss: 4.1718 - val_accuracy: 0.3837\n",
            "Epoch 44/100\n",
            "718/718 [==============================] - 402s 559ms/step - loss: 1.6304 - accuracy: 1.0000 - val_loss: 4.1333 - val_accuracy: 0.3837\n",
            "Epoch 45/100\n",
            "718/718 [==============================] - 402s 560ms/step - loss: 1.5841 - accuracy: 1.0000 - val_loss: 4.0986 - val_accuracy: 0.3812\n",
            "Epoch 46/100\n",
            "718/718 [==============================] - 401s 558ms/step - loss: 1.5392 - accuracy: 1.0000 - val_loss: 4.0637 - val_accuracy: 0.3818\n",
            "Epoch 47/100\n",
            "718/718 [==============================] - 406s 565ms/step - loss: 1.4956 - accuracy: 1.0000 - val_loss: 4.0285 - val_accuracy: 0.3804\n",
            "Epoch 48/100\n",
            "718/718 [==============================] - 401s 558ms/step - loss: 1.4532 - accuracy: 1.0000 - val_loss: 3.9962 - val_accuracy: 0.3807\n",
            "Epoch 49/100\n",
            "718/718 [==============================] - 403s 561ms/step - loss: 1.4121 - accuracy: 1.0000 - val_loss: 3.9638 - val_accuracy: 0.3804\n",
            "Epoch 50/100\n",
            "718/718 [==============================] - 405s 564ms/step - loss: 1.3721 - accuracy: 1.0000 - val_loss: 3.9302 - val_accuracy: 0.3795\n",
            "Epoch 51/100\n",
            "718/718 [==============================] - 411s 572ms/step - loss: 1.3332 - accuracy: 1.0000 - val_loss: 3.9008 - val_accuracy: 0.3814\n",
            "Epoch 52/100\n",
            "718/718 [==============================] - 404s 562ms/step - loss: 1.2954 - accuracy: 1.0000 - val_loss: 3.8700 - val_accuracy: 0.3807\n",
            "Epoch 53/100\n",
            "718/718 [==============================] - 408s 568ms/step - loss: 1.2587 - accuracy: 1.0000 - val_loss: 3.8442 - val_accuracy: 0.3818\n",
            "Epoch 54/100\n",
            "718/718 [==============================] - 399s 555ms/step - loss: 1.2231 - accuracy: 1.0000 - val_loss: 3.8150 - val_accuracy: 0.3785\n",
            "Epoch 55/100\n",
            "718/718 [==============================] - 410s 571ms/step - loss: 1.1885 - accuracy: 1.0000 - val_loss: 3.7903 - val_accuracy: 0.3800\n",
            "Epoch 56/100\n"
          ]
        },
        {
          "name": "stdout",
          "output_type": "stream",
          "text": [
            "718/718 [==============================] - 403s 561ms/step - loss: 1.1548 - accuracy: 1.0000 - val_loss: 3.7644 - val_accuracy: 0.3792\n",
            "Epoch 57/100\n",
            "718/718 [==============================] - 400s 557ms/step - loss: 1.1222 - accuracy: 1.0000 - val_loss: 3.7397 - val_accuracy: 0.3790\n",
            "Epoch 58/100\n",
            "718/718 [==============================] - 399s 556ms/step - loss: 1.0904 - accuracy: 1.0000 - val_loss: 3.7137 - val_accuracy: 0.3793\n",
            "Epoch 59/100\n",
            "718/718 [==============================] - 400s 557ms/step - loss: 1.0595 - accuracy: 1.0000 - val_loss: 3.6913 - val_accuracy: 0.3797\n",
            "Epoch 60/100\n",
            "718/718 [==============================] - 402s 559ms/step - loss: 1.0295 - accuracy: 1.0000 - val_loss: 3.6710 - val_accuracy: 0.3795\n",
            "Epoch 61/100\n",
            "718/718 [==============================] - 402s 560ms/step - loss: 1.0004 - accuracy: 1.0000 - val_loss: 3.6497 - val_accuracy: 0.3805\n",
            "Epoch 62/100\n",
            "718/718 [==============================] - 400s 557ms/step - loss: 0.9721 - accuracy: 1.0000 - val_loss: 3.6251 - val_accuracy: 0.3807\n",
            "Epoch 63/100\n",
            "718/718 [==============================] - 398s 555ms/step - loss: 0.9446 - accuracy: 1.0000 - val_loss: 3.6063 - val_accuracy: 0.3790\n",
            "Epoch 64/100\n",
            "718/718 [==============================] - 405s 564ms/step - loss: 0.9179 - accuracy: 1.0000 - val_loss: 3.5850 - val_accuracy: 0.3802\n",
            "Epoch 65/100\n",
            "718/718 [==============================] - 403s 561ms/step - loss: 0.8919 - accuracy: 1.0000 - val_loss: 3.5680 - val_accuracy: 0.3795\n",
            "Epoch 66/100\n",
            "718/718 [==============================] - 407s 567ms/step - loss: 0.8667 - accuracy: 1.0000 - val_loss: 3.5519 - val_accuracy: 0.3792\n",
            "Epoch 67/100\n",
            "718/718 [==============================] - 405s 564ms/step - loss: 0.8422 - accuracy: 1.0000 - val_loss: 3.5321 - val_accuracy: 0.3799\n",
            "Epoch 68/100\n",
            "718/718 [==============================] - 404s 562ms/step - loss: 0.8184 - accuracy: 1.0000 - val_loss: 3.5143 - val_accuracy: 0.3797\n",
            "Epoch 69/100\n",
            "718/718 [==============================] - 410s 571ms/step - loss: 0.7952 - accuracy: 1.0000 - val_loss: 3.4970 - val_accuracy: 0.3795\n",
            "Epoch 70/100\n",
            "718/718 [==============================] - 401s 559ms/step - loss: 0.7727 - accuracy: 1.0000 - val_loss: 3.4812 - val_accuracy: 0.3795\n",
            "Epoch 71/100\n",
            "718/718 [==============================] - 406s 566ms/step - loss: 0.7509 - accuracy: 1.0000 - val_loss: 3.4681 - val_accuracy: 0.3795\n",
            "Epoch 72/100\n",
            "718/718 [==============================] - 401s 559ms/step - loss: 0.7297 - accuracy: 1.0000 - val_loss: 3.4513 - val_accuracy: 0.3772\n",
            "Epoch 73/100\n",
            "718/718 [==============================] - 403s 561ms/step - loss: 0.7090 - accuracy: 1.0000 - val_loss: 3.4345 - val_accuracy: 0.3797\n",
            "Epoch 74/100\n",
            "718/718 [==============================] - 402s 560ms/step - loss: 0.6890 - accuracy: 1.0000 - val_loss: 3.4233 - val_accuracy: 0.3781\n",
            "Epoch 75/100\n",
            "718/718 [==============================] - 403s 561ms/step - loss: 0.6695 - accuracy: 1.0000 - val_loss: 3.4045 - val_accuracy: 0.3805\n",
            "Epoch 76/100\n",
            "718/718 [==============================] - 401s 558ms/step - loss: 0.6506 - accuracy: 1.0000 - val_loss: 3.3982 - val_accuracy: 0.3792\n",
            "Epoch 77/100\n",
            "718/718 [==============================] - 401s 558ms/step - loss: 0.6322 - accuracy: 1.0000 - val_loss: 3.3772 - val_accuracy: 0.3811\n",
            "Epoch 78/100\n",
            "718/718 [==============================] - 404s 562ms/step - loss: 0.6143 - accuracy: 1.0000 - val_loss: 3.3705 - val_accuracy: 0.3811\n",
            "Epoch 79/100\n",
            "718/718 [==============================] - 416s 580ms/step - loss: 0.5970 - accuracy: 1.0000 - val_loss: 3.3517 - val_accuracy: 0.3805\n",
            "Epoch 80/100\n",
            "718/718 [==============================] - 7780s 11s/step - loss: 0.5801 - accuracy: 1.0000 - val_loss: 3.3454 - val_accuracy: 0.3797\n",
            "Epoch 81/100\n",
            "718/718 [==============================] - 421s 586ms/step - loss: 0.5637 - accuracy: 1.0000 - val_loss: 3.3328 - val_accuracy: 0.3792\n",
            "Epoch 82/100\n",
            "718/718 [==============================] - 427s 595ms/step - loss: 0.5478 - accuracy: 1.0000 - val_loss: 3.3167 - val_accuracy: 0.3802\n",
            "Epoch 83/100\n",
            "718/718 [==============================] - 427s 595ms/step - loss: 0.5323 - accuracy: 1.0000 - val_loss: 3.3058 - val_accuracy: 0.3821\n",
            "Epoch 84/100\n",
            "718/718 [==============================] - 430s 599ms/step - loss: 0.5173 - accuracy: 1.0000 - val_loss: 3.3021 - val_accuracy: 0.3790\n",
            "Epoch 85/100\n",
            "718/718 [==============================] - 435s 605ms/step - loss: 0.5027 - accuracy: 1.0000 - val_loss: 3.2831 - val_accuracy: 0.3807\n",
            "Epoch 86/100\n",
            "718/718 [==============================] - 431s 600ms/step - loss: 0.4885 - accuracy: 1.0000 - val_loss: 3.2815 - val_accuracy: 0.3809\n",
            "Epoch 87/100\n",
            "718/718 [==============================] - 430s 599ms/step - loss: 0.4747 - accuracy: 1.0000 - val_loss: 3.2598 - val_accuracy: 0.3793\n",
            "Epoch 88/100\n",
            "718/718 [==============================] - 470s 655ms/step - loss: 0.4613 - accuracy: 1.0000 - val_loss: 3.2641 - val_accuracy: 0.3781\n",
            "Epoch 89/100\n",
            "718/718 [==============================] - 473s 658ms/step - loss: 0.4483 - accuracy: 1.0000 - val_loss: 3.2490 - val_accuracy: 0.3785\n",
            "Epoch 90/100\n",
            "718/718 [==============================] - 477s 665ms/step - loss: 0.4356 - accuracy: 1.0000 - val_loss: 3.2437 - val_accuracy: 0.3792\n",
            "Epoch 91/100\n",
            "718/718 [==============================] - 567s 789ms/step - loss: 0.4233 - accuracy: 1.0000 - val_loss: 3.2329 - val_accuracy: 0.3800\n",
            "Epoch 92/100\n",
            "718/718 [==============================] - 587s 818ms/step - loss: 0.4114 - accuracy: 1.0000 - val_loss: 3.2232 - val_accuracy: 0.3804\n",
            "Epoch 93/100\n",
            "253/718 [=========>....................] - ETA: 5:55 - loss: 0.4035 - accuracy: 1.0000"
          ]
        }
      ],
      "source": [
        "CNN10_hist = CNN10.fit(train_data, epochs=100, validation_data=valid_data, verbose=1, callbacks=[\n",
        "        keras.callbacks.EarlyStopping(patience=8, verbose=1, restore_best_weights=True)])"
      ]
    },
    {
      "cell_type": "code",
      "execution_count": null,
      "id": "22773f0c",
      "metadata": {
        "id": "22773f0c"
      },
      "outputs": [],
      "source": [
        "plot_model_performance(CNN10_hist, 'Convultional Neural Network', save=True)"
      ]
    },
    {
      "cell_type": "code",
      "execution_count": null,
      "id": "3190d2b9",
      "metadata": {
        "id": "3190d2b9"
      },
      "outputs": [],
      "source": [
        "train_loss, train_acc = CNN10.evaluate(train_data, verbose=1)\n",
        "valid_loss, valid_acc = CNN10.evaluate(valid_data, verbose=1)\n",
        "\n",
        "print(f'\\n\\nTraining Accuracy:\\t{train_acc * 100}\\nTraining Loss:\\t\\t{train_loss}\\n')\n",
        "print(f'Validation Accuracy:\\t{valid_acc * 100}\\nValidation Loss:\\t{valid_loss}\\n')\n",
        "print('Train/Validation Diff:\\t', np.abs(train_acc - valid_acc) * 100)"
      ]
    },
    {
      "cell_type": "code",
      "execution_count": null,
      "id": "a3e0edac",
      "metadata": {
        "id": "a3e0edac"
      },
      "outputs": [],
      "source": [
        "CNN10.save('Deliverables/cnn10_model.h5')"
      ]
    },
    {
      "cell_type": "markdown",
      "id": "9a2d589f",
      "metadata": {
        "id": "9a2d589f"
      },
      "source": [
        "## CNN-v11 "
      ]
    },
    {
      "cell_type": "code",
      "execution_count": null,
      "id": "5cf966c8",
      "metadata": {
        "id": "5cf966c8"
      },
      "outputs": [],
      "source": [
        "CNN11 = Sequential()\n",
        "\n",
        "CNN11.add(Conv2D(filters=64, kernel_size=3, activation='relu', padding='same',kernel_regularizer='l2'))\n",
        "CNN11.add(MaxPooling2D())\n",
        "CNN11.add(BatchNormalization())\n",
        "\n",
        "\n",
        "CNN11.add(Conv2D(filters=128, kernel_size=3, activation='relu', padding='same',kernel_regularizer='l2'))\n",
        "CNN11.add(MaxPooling2D())\n",
        "CNN11.add(BatchNormalization())\n",
        "\n",
        "             \n",
        "CNN11.add(Conv2D(filters=256, kernel_size=3, activation='relu', padding='same',kernel_regularizer='l2'))\n",
        "CNN11.add(BatchNormalization())\n",
        "CNN11.add(BatchNormalization())\n",
        "\n",
        "     \n",
        "CNN11.add(Flatten()) # after flatten we can add dence layer\n",
        "CNN11.add(Dense(512))\n",
        "CNN11.add(Activation('relu'))\n",
        "CNN11.add(BatchNormalization())\n",
        "\n",
        "\n",
        "CNN11.add(Dense(256)) # CNN9.add(Dense(512,kernel_initializer='he_normal'))\n",
        "CNN11.add(Activation('relu'))\n",
        "CNN11.add(BatchNormalization())\n",
        "\n",
        "\n",
        "CNN11.add(Dense(128))\n",
        "CNN11.add(Activation('relu'))\n",
        "CNN11.add(BatchNormalization())\n",
        "\n",
        "CNN11.add(Dense(64))\n",
        "CNN11.add(Activation('relu'))\n",
        "CNN11.add(BatchNormalization())\n",
        "\n",
        "CNN11.add(Dense(32))\n",
        "CNN11.add(Activation('relu'))\n",
        "CNN11.add(BatchNormalization())\n",
        "\n",
        "CNN11.add(Dense(7, activation='softmax'))\n",
        "\n",
        "CNN11.compile(loss='sparse_categorical_crossentropy', optimizer=Adam(learning_rate=0.001), metrics=['accuracy'])"
      ]
    },
    {
      "cell_type": "code",
      "execution_count": null,
      "id": "12c5252b",
      "metadata": {
        "id": "12c5252b"
      },
      "outputs": [],
      "source": [
        "CNN11_hist = CNN11.fit(train_data, epochs=100, validation_data=valid_data, verbose=1, callbacks=[\n",
        "        keras.callbacks.EarlyStopping(patience=8, verbose=1, restore_best_weights=True)])"
      ]
    },
    {
      "cell_type": "code",
      "execution_count": null,
      "id": "aed1a049",
      "metadata": {
        "id": "aed1a049"
      },
      "outputs": [],
      "source": [
        "plot_model_performance(CNN11_hist, 'Convultional Neural Network', save=True)"
      ]
    },
    {
      "cell_type": "code",
      "execution_count": null,
      "id": "23736c81",
      "metadata": {
        "id": "23736c81"
      },
      "outputs": [],
      "source": [
        "train_loss, train_acc = CNN11.evaluate(train_data, verbose=1)\n",
        "valid_loss, valid_acc = CNN11.evaluate(valid_data, verbose=1)\n",
        "\n",
        "print(f'\\n\\nTraining Accuracy:\\t{train_acc * 100}\\nTraining Loss:\\t\\t{train_loss}\\n')\n",
        "print(f'Validation Accuracy:\\t{valid_acc * 100}\\nValidation Loss:\\t{valid_loss}\\n')\n",
        "print('Train/Validation Diff:\\t', np.abs(train_acc - valid_acc) * 100)"
      ]
    },
    {
      "cell_type": "code",
      "execution_count": null,
      "id": "18d1b03b",
      "metadata": {
        "id": "18d1b03b"
      },
      "outputs": [],
      "source": [
        "CNN11.save('Deliverables/cnn11_model.h5')"
      ]
    },
    {
      "cell_type": "markdown",
      "id": "e210f461",
      "metadata": {
        "id": "e210f461"
      },
      "source": [
        "#Transfer Learning"
      ]
    },
    {
      "cell_type": "markdown",
      "id": "f2681615",
      "metadata": {
        "id": "f2681615"
      },
      "source": [
        "##  DenseNet"
      ]
    },
    {
      "cell_type": "code",
      "execution_count": null,
      "id": "b87f93c7",
      "metadata": {
        "id": "b87f93c7"
      },
      "outputs": [],
      "source": [
        "# Freeze layers\n",
        "dense_net = DenseNet169(weights='imagenet', include_top=False, input_shape=None)\n",
        "\n",
        "for layer in dense_net.layers:\n",
        "    layer.trainable = False"
      ]
    },
    {
      "cell_type": "code",
      "execution_count": null,
      "id": "8870ba8a",
      "metadata": {
        "id": "8870ba8a",
        "outputId": "ff1f1579-36e0-4e98-8849-b0a32a882b8c"
      },
      "outputs": [
        {
          "name": "stdout",
          "output_type": "stream",
          "text": [
            "Model: \"sequential_2\"\n",
            "_________________________________________________________________\n",
            " Layer (type)                Output Shape              Param #   \n",
            "=================================================================\n",
            " densenet169 (Functional)    (None, None, None, 1664)  12642880  \n",
            "                                                                 \n",
            " global_average_pooling2d_1   (None, 1664)             0         \n",
            " (GlobalAveragePooling2D)                                        \n",
            "                                                                 \n",
            " dense_3 (Dense)             (None, 256)               426240    \n",
            "                                                                 \n",
            " batch_normalization_2 (Batc  (None, 256)              1024      \n",
            " hNormalization)                                                 \n",
            "                                                                 \n",
            " dense_4 (Dense)             (None, 128)               32896     \n",
            "                                                                 \n",
            " batch_normalization_3 (Batc  (None, 128)              512       \n",
            " hNormalization)                                                 \n",
            "                                                                 \n",
            " dense_5 (Dense)             (None, 7)                 903       \n",
            "                                                                 \n",
            "=================================================================\n",
            "Total params: 13,104,455\n",
            "Trainable params: 460,807\n",
            "Non-trainable params: 12,643,648\n",
            "_________________________________________________________________\n"
          ]
        }
      ],
      "source": [
        "CNN_dense_transfer = Sequential()\n",
        "CNN_dense_transfer.add(dense_net)\n",
        "CNN_dense_transfer.add(GlobalAveragePooling2D())\n",
        "\n",
        "CNN_dense_transfer.add(Dense(256 , activation ='relu'))\n",
        "CNN_dense_transfer.add(BatchNormalization())\n",
        "CNN_dense_transfer.add(Dense(128 , activation ='relu'))\n",
        "CNN_dense_transfer.add(Dense(60 , activation ='relu'))\n",
        "CNN_dense_transfer.add(BatchNormalization())\n",
        "\n",
        "CNN_dense_transfer.add(Dense(7, activation='softmax'))\n",
        "\n",
        "CNN_dense_transfer.compile(loss='sparse_categorical_crossentropy', optimizer=sgd_opt, metrics = ['accuracy'])\n",
        "CNN_dense_transfer.summary()"
      ]
    },
    {
      "cell_type": "code",
      "execution_count": null,
      "id": "e577e254",
      "metadata": {
        "id": "e577e254",
        "outputId": "66dcbfbf-edad-47e3-cf5e-b30d12839a74"
      },
      "outputs": [
        {
          "name": "stdout",
          "output_type": "stream",
          "text": [
            "Epoch 1/10\n",
            "718/718 [==============================] - ETA: 0s - loss: 2.0322 - accuracy: 0.2231"
          ]
        }
      ],
      "source": [
        "CNN_dense_transfer_hist = CNN_dense_transfer.fit(train_data, epochs=10, validation_data=valid_data, verbose=1)"
      ]
    },
    {
      "cell_type": "code",
      "execution_count": null,
      "id": "cbbbca03",
      "metadata": {
        "id": "cbbbca03"
      },
      "outputs": [],
      "source": [
        "plot_model_performance(CNN_dense_transfer_hist, 'Convultional Neural Network with DenseNet Transfer Learning', save=True)"
      ]
    },
    {
      "cell_type": "code",
      "execution_count": null,
      "id": "46a29e28",
      "metadata": {
        "id": "46a29e28"
      },
      "outputs": [],
      "source": [
        "train_loss, train_acc = CNN_dense_transfer.evaluate(train_data, verbose=1)\n",
        "valid_loss, valid_acc = CNN_dense_transfer.evaluate(valid_data, verbose=1)\n",
        "\n",
        "print(f'\\n\\nTraining Accuracy:\\t{train_acc * 100}\\nTraining Loss:\\t\\t{train_loss}\\n')\n",
        "print(f'Validation Accuracy:\\t{valid_acc * 100}\\nValidation Loss:\\t{valid_loss}\\n')\n",
        "print('Train/Validation Diff:\\t', np.abs(train_acc - valid_acc) * 100)"
      ]
    },
    {
      "cell_type": "markdown",
      "id": "4589cdc5",
      "metadata": {
        "id": "4589cdc5"
      },
      "source": [
        "## VGG16-v1"
      ]
    },
    {
      "cell_type": "code",
      "execution_count": null,
      "id": "155d570e",
      "metadata": {
        "id": "155d570e"
      },
      "outputs": [],
      "source": [
        "\n",
        "vgg = VGG16(weights='imagenet', include_top=False, input_shape=(48,48,3))\n",
        "for layer in vgg.layers:\n",
        "    layer.trainable = False\n"
      ]
    },
    {
      "cell_type": "code",
      "execution_count": null,
      "id": "d787c34a",
      "metadata": {
        "id": "d787c34a"
      },
      "outputs": [],
      "source": [
        "vgg_16_transfer = Sequential()\n",
        "\n",
        "vgg_16_transfer.add(data_augmentation)\n",
        "\n",
        "vgg_16_transfer.add(vgg)\n",
        "\n",
        "#vgg_16_transfer.add(GlobalAveragePooling2D()) # try it using max Pooling2\n",
        "\n",
        "vgg_16_transfer.add(Dense(125 , activation ='relu'))\n",
        "vgg_16_transfer.add(BatchNormalization())\n",
        "vgg_16_transfer.add(Dense(25 , activation ='relu'))\n",
        "vgg_16_transfer.add(BatchNormalization())\n",
        "\n",
        "#vgg_16_transfer.add(GlobalMaxPooling2D())\n",
        "vgg_16_transfer.add(Dense(7, activation='softmax'))\n",
        "\n",
        "vgg_16_transfer.compile(loss='sparse_categorical_crossentropy', optimizer='adam', metrics = ['accuracy'])"
      ]
    },
    {
      "cell_type": "code",
      "execution_count": null,
      "id": "6d18ec85",
      "metadata": {
        "id": "6d18ec85",
        "outputId": "dbe60d9e-e5c7-4eb9-a530-4f468d748ae1"
      },
      "outputs": [
        {
          "name": "stdout",
          "output_type": "stream",
          "text": [
            "Epoch 1/15\n",
            "718/718 [==============================] - 312s 433ms/step - loss: 1.7116 - accuracy: 0.1878 - val_loss: 1.6001 - val_accuracy: 0.2002\n",
            "Epoch 2/15\n",
            "718/718 [==============================] - 327s 455ms/step - loss: 1.5514 - accuracy: 0.1908 - val_loss: 1.5751 - val_accuracy: 0.2057\n",
            "Epoch 3/15\n",
            "718/718 [==============================] - 328s 457ms/step - loss: 1.5068 - accuracy: 0.1897 - val_loss: 1.5592 - val_accuracy: 0.1979\n",
            "Epoch 4/15\n",
            "718/718 [==============================] - 331s 461ms/step - loss: 1.4751 - accuracy: 0.1893 - val_loss: 1.5880 - val_accuracy: 0.1955\n",
            "Epoch 5/15\n",
            "718/718 [==============================] - 329s 458ms/step - loss: 1.4486 - accuracy: 0.1887 - val_loss: 1.6040 - val_accuracy: 0.1797\n",
            "Epoch 6/15\n",
            "718/718 [==============================] - 328s 457ms/step - loss: 1.4263 - accuracy: 0.1885 - val_loss: 1.6026 - val_accuracy: 0.1796\n",
            "Epoch 7/15\n",
            "718/718 [==============================] - 330s 460ms/step - loss: 1.4020 - accuracy: 0.1883 - val_loss: 1.6002 - val_accuracy: 0.1831\n",
            "Epoch 8/15\n",
            "718/718 [==============================] - 337s 469ms/step - loss: 1.3766 - accuracy: 0.1882 - val_loss: 1.6078 - val_accuracy: 0.1824\n",
            "Epoch 9/15\n",
            "718/718 [==============================] - 337s 470ms/step - loss: 1.3549 - accuracy: 0.1879 - val_loss: 1.6257 - val_accuracy: 0.1781\n",
            "Epoch 10/15\n",
            "718/718 [==============================] - 343s 478ms/step - loss: 1.3316 - accuracy: 0.1876 - val_loss: 1.6306 - val_accuracy: 0.1850\n",
            "Epoch 11/15\n",
            "718/718 [==============================] - 346s 481ms/step - loss: 1.3056 - accuracy: 0.1869 - val_loss: 1.6615 - val_accuracy: 0.1821\n",
            "Epoch 12/15\n",
            "718/718 [==============================] - 345s 480ms/step - loss: 1.2891 - accuracy: 0.1873 - val_loss: 1.6618 - val_accuracy: 0.1767\n",
            "Epoch 13/15\n",
            "718/718 [==============================] - 345s 481ms/step - loss: 1.2624 - accuracy: 0.1874 - val_loss: 1.6782 - val_accuracy: 0.1801\n",
            "Epoch 14/15\n",
            "718/718 [==============================] - 330s 459ms/step - loss: 1.2387 - accuracy: 0.1867 - val_loss: 1.6772 - val_accuracy: 0.1822\n",
            "Epoch 15/15\n",
            "718/718 [==============================] - 336s 467ms/step - loss: 1.2184 - accuracy: 0.1866 - val_loss: 1.7029 - val_accuracy: 0.1791\n"
          ]
        }
      ],
      "source": [
        "vgg_16_transfer_hist = vgg_16_transfer.fit(train_data, epochs=15, validation_data=valid_data, verbose=1)"
      ]
    },
    {
      "cell_type": "code",
      "execution_count": null,
      "id": "f8bb525c",
      "metadata": {
        "id": "f8bb525c",
        "outputId": "743cb300-01d3-4104-ae5d-c470dfadd0bd"
      },
      "outputs": [
        {
          "data": {
            "image/png": "[encoded data removed]",
            "text/plain": [
              "<Figure size 576x360 with 1 Axes>"
            ]
          },
          "metadata": {
            "needs_background": "light"
          },
          "output_type": "display_data"
        }
      ],
      "source": [
        "plot_model_performance(vgg_16_transfer, 'Convultional Neural Network with VGG16 Transfer Learning', save=True)"
      ]
    },
    {
      "cell_type": "code",
      "execution_count": null,
      "id": "2eafcf62",
      "metadata": {
        "id": "2eafcf62"
      },
      "outputs": [],
      "source": [
        "train_loss, train_acc = vgg_16_transfer.evaluate(train_data, verbose=1)\n",
        "valid_loss, valid_acc = vgg_16_transfer.evaluate(valid_data, verbose=1)\n",
        "\n",
        "print(f'\\n\\nTraining Accuracy:\\t{train_acc * 100}\\nTraining Loss:\\t\\t{train_loss}\\n')\n",
        "print(f'Validation Accuracy:\\t{valid_acc * 100}\\nValidation Loss:\\t{valid_loss}\\n')\n",
        "print('Train/Validation Diff:\\t', np.abs(train_acc - valid_acc) * 100)"
      ]
    },
    {
      "cell_type": "markdown",
      "source": [
        "## VGG16-v2"
      ],
      "metadata": {
        "id": "blFx1Lnngn0u"
      },
      "id": "blFx1Lnngn0u"
    },
    {
      "cell_type": "code",
      "execution_count": null,
      "id": "e09f3f02",
      "metadata": {
        "id": "e09f3f02"
      },
      "outputs": [],
      "source": [
        "'''\n",
        "from keras.applications.vgg16 import VGG16 \n",
        "vgg = VGG16(weights='imagenet', include_top=False, input_shape=(48,48,3))\n",
        "for layer in vgg.layers:\n",
        "    layer.trainable = False\n",
        "    \n",
        "'''"
      ]
    },
    {
      "cell_type": "code",
      "execution_count": null,
      "id": "837b01aa",
      "metadata": {
        "id": "837b01aa",
        "outputId": "6fba31bf-b855-463f-e259-62fb2526c4d8"
      },
      "outputs": [
        {
          "data": {
            "text/plain": [
              "\"\\nvgg_model = Sequential([InputLayer (input_shape=(48,48,1)),\\n                         vgg,\\n                         Conv2D (filters=20,kernel_size=3, activation='tanh',padding='valid'),\\n                         MaxPooling2D(),\\n                         \\n                         Flatten(),\\n                         Dense (125, activation='tanh'),\\n                         Dropout (rate=.25, seed=123),\\n                         \\n                         Dense (25, activation='tanh'),\\n                         Dropout (rate=.25, seed=123),\\n                         \\n                         Dense (7, activation='softmax') ])\\n\\n\\nvgg_model.compile(loss='sparse_categorical_crossentropy', optimizer='adam', metrics = ['accuracy'])\\n                   \\nvgg_model.summary()   \\n\""
            ]
          },
          "execution_count": 43,
          "metadata": {},
          "output_type": "execute_result"
        }
      ],
      "source": [
        "'''\n",
        "vgg_model = Sequential([InputLayer (input_shape=(48,48,1)),\n",
        "                         vgg,\n",
        "                         Conv2D (filters=20,kernel_size=3, activation='tanh',padding='valid'),\n",
        "                         MaxPooling2D(),\n",
        "                         \n",
        "                         Flatten(),\n",
        "                         Dense (125, activation='tanh'),\n",
        "                         Dropout (rate=.25, seed=123),\n",
        "                         \n",
        "                         Dense (25, activation='tanh'),\n",
        "                         Dropout (rate=.25, seed=123),\n",
        "                         \n",
        "                         Dense (7, activation='softmax') ])\n",
        "\n",
        "\n",
        "vgg_model.compile(loss='sparse_categorical_crossentropy', optimizer='adam', metrics = ['accuracy'])\n",
        "                   \n",
        "vgg_model.summary()   \n",
        "'''"
      ]
    },
    {
      "cell_type": "code",
      "source": [
        ""
      ],
      "metadata": {
        "id": "tNI9AUixgqQM"
      },
      "id": "tNI9AUixgqQM",
      "execution_count": null,
      "outputs": []
    },
    {
      "cell_type": "markdown",
      "id": "32e7aeab",
      "metadata": {
        "id": "32e7aeab"
      },
      "source": [
        "## VGG19"
      ]
    },
    {
      "cell_type": "code",
      "execution_count": null,
      "id": "12eaa473",
      "metadata": {
        "id": "12eaa473",
        "outputId": "7593e3b4-3bef-417c-f653-586bcb126677"
      },
      "outputs": [
        {
          "name": "stdout",
          "output_type": "stream",
          "text": [
            "Downloading data from https://storage.googleapis.com/tensorflow/keras-applications/vgg19/vgg19_weights_tf_dim_ordering_tf_kernels_notop.h5\n",
            "80142336/80134624 [==============================] - 183s 2us/step\n",
            "80150528/80134624 [==============================] - 183s 2us/step\n"
          ]
        }
      ],
      "source": [
        "vgg_19 = VGG19(weights='imagenet', include_top=False, input_shape=None)\n",
        "\n",
        "for layer in vgg_19.layers[:-2]:\n",
        "    layer.trainable = False"
      ]
    },
    {
      "cell_type": "code",
      "execution_count": null,
      "id": "46aafa0e",
      "metadata": {
        "id": "46aafa0e"
      },
      "outputs": [],
      "source": [
        "vgg_19_transfer = Sequential()\n",
        "vgg_19_transfer.add(Dropout(0.2)) # dropout\n",
        "vgg_19_transfer.add(data_augmentation)\n",
        "\n",
        "vgg_19_transfer.add(vgg_19)\n",
        "\n",
        "vgg_19_transfer.add(GlobalAveragePooling2D())\n",
        "\n",
        "vgg_19_transfer.add(Dense(200 , activation ='relu', kernel_regularizer=regularizers.l2(0.01))) # , kernel_regularizer=regularizers.l2(0.01)\n",
        "vgg_19_transfer.add(BatchNormalization()) \n",
        "vgg_19_transfer.add(Dense(100 , activation ='relu'))\n",
        "\n",
        "vgg_19_transfer.add(BatchNormalization())\n",
        "vgg_19_transfer.add(Dense(50 , activation ='relu'))\n",
        "vgg_19_transfer.add(BatchNormalization())\n",
        "vgg_19_transfer.add(Dense(7, activation='softmax'))\n",
        "\n",
        "vgg_19_transfer.compile(loss='sparse_categorical_crossentropy', optimizer='adam', metrics = ['accuracy'])"
      ]
    },
    {
      "cell_type": "code",
      "execution_count": null,
      "id": "b3553290",
      "metadata": {
        "id": "b3553290",
        "outputId": "3d2a6be4-6746-40da-b149-086ce1ecc1e8"
      },
      "outputs": [
        {
          "name": "stdout",
          "output_type": "stream",
          "text": [
            "Epoch 1/10\n",
            "718/718 [==============================] - 501s 695ms/step - loss: 2.4124 - accuracy: 0.2765 - val_loss: 2.0448 - val_accuracy: 0.2659 - lr: 0.0010\n",
            "Epoch 2/10\n",
            "718/718 [==============================] - 518s 722ms/step - loss: 1.7967 - accuracy: 0.3084 - val_loss: 1.8306 - val_accuracy: 0.2800 - lr: 0.0010\n",
            "Epoch 3/10\n",
            "718/718 [==============================] - 579s 806ms/step - loss: 1.7245 - accuracy: 0.3189 - val_loss: 1.7975 - val_accuracy: 0.2591 - lr: 0.0010\n",
            "Epoch 4/10\n",
            "718/718 [==============================] - 777s 1s/step - loss: 1.7031 - accuracy: 0.3268 - val_loss: 1.7463 - val_accuracy: 0.3082 - lr: 0.0010\n",
            "Epoch 5/10\n",
            "718/718 [==============================] - 638s 889ms/step - loss: 1.6955 - accuracy: 0.3274 - val_loss: 1.9954 - val_accuracy: 0.2467 - lr: 0.0010\n",
            "Epoch 6/10\n",
            "718/718 [==============================] - 760s 1s/step - loss: 1.6900 - accuracy: 0.3354 - val_loss: 2.1755 - val_accuracy: 0.1397 - lr: 0.0010\n",
            "Epoch 7/10\n",
            "718/718 [==============================] - ETA: 0s - loss: 1.6848 - accuracy: 0.3378\n",
            "Epoch 00007: ReduceLROnPlateau reducing learning rate to 0.0005000000237487257.\n",
            "718/718 [==============================] - 643s 894ms/step - loss: 1.6848 - accuracy: 0.3378 - val_loss: 2.0197 - val_accuracy: 0.2297 - lr: 0.0010\n",
            "Epoch 8/10\n",
            "718/718 [==============================] - 1084s 2s/step - loss: 1.6605 - accuracy: 0.3488 - val_loss: 2.5381 - val_accuracy: 0.1787 - lr: 5.0000e-04\n",
            "Epoch 9/10\n",
            "718/718 [==============================] - 1691s 2s/step - loss: 1.6514 - accuracy: 0.3494 - val_loss: 2.2668 - val_accuracy: 0.1918 - lr: 5.0000e-04\n",
            "Epoch 10/10\n",
            "718/718 [==============================] - ETA: 0s - loss: 1.6474 - accuracy: 0.3528\n",
            "Epoch 00010: ReduceLROnPlateau reducing learning rate to 0.0002500000118743628.\n",
            "718/718 [==============================] - 891s 1s/step - loss: 1.6474 - accuracy: 0.3528 - val_loss: 1.7468 - val_accuracy: 0.3049 - lr: 5.0000e-04\n"
          ]
        },
        {
          "data": {
            "text/plain": [
              "'\\n,callbacks=[\\n        keras.callbacks.EarlyStopping(patience=8, verbose=1, restore_best_weights=True),\\n        keras.callbacks.ReduceLROnPlateau(factor=.5, patience=3, verbose=1),\\n    ]\\n'"
            ]
          },
          "execution_count": 27,
          "metadata": {},
          "output_type": "execute_result"
        }
      ],
      "source": [
        "vgg_19_transfer_hist = vgg_19_transfer.fit(train_data, epochs=10, validation_data=valid_data, verbose=1,callbacks=[\n",
        "        keras.callbacks.EarlyStopping(patience=8, verbose=1, restore_best_weights=True),\n",
        "        keras.callbacks.ReduceLROnPlateau(factor=.5, patience=3, verbose=1),\n",
        "    ])\n",
        "\n",
        "'''\n",
        ",callbacks=[\n",
        "        keras.callbacks.EarlyStopping(patience=8, verbose=1, restore_best_weights=True),\n",
        "        keras.callbacks.ReduceLROnPlateau(factor=.5, patience=3, verbose=1),\n",
        "    ]\n",
        "'''"
      ]
    },
    {
      "cell_type": "code",
      "execution_count": null,
      "id": "c360b867",
      "metadata": {
        "id": "c360b867",
        "outputId": "aaf13e9d-8448-4b40-c3ba-8720cfa4110a"
      },
      "outputs": [
        {
          "data": {
            "image/png": "[encoded data removed]",
            "text/plain": [
              "<Figure size 576x360 with 1 Axes>"
            ]
          },
          "metadata": {
            "needs_background": "light"
          },
          "output_type": "display_data"
        }
      ],
      "source": [
        "plot_model_performance(vgg_19_transfer_hist, 'Convultional Neural Network with VGG19 Transfer Learning', save=True)"
      ]
    },
    {
      "cell_type": "code",
      "execution_count": null,
      "id": "5250dea9",
      "metadata": {
        "id": "5250dea9",
        "outputId": "cda5b1c5-d1f2-40fb-e3a9-98e60f48daa6"
      },
      "outputs": [
        {
          "name": "stdout",
          "output_type": "stream",
          "text": [
            "718/718 [==============================] - 392s 545ms/step - loss: 1.7213 - accuracy: 0.3218\n",
            "180/180 [==============================] - 96s 534ms/step - loss: 1.7468 - accuracy: 0.3049\n",
            "\n",
            "\n",
            "Training Accuracy:\t32.183608412742615\n",
            "Training Loss:\t\t1.7213045358657837\n",
            "\n",
            "Validation Accuracy:\t30.485472083091736\n",
            "Validation Loss:\t1.7467519044876099\n",
            "\n",
            "Train/Validation Diff:\t 1.698136329650879\n"
          ]
        }
      ],
      "source": [
        "train_loss, train_acc = vgg_19_transfer.evaluate(train_data, verbose=1)\n",
        "valid_loss, valid_acc = vgg_19_transfer.evaluate(valid_data, verbose=1)\n",
        "\n",
        "print(f'\\n\\nTraining Accuracy:\\t{train_acc * 100}\\nTraining Loss:\\t\\t{train_loss}\\n')\n",
        "print(f'Validation Accuracy:\\t{valid_acc * 100}\\nValidation Loss:\\t{valid_loss}\\n')\n",
        "print('Train/Validation Diff:\\t', np.abs(train_acc - valid_acc) * 100)"
      ]
    },
    {
      "cell_type": "code",
      "execution_count": null,
      "id": "fd13381d",
      "metadata": {
        "id": "fd13381d"
      },
      "outputs": [],
      "source": [
        "vgg_19_transfer.save('Deliverables/vgg_19_transfer.h5')"
      ]
    },
    {
      "cell_type": "code",
      "execution_count": null,
      "id": "2bea5746",
      "metadata": {
        "id": "2bea5746"
      },
      "outputs": [],
      "source": [
        "#pickle.dump(vgg_19_transfer, open('vgg_19_transfer.pkl', 'wb'))"
      ]
    },
    {
      "cell_type": "markdown",
      "id": "42532a39",
      "metadata": {
        "id": "42532a39"
      },
      "source": [
        "## ResNet50-v1"
      ]
    },
    {
      "cell_type": "code",
      "execution_count": 2,
      "id": "1cdc3620",
      "metadata": {
        "id": "1cdc3620"
      },
      "outputs": [],
      "source": [
        "resnet_50 = ResNet50(weights='imagenet', include_top=False, input_shape=None)\n",
        "\n",
        "for layer in resnet_50.layers[:-1]:\n",
        "    layer.trainable = False"
      ]
    },
    {
      "cell_type": "code",
      "execution_count": 2,
      "id": "3c0fd4e4",
      "metadata": {
        "id": "3c0fd4e4"
      },
      "outputs": [],
      "source": [
        "resnet_transfer = Sequential()\n",
        "\n",
        "resnet_transfer.add(data_augmentation)\n",
        "\n",
        "resnet_transfer.add(resnet_50)\n",
        "\n",
        "resnet_transfer.add(GlobalAveragePooling2D())\n",
        "\n",
        "resnet_transfer.add(Dense(200 , activation ='relu'))\n",
        "resnet_transfer.add(BatchNormalization())\n",
        "resnet_transfer.add(Dense(100 , activation ='relu'))\n",
        "resnet_transfer.add(BatchNormalization())\n",
        "resnet_transfer.add(Dense(100 , activation ='relu'))\n",
        "resnet_transfer.add(BatchNormalization())\n",
        "\n",
        "resnet_transfer.add(Dense(7 , activation='softmax'))\n",
        "\n",
        "resnet_transfer.compile(loss='sparse_categorical_crossentropy', optimizer='adam', metrics = ['accuracy'])"
      ]
    },
    {
      "cell_type": "code",
      "execution_count": 2,
      "id": "3592ebea",
      "metadata": {
        "id": "3592ebea"
      },
      "outputs": [],
      "source": [
        "resnet_transfer_hist = resnet_transfer.fit(train_data, epochs=15, validation_data=valid_data, verbose=1)"
      ]
    },
    {
      "cell_type": "code",
      "execution_count": 2,
      "id": "26a3fb81",
      "metadata": {
        "id": "26a3fb81"
      },
      "outputs": [],
      "source": [
        "plot_model_performance(resnet_transfer_hist, 'Convultional Neural Network with ResNet50 Transfer Learning', save=True)"
      ]
    },
    {
      "cell_type": "code",
      "execution_count": 2,
      "id": "88121cc0",
      "metadata": {
        "id": "88121cc0"
      },
      "outputs": [],
      "source": [
        "train_loss, train_acc = resnet_transfer.evaluate(train_data, verbose=1)\n",
        "valid_loss, valid_acc = resnet_transfer.evaluate(valid_data, verbose=1)\n",
        "\n",
        "print(f'\\n\\nTraining Accuracy:\\t{train_acc * 100}\\nTraining Loss:\\t\\t{train_loss}\\n')\n",
        "print(f'Validation Accuracy:\\t{valid_acc * 100}\\nValidation Loss:\\t{valid_loss}\\n')\n",
        "print('Train/Validation Diff:\\t', np.abs(train_acc - valid_acc) * 100)"
      ]
    },
    {
      "cell_type": "code",
      "execution_count": 2,
      "id": "3d2130a4",
      "metadata": {
        "id": "3d2130a4"
      },
      "outputs": [],
      "source": [
        "resnet_transfer.save('Deliverables/resnet_transfer.h5')"
      ]
    },
    {
      "cell_type": "markdown",
      "source": [
        "## ResNet50-v2"
      ],
      "metadata": {
        "id": "f147s2i4gQH_"
      },
      "id": "f147s2i4gQH_"
    },
    {
      "cell_type": "code",
      "source": [
        "resnet_transfer = Sequential()\n",
        "\n",
        "resnet_transfer.add(data_augmentation)\n",
        "\n",
        "resnet_transfer.add(resnet_50)\n",
        "\n",
        "\n",
        "resnet_transfer.add(Conv2D(filters=64, kernel_size=3, activation='relu', padding='same'))\n",
        "resnet_transfer.add(BatchNormalization())\n",
        "\n",
        "resnet_transfer.add(Conv2D(filters=128, kernel_size=3, activation='relu', padding='same'))\n",
        "resnet_transfer.add(BatchNormalization())\n",
        "\n",
        "resnet_transfer.add(Flatten()) # after flatten we can add dence lyer\n",
        "\n",
        "\n",
        "resnet_transfer.add(Dense(200 , activation ='relu'))\n",
        "resnet_transfer.add(BatchNormalization())\n",
        "\n",
        "resnet_transfer.add(Dense(100 , activation ='relu'))\n",
        "resnet_transfer.add(BatchNormalization())\n",
        "\n",
        "resnet_transfer.add(Dense(50 , activation ='relu'))\n",
        "resnet_transfer.add(BatchNormalization())\n",
        "\n",
        "resnet_transfer.add(Dense(7 , activation='softmax'))\n",
        "\n",
        "resnet_transfer.compile(loss='sparse_categorical_crossentropy', optimizer='adam', metrics = ['accuracy'])"
      ],
      "metadata": {
        "id": "2R7Y5PeDgWWQ"
      },
      "id": "2R7Y5PeDgWWQ",
      "execution_count": null,
      "outputs": []
    },
    {
      "cell_type": "code",
      "source": [
        "resnet_transfer_hist = resnet_transfer.fit(train_data, epochs=15, validation_data=valid_data, verbose=1)"
      ],
      "metadata": {
        "id": "Cyga-SkwgZfJ"
      },
      "id": "Cyga-SkwgZfJ",
      "execution_count": null,
      "outputs": []
    },
    {
      "cell_type": "markdown",
      "id": "8ee45ae5",
      "metadata": {
        "id": "8ee45ae5"
      },
      "source": [
        "## MobileNet-v1"
      ]
    },
    {
      "cell_type": "code",
      "source": [
        "base_model = MobileNet( input_shape=(224,224,3), include_top= False )\n",
        "\n",
        "for layer in base_model.layers:\n",
        "  layer.trainable = False\n",
        "\n",
        "\n",
        "x = Flatten()(base_model.output)\n",
        "x = Dense(units=7 , activation='softmax' )(x)\n",
        "\n",
        "# creating our model.\n",
        "model = Model(base_model.input, x)"
      ],
      "metadata": {
        "id": "wcYHlGeDgRX5"
      },
      "id": "wcYHlGeDgRX5",
      "execution_count": null,
      "outputs": []
    },
    {
      "cell_type": "code",
      "source": [
        "## having early stopping and model check point \n",
        "\n",
        "from keras.callbacks import ModelCheckpoint, EarlyStopping\n",
        "\n",
        "# early stopping\n",
        "es = EarlyStopping(monitor='val_accuracy', min_delta= 0.01 , patience= 5, verbose= 1, mode='auto')\n",
        "\n",
        "# model check point\n",
        "mc = ModelCheckpoint(filepath=\"best_model.h5\", monitor= 'val_accuracy', verbose= 1, save_best_only= True, mode = 'auto')\n",
        "\n",
        "# puting call back in a list \n",
        "call_back = [es, mc]"
      ],
      "metadata": {
        "id": "LS3QGHp2r0kK"
      },
      "id": "LS3QGHp2r0kK",
      "execution_count": null,
      "outputs": []
    },
    {
      "cell_type": "code",
      "source": [
        "hist = model.fit_generator(train_data, \n",
        "                           steps_per_epoch= 10, \n",
        "                           epochs= 30, \n",
        "                           validation_data= val_data, \n",
        "                           validation_steps= 8, \n",
        "                           callbacks=[es,mc])"
      ],
      "metadata": {
        "id": "PAsCPGvXr3vb"
      },
      "id": "PAsCPGvXr3vb",
      "execution_count": null,
      "outputs": []
    },
    {
      "cell_type": "markdown",
      "source": [
        "## MobileNet-v2"
      ],
      "metadata": {
        "id": "nvVPSY-_sHzK"
      },
      "id": "nvVPSY-_sHzK"
    },
    {
      "cell_type": "code",
      "source": [
        "# Working with pre trained model \n",
        "from tensorflow.keras.layers import Activation, Conv2D, MaxPooling2D, Dense, Flatten, Dropout, BatchNormalization\n",
        "base_model = MobileNet( input_shape=(224,224,3), include_top= False )\n",
        "\n",
        "for layer in base_model.layers:\n",
        "  layer.trainable = False\n",
        "\n",
        "x =Conv2D(filters=128, kernel_size=3, activation='relu', padding='same')(base_model.output)\n",
        "x = Flatten()(x)\n",
        "x=Dense(1024,activation='relu')(x) #we add dense layers so that the model can learn more complex functions and classify for better results.\n",
        "x=Dense(1024,activation='relu')(x) #dense layer 2\n",
        "x=Dense(512,activation='relu')(x) #dense layer 3\n",
        "x = Dense(units=7 , activation='softmax' )(x)\n",
        "\n",
        "# creating our model.\n",
        "model = Model(base_model.input, x)"
      ],
      "metadata": {
        "id": "fEsgjLTxsJLx"
      },
      "id": "fEsgjLTxsJLx",
      "execution_count": null,
      "outputs": []
    },
    {
      "cell_type": "code",
      "source": [
        "hist = model.fit_generator(train_data, \n",
        "                           steps_per_epoch= 10, \n",
        "                           epochs= 30, \n",
        "                           validation_data= val_data, \n",
        "                           validation_steps= 8, \n",
        "                           callbacks=[es,mc])"
      ],
      "metadata": {
        "id": "Jb8PUf2VtcW6"
      },
      "id": "Jb8PUf2VtcW6",
      "execution_count": null,
      "outputs": []
    },
    {
      "cell_type": "markdown",
      "source": [
        "# Chosen Model"
      ],
      "metadata": {
        "id": "rUQhKojGs4ri"
      },
      "id": "rUQhKojGs4ri"
    },
    {
      "cell_type": "markdown",
      "source": [
        "From all the models that were testted above, the best model in terms of highest validation accuracy, is the `CNN-v3` model"
      ],
      "metadata": {
        "id": "PpIRO_yRvwQE"
      },
      "id": "PpIRO_yRvwQE"
    }
  ],
  "metadata": {
    "accelerator": "GPU",
    "colab": {
      "collapsed_sections": [],
      "name": "Face Emotion Detection Code.ipynb",
      "provenance": []
    },
    "kernelspec": {
      "display_name": "Python 3",
      "language": "python",
      "name": "python3"
    },
    "language_info": {
      "codemirror_mode": {
        "name": "ipython",
        "version": 3
      },
      "file_extension": ".py",
      "mimetype": "text/x-python",
      "name": "python",
      "nbconvert_exporter": "python",
      "pygments_lexer": "ipython3",
      "version": "3.8.8"
    }
  },
  "nbformat": 4,
  "nbformat_minor": 5
}